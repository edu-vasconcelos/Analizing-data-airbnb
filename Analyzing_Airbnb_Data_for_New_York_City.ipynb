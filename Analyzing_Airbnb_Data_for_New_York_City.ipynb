{
  "nbformat": 4,
  "nbformat_minor": 0,
  "metadata": {
    "colab": {
      "provenance": [],
      "toc_visible": true
    },
    "kernelspec": {
      "name": "python3",
      "display_name": "Python 3"
    }
  },
  "cells": [
    {
      "cell_type": "markdown",
      "metadata": {
        "id": "kLI0gJtzDGuQ"
      },
      "source": [
        "\n",
        "# Análise dos Dados do Airbnb - New York City\n",
        "\n",
        "<center><img alt=\"New York\" width=\"80%\" src=\"https://mapadomundo.org/wp-content/uploads/2016/09/Times-Square_Fotor.jpg\"></center>\n",
        "\n",
        "\n",
        "O [Airbnb](https://www.airbnb.com.br/) é considerado como sendo a **maior empresa hoteleira da atualidade**. Ah, o detalhe é que ele **não possui nenhum hotel**!\n",
        "\n",
        "Conectando pessoas que querem viajar (e se hospedar) com anfitriões que querem alugar seus imóveis de maneira prática, o Airbnb fornece uma plataforma inovadora para tornar essa hospedagem alternativa.\n",
        "\n",
        "O [Airbnb](https://www.airbnb.com.br/) já **hospedou mais de 1 bilhão** de pessoas ao redor de todo o mundo, desafiando as redes hoteleiras tradicionais.\n",
        "\n",
        "Uma das iniciativas do Airbnb é disponibilizar dados do site, para algumas das principais cidades do mundo. Por meio do portal [Inside Airbnb](http://insideairbnb.com/get-the-data.html), é possível baixar uma grande quantidade de dados para desenvolver projetos e soluções de *Data Science*.\n",
        "\n",
        "<center><img alt=\"Analisando Airbnb\" width=\"10%\" src=\"https://www.area360.com.au/wp-content/uploads/2017/09/airbnb-logo.jpg\"></center>\n",
        "\n",
        "**Neste *notebook*, iremos analisar os dados referentes à cidade de Nova York e veremos quais insights podemos extrair a partir dos dados brutos.**"
      ]
    },
    {
      "cell_type": "markdown",
      "metadata": {
        "id": "0zxQHhIUDF_2"
      },
      "source": [
        "# Obtenção dos Dados e Pacotes Utilizados\n"
      ]
    },
    {
      "cell_type": "code",
      "metadata": {
        "id": "Vhp2wMPgJ6zX",
        "colab": {
          "base_uri": "https://localhost:8080/"
        },
        "outputId": "3bb9fc50-62e4-41a2-a196-7a1506c91f9e"
      },
      "source": [
        "# Pacotes Utilizados\n",
        "\n",
        "!pip install cartopy\n",
        "!pip install folium"
      ],
      "execution_count": 6,
      "outputs": [
        {
          "output_type": "stream",
          "name": "stdout",
          "text": [
            "Looking in indexes: https://pypi.org/simple, https://us-python.pkg.dev/colab-wheels/public/simple/\n",
            "Requirement already satisfied: cartopy in /usr/local/lib/python3.9/dist-packages (0.21.1)\n",
            "Requirement already satisfied: shapely>=1.6.4 in /usr/local/lib/python3.9/dist-packages (from cartopy) (2.0.1)\n",
            "Requirement already satisfied: pyproj>=3.0.0 in /usr/local/lib/python3.9/dist-packages (from cartopy) (3.4.1)\n",
            "Requirement already satisfied: numpy>=1.18 in /usr/local/lib/python3.9/dist-packages (from cartopy) (1.22.4)\n",
            "Requirement already satisfied: matplotlib>=3.1 in /usr/local/lib/python3.9/dist-packages (from cartopy) (3.7.1)\n",
            "Requirement already satisfied: pyshp>=2.1 in /usr/local/lib/python3.9/dist-packages (from cartopy) (2.3.1)\n",
            "Requirement already satisfied: importlib-resources>=3.2.0 in /usr/local/lib/python3.9/dist-packages (from matplotlib>=3.1->cartopy) (5.12.0)\n",
            "Requirement already satisfied: pillow>=6.2.0 in /usr/local/lib/python3.9/dist-packages (from matplotlib>=3.1->cartopy) (8.4.0)\n",
            "Requirement already satisfied: python-dateutil>=2.7 in /usr/local/lib/python3.9/dist-packages (from matplotlib>=3.1->cartopy) (2.8.2)\n",
            "Requirement already satisfied: pyparsing>=2.3.1 in /usr/local/lib/python3.9/dist-packages (from matplotlib>=3.1->cartopy) (3.0.9)\n",
            "Requirement already satisfied: packaging>=20.0 in /usr/local/lib/python3.9/dist-packages (from matplotlib>=3.1->cartopy) (23.0)\n",
            "Requirement already satisfied: cycler>=0.10 in /usr/local/lib/python3.9/dist-packages (from matplotlib>=3.1->cartopy) (0.11.0)\n",
            "Requirement already satisfied: kiwisolver>=1.0.1 in /usr/local/lib/python3.9/dist-packages (from matplotlib>=3.1->cartopy) (1.4.4)\n",
            "Requirement already satisfied: contourpy>=1.0.1 in /usr/local/lib/python3.9/dist-packages (from matplotlib>=3.1->cartopy) (1.0.7)\n",
            "Requirement already satisfied: fonttools>=4.22.0 in /usr/local/lib/python3.9/dist-packages (from matplotlib>=3.1->cartopy) (4.39.2)\n",
            "Requirement already satisfied: certifi in /usr/local/lib/python3.9/dist-packages (from pyproj>=3.0.0->cartopy) (2022.12.7)\n",
            "Requirement already satisfied: zipp>=3.1.0 in /usr/local/lib/python3.9/dist-packages (from importlib-resources>=3.2.0->matplotlib>=3.1->cartopy) (3.15.0)\n",
            "Requirement already satisfied: six>=1.5 in /usr/local/lib/python3.9/dist-packages (from python-dateutil>=2.7->matplotlib>=3.1->cartopy) (1.16.0)\n",
            "Looking in indexes: https://pypi.org/simple, https://us-python.pkg.dev/colab-wheels/public/simple/\n",
            "Requirement already satisfied: folium in /usr/local/lib/python3.9/dist-packages (0.14.0)\n",
            "Requirement already satisfied: branca>=0.6.0 in /usr/local/lib/python3.9/dist-packages (from folium) (0.6.0)\n",
            "Requirement already satisfied: numpy in /usr/local/lib/python3.9/dist-packages (from folium) (1.22.4)\n",
            "Requirement already satisfied: jinja2>=2.9 in /usr/local/lib/python3.9/dist-packages (from folium) (3.1.2)\n",
            "Requirement already satisfied: requests in /usr/local/lib/python3.9/dist-packages (from folium) (2.27.1)\n",
            "Requirement already satisfied: MarkupSafe>=2.0 in /usr/local/lib/python3.9/dist-packages (from jinja2>=2.9->folium) (2.1.2)\n",
            "Requirement already satisfied: charset-normalizer~=2.0.0 in /usr/local/lib/python3.9/dist-packages (from requests->folium) (2.0.12)\n",
            "Requirement already satisfied: idna<4,>=2.5 in /usr/local/lib/python3.9/dist-packages (from requests->folium) (3.4)\n",
            "Requirement already satisfied: urllib3<1.27,>=1.21.1 in /usr/local/lib/python3.9/dist-packages (from requests->folium) (1.26.15)\n",
            "Requirement already satisfied: certifi>=2017.4.17 in /usr/local/lib/python3.9/dist-packages (from requests->folium) (2022.12.7)\n"
          ]
        }
      ]
    },
    {
      "cell_type": "code",
      "source": [
        "import pandas as pd\n",
        "import matplotlib.pyplot as plt\n",
        "import cartopy.crs as ccrs\n",
        "import cartopy.feature as cfeature\n",
        "import folium as folium\n",
        "from folium.plugins import HeatMap\n",
        "import seaborn as sns\n",
        "import numpy as np\n",
        "\n"
      ],
      "metadata": {
        "id": "xiAps16VHgkq"
      },
      "execution_count": 171,
      "outputs": []
    },
    {
      "cell_type": "code",
      "metadata": {
        "id": "tUmoAT8DLQ5T",
        "colab": {
          "base_uri": "https://localhost:8080/"
        },
        "outputId": "20c4690c-f775-4b3d-df4b-fbfb805d68a7"
      },
      "source": [
        "# Data Base Utilizado para o DataFrame - Arquivo listings.csv - New York City\n",
        "\n",
        "df = pd.read_csv(\"http://data.insideairbnb.com/united-states/ny/new-york-city/2022-12-04/visualisations/listings.csv\")\n"
      ],
      "execution_count": 8,
      "outputs": [
        {
          "output_type": "stream",
          "name": "stderr",
          "text": [
            "<ipython-input-8-44dd9dd7c6f7>:3: DtypeWarning: Columns (17) have mixed types. Specify dtype option on import or set low_memory=False.\n",
            "  df = pd.read_csv(\"http://data.insideairbnb.com/united-states/ny/new-york-city/2022-12-04/visualisations/listings.csv\")\n"
          ]
        }
      ]
    },
    {
      "cell_type": "markdown",
      "source": [
        "##As 5 primeiras e 5 útimas entradas do dataset"
      ],
      "metadata": {
        "id": "sPg1181sGu5w"
      }
    },
    {
      "cell_type": "code",
      "metadata": {
        "id": "2iS_dae7YQtO",
        "colab": {
          "base_uri": "https://localhost:8080/",
          "height": 444
        },
        "outputId": "1281a090-abaf-4080-875b-980852d0736e"
      },
      "source": [
        "df.head()"
      ],
      "execution_count": 9,
      "outputs": [
        {
          "output_type": "execute_result",
          "data": {
            "text/plain": [
              "     id                                      name  host_id  host_name  \\\n",
              "0  5136  Spacious Brooklyn Duplex, Patio + Garden     7378    Rebecca   \n",
              "1  5203        Cozy Clean Guest Room - Family Apt     7490  MaryEllen   \n",
              "2  5121                           BlissArtsSpace!     7356      Garon   \n",
              "3  5178          Large Furnished Room Near B'way　     8967   Shunichi   \n",
              "4  2595                     Skylit Midtown Castle     2845   Jennifer   \n",
              "\n",
              "  neighbourhood_group       neighbourhood  latitude  longitude  \\\n",
              "0            Brooklyn         Sunset Park  40.66265  -73.99454   \n",
              "1           Manhattan     Upper West Side  40.80380  -73.96751   \n",
              "2            Brooklyn  Bedford-Stuyvesant  40.68535  -73.95512   \n",
              "3           Manhattan             Midtown  40.76457  -73.98317   \n",
              "4           Manhattan             Midtown  40.75356  -73.98559   \n",
              "\n",
              "         room_type  price  minimum_nights  number_of_reviews last_review  \\\n",
              "0  Entire home/apt    275              21                  3  2022-08-10   \n",
              "1     Private room     75               2                118  2017-07-21   \n",
              "2     Private room     60              30                 50  2019-12-02   \n",
              "3     Private room     68               2                559  2022-11-20   \n",
              "4  Entire home/apt    175              30                 49  2022-06-21   \n",
              "\n",
              "   reviews_per_month  calculated_host_listings_count  availability_365  \\\n",
              "0               0.03                               1               267   \n",
              "1               0.73                               1                 0   \n",
              "2               0.30                               2               322   \n",
              "3               3.38                               1                79   \n",
              "4               0.31                               3               365   \n",
              "\n",
              "   number_of_reviews_ltm license  \n",
              "0                      1     NaN  \n",
              "1                      0     NaN  \n",
              "2                      0     NaN  \n",
              "3                     50     NaN  \n",
              "4                      1     NaN  "
            ],
            "text/html": [
              "\n",
              "  <div id=\"df-6ce8b0fd-d777-44a7-a521-07d7eebb3394\">\n",
              "    <div class=\"colab-df-container\">\n",
              "      <div>\n",
              "<style scoped>\n",
              "    .dataframe tbody tr th:only-of-type {\n",
              "        vertical-align: middle;\n",
              "    }\n",
              "\n",
              "    .dataframe tbody tr th {\n",
              "        vertical-align: top;\n",
              "    }\n",
              "\n",
              "    .dataframe thead th {\n",
              "        text-align: right;\n",
              "    }\n",
              "</style>\n",
              "<table border=\"1\" class=\"dataframe\">\n",
              "  <thead>\n",
              "    <tr style=\"text-align: right;\">\n",
              "      <th></th>\n",
              "      <th>id</th>\n",
              "      <th>name</th>\n",
              "      <th>host_id</th>\n",
              "      <th>host_name</th>\n",
              "      <th>neighbourhood_group</th>\n",
              "      <th>neighbourhood</th>\n",
              "      <th>latitude</th>\n",
              "      <th>longitude</th>\n",
              "      <th>room_type</th>\n",
              "      <th>price</th>\n",
              "      <th>minimum_nights</th>\n",
              "      <th>number_of_reviews</th>\n",
              "      <th>last_review</th>\n",
              "      <th>reviews_per_month</th>\n",
              "      <th>calculated_host_listings_count</th>\n",
              "      <th>availability_365</th>\n",
              "      <th>number_of_reviews_ltm</th>\n",
              "      <th>license</th>\n",
              "    </tr>\n",
              "  </thead>\n",
              "  <tbody>\n",
              "    <tr>\n",
              "      <th>0</th>\n",
              "      <td>5136</td>\n",
              "      <td>Spacious Brooklyn Duplex, Patio + Garden</td>\n",
              "      <td>7378</td>\n",
              "      <td>Rebecca</td>\n",
              "      <td>Brooklyn</td>\n",
              "      <td>Sunset Park</td>\n",
              "      <td>40.66265</td>\n",
              "      <td>-73.99454</td>\n",
              "      <td>Entire home/apt</td>\n",
              "      <td>275</td>\n",
              "      <td>21</td>\n",
              "      <td>3</td>\n",
              "      <td>2022-08-10</td>\n",
              "      <td>0.03</td>\n",
              "      <td>1</td>\n",
              "      <td>267</td>\n",
              "      <td>1</td>\n",
              "      <td>NaN</td>\n",
              "    </tr>\n",
              "    <tr>\n",
              "      <th>1</th>\n",
              "      <td>5203</td>\n",
              "      <td>Cozy Clean Guest Room - Family Apt</td>\n",
              "      <td>7490</td>\n",
              "      <td>MaryEllen</td>\n",
              "      <td>Manhattan</td>\n",
              "      <td>Upper West Side</td>\n",
              "      <td>40.80380</td>\n",
              "      <td>-73.96751</td>\n",
              "      <td>Private room</td>\n",
              "      <td>75</td>\n",
              "      <td>2</td>\n",
              "      <td>118</td>\n",
              "      <td>2017-07-21</td>\n",
              "      <td>0.73</td>\n",
              "      <td>1</td>\n",
              "      <td>0</td>\n",
              "      <td>0</td>\n",
              "      <td>NaN</td>\n",
              "    </tr>\n",
              "    <tr>\n",
              "      <th>2</th>\n",
              "      <td>5121</td>\n",
              "      <td>BlissArtsSpace!</td>\n",
              "      <td>7356</td>\n",
              "      <td>Garon</td>\n",
              "      <td>Brooklyn</td>\n",
              "      <td>Bedford-Stuyvesant</td>\n",
              "      <td>40.68535</td>\n",
              "      <td>-73.95512</td>\n",
              "      <td>Private room</td>\n",
              "      <td>60</td>\n",
              "      <td>30</td>\n",
              "      <td>50</td>\n",
              "      <td>2019-12-02</td>\n",
              "      <td>0.30</td>\n",
              "      <td>2</td>\n",
              "      <td>322</td>\n",
              "      <td>0</td>\n",
              "      <td>NaN</td>\n",
              "    </tr>\n",
              "    <tr>\n",
              "      <th>3</th>\n",
              "      <td>5178</td>\n",
              "      <td>Large Furnished Room Near B'way</td>\n",
              "      <td>8967</td>\n",
              "      <td>Shunichi</td>\n",
              "      <td>Manhattan</td>\n",
              "      <td>Midtown</td>\n",
              "      <td>40.76457</td>\n",
              "      <td>-73.98317</td>\n",
              "      <td>Private room</td>\n",
              "      <td>68</td>\n",
              "      <td>2</td>\n",
              "      <td>559</td>\n",
              "      <td>2022-11-20</td>\n",
              "      <td>3.38</td>\n",
              "      <td>1</td>\n",
              "      <td>79</td>\n",
              "      <td>50</td>\n",
              "      <td>NaN</td>\n",
              "    </tr>\n",
              "    <tr>\n",
              "      <th>4</th>\n",
              "      <td>2595</td>\n",
              "      <td>Skylit Midtown Castle</td>\n",
              "      <td>2845</td>\n",
              "      <td>Jennifer</td>\n",
              "      <td>Manhattan</td>\n",
              "      <td>Midtown</td>\n",
              "      <td>40.75356</td>\n",
              "      <td>-73.98559</td>\n",
              "      <td>Entire home/apt</td>\n",
              "      <td>175</td>\n",
              "      <td>30</td>\n",
              "      <td>49</td>\n",
              "      <td>2022-06-21</td>\n",
              "      <td>0.31</td>\n",
              "      <td>3</td>\n",
              "      <td>365</td>\n",
              "      <td>1</td>\n",
              "      <td>NaN</td>\n",
              "    </tr>\n",
              "  </tbody>\n",
              "</table>\n",
              "</div>\n",
              "      <button class=\"colab-df-convert\" onclick=\"convertToInteractive('df-6ce8b0fd-d777-44a7-a521-07d7eebb3394')\"\n",
              "              title=\"Convert this dataframe to an interactive table.\"\n",
              "              style=\"display:none;\">\n",
              "        \n",
              "  <svg xmlns=\"http://www.w3.org/2000/svg\" height=\"24px\"viewBox=\"0 0 24 24\"\n",
              "       width=\"24px\">\n",
              "    <path d=\"M0 0h24v24H0V0z\" fill=\"none\"/>\n",
              "    <path d=\"M18.56 5.44l.94 2.06.94-2.06 2.06-.94-2.06-.94-.94-2.06-.94 2.06-2.06.94zm-11 1L8.5 8.5l.94-2.06 2.06-.94-2.06-.94L8.5 2.5l-.94 2.06-2.06.94zm10 10l.94 2.06.94-2.06 2.06-.94-2.06-.94-.94-2.06-.94 2.06-2.06.94z\"/><path d=\"M17.41 7.96l-1.37-1.37c-.4-.4-.92-.59-1.43-.59-.52 0-1.04.2-1.43.59L10.3 9.45l-7.72 7.72c-.78.78-.78 2.05 0 2.83L4 21.41c.39.39.9.59 1.41.59.51 0 1.02-.2 1.41-.59l7.78-7.78 2.81-2.81c.8-.78.8-2.07 0-2.86zM5.41 20L4 18.59l7.72-7.72 1.47 1.35L5.41 20z\"/>\n",
              "  </svg>\n",
              "      </button>\n",
              "      \n",
              "  <style>\n",
              "    .colab-df-container {\n",
              "      display:flex;\n",
              "      flex-wrap:wrap;\n",
              "      gap: 12px;\n",
              "    }\n",
              "\n",
              "    .colab-df-convert {\n",
              "      background-color: #E8F0FE;\n",
              "      border: none;\n",
              "      border-radius: 50%;\n",
              "      cursor: pointer;\n",
              "      display: none;\n",
              "      fill: #1967D2;\n",
              "      height: 32px;\n",
              "      padding: 0 0 0 0;\n",
              "      width: 32px;\n",
              "    }\n",
              "\n",
              "    .colab-df-convert:hover {\n",
              "      background-color: #E2EBFA;\n",
              "      box-shadow: 0px 1px 2px rgba(60, 64, 67, 0.3), 0px 1px 3px 1px rgba(60, 64, 67, 0.15);\n",
              "      fill: #174EA6;\n",
              "    }\n",
              "\n",
              "    [theme=dark] .colab-df-convert {\n",
              "      background-color: #3B4455;\n",
              "      fill: #D2E3FC;\n",
              "    }\n",
              "\n",
              "    [theme=dark] .colab-df-convert:hover {\n",
              "      background-color: #434B5C;\n",
              "      box-shadow: 0px 1px 3px 1px rgba(0, 0, 0, 0.15);\n",
              "      filter: drop-shadow(0px 1px 2px rgba(0, 0, 0, 0.3));\n",
              "      fill: #FFFFFF;\n",
              "    }\n",
              "  </style>\n",
              "\n",
              "      <script>\n",
              "        const buttonEl =\n",
              "          document.querySelector('#df-6ce8b0fd-d777-44a7-a521-07d7eebb3394 button.colab-df-convert');\n",
              "        buttonEl.style.display =\n",
              "          google.colab.kernel.accessAllowed ? 'block' : 'none';\n",
              "\n",
              "        async function convertToInteractive(key) {\n",
              "          const element = document.querySelector('#df-6ce8b0fd-d777-44a7-a521-07d7eebb3394');\n",
              "          const dataTable =\n",
              "            await google.colab.kernel.invokeFunction('convertToInteractive',\n",
              "                                                     [key], {});\n",
              "          if (!dataTable) return;\n",
              "\n",
              "          const docLinkHtml = 'Like what you see? Visit the ' +\n",
              "            '<a target=\"_blank\" href=https://colab.research.google.com/notebooks/data_table.ipynb>data table notebook</a>'\n",
              "            + ' to learn more about interactive tables.';\n",
              "          element.innerHTML = '';\n",
              "          dataTable['output_type'] = 'display_data';\n",
              "          await google.colab.output.renderOutput(dataTable, element);\n",
              "          const docLink = document.createElement('div');\n",
              "          docLink.innerHTML = docLinkHtml;\n",
              "          element.appendChild(docLink);\n",
              "        }\n",
              "      </script>\n",
              "    </div>\n",
              "  </div>\n",
              "  "
            ]
          },
          "metadata": {},
          "execution_count": 9
        }
      ]
    },
    {
      "cell_type": "code",
      "source": [
        "df.tail()"
      ],
      "metadata": {
        "colab": {
          "base_uri": "https://localhost:8080/",
          "height": 548
        },
        "id": "A3haQxvpfZsn",
        "outputId": "7f02f772-6887-4e76-836f-0c0bce81bc55"
      },
      "execution_count": 10,
      "outputs": [
        {
          "output_type": "execute_result",
          "data": {
            "text/plain": [
              "                       id                                               name  \\\n",
              "41528  771962449581256963                                Romántico y natural   \n",
              "41529  771967712456918474                          Sunset Park Studio Sublet   \n",
              "41530  771971759808918693     9B5B Townhouse w/ Elevator &  Private Entrance   \n",
              "41531  771971822371481471  Huge 9B5B Townhouse w Elevator &  Private Entr...   \n",
              "41532  771975190766692224           Lovely  Big Studio for Rental Bronx City   \n",
              "\n",
              "         host_id      host_name neighbourhood_group       neighbourhood  \\\n",
              "41528  421601513    Juan Carlos           Manhattan  Washington Heights   \n",
              "41529     326495  Laura Adriana            Brooklyn         Sunset Park   \n",
              "41530  316920152        Allison           Manhattan         Murray Hill   \n",
              "41531  484979380        Natasha           Manhattan         Murray Hill   \n",
              "41532  426540801           Abul               Bronx           Unionport   \n",
              "\n",
              "        latitude  longitude        room_type  price  minimum_nights  \\\n",
              "41528  40.847271 -73.943419     Private room     80               5   \n",
              "41529  40.638329 -74.016710  Entire home/apt     42              30   \n",
              "41530  40.746902 -73.978260  Entire home/apt   3888               2   \n",
              "41531  40.749596 -73.980798  Entire home/apt   3888               2   \n",
              "41532  40.832824 -73.852371  Entire home/apt     80               3   \n",
              "\n",
              "       number_of_reviews last_review  reviews_per_month  \\\n",
              "41528                  0         NaN                NaN   \n",
              "41529                  0         NaN                NaN   \n",
              "41530                  0         NaN                NaN   \n",
              "41531                  0         NaN                NaN   \n",
              "41532                  0         NaN                NaN   \n",
              "\n",
              "       calculated_host_listings_count  availability_365  \\\n",
              "41528                               3               358   \n",
              "41529                               3                89   \n",
              "41530                               8               365   \n",
              "41531                               2               364   \n",
              "41532                               2               365   \n",
              "\n",
              "       number_of_reviews_ltm license  \n",
              "41528                      0     NaN  \n",
              "41529                      0     NaN  \n",
              "41530                      0     NaN  \n",
              "41531                      0     NaN  \n",
              "41532                      0     NaN  "
            ],
            "text/html": [
              "\n",
              "  <div id=\"df-9dbdc8ce-2362-4424-a59b-a0f03e655c5f\">\n",
              "    <div class=\"colab-df-container\">\n",
              "      <div>\n",
              "<style scoped>\n",
              "    .dataframe tbody tr th:only-of-type {\n",
              "        vertical-align: middle;\n",
              "    }\n",
              "\n",
              "    .dataframe tbody tr th {\n",
              "        vertical-align: top;\n",
              "    }\n",
              "\n",
              "    .dataframe thead th {\n",
              "        text-align: right;\n",
              "    }\n",
              "</style>\n",
              "<table border=\"1\" class=\"dataframe\">\n",
              "  <thead>\n",
              "    <tr style=\"text-align: right;\">\n",
              "      <th></th>\n",
              "      <th>id</th>\n",
              "      <th>name</th>\n",
              "      <th>host_id</th>\n",
              "      <th>host_name</th>\n",
              "      <th>neighbourhood_group</th>\n",
              "      <th>neighbourhood</th>\n",
              "      <th>latitude</th>\n",
              "      <th>longitude</th>\n",
              "      <th>room_type</th>\n",
              "      <th>price</th>\n",
              "      <th>minimum_nights</th>\n",
              "      <th>number_of_reviews</th>\n",
              "      <th>last_review</th>\n",
              "      <th>reviews_per_month</th>\n",
              "      <th>calculated_host_listings_count</th>\n",
              "      <th>availability_365</th>\n",
              "      <th>number_of_reviews_ltm</th>\n",
              "      <th>license</th>\n",
              "    </tr>\n",
              "  </thead>\n",
              "  <tbody>\n",
              "    <tr>\n",
              "      <th>41528</th>\n",
              "      <td>771962449581256963</td>\n",
              "      <td>Romántico y natural</td>\n",
              "      <td>421601513</td>\n",
              "      <td>Juan Carlos</td>\n",
              "      <td>Manhattan</td>\n",
              "      <td>Washington Heights</td>\n",
              "      <td>40.847271</td>\n",
              "      <td>-73.943419</td>\n",
              "      <td>Private room</td>\n",
              "      <td>80</td>\n",
              "      <td>5</td>\n",
              "      <td>0</td>\n",
              "      <td>NaN</td>\n",
              "      <td>NaN</td>\n",
              "      <td>3</td>\n",
              "      <td>358</td>\n",
              "      <td>0</td>\n",
              "      <td>NaN</td>\n",
              "    </tr>\n",
              "    <tr>\n",
              "      <th>41529</th>\n",
              "      <td>771967712456918474</td>\n",
              "      <td>Sunset Park Studio Sublet</td>\n",
              "      <td>326495</td>\n",
              "      <td>Laura Adriana</td>\n",
              "      <td>Brooklyn</td>\n",
              "      <td>Sunset Park</td>\n",
              "      <td>40.638329</td>\n",
              "      <td>-74.016710</td>\n",
              "      <td>Entire home/apt</td>\n",
              "      <td>42</td>\n",
              "      <td>30</td>\n",
              "      <td>0</td>\n",
              "      <td>NaN</td>\n",
              "      <td>NaN</td>\n",
              "      <td>3</td>\n",
              "      <td>89</td>\n",
              "      <td>0</td>\n",
              "      <td>NaN</td>\n",
              "    </tr>\n",
              "    <tr>\n",
              "      <th>41530</th>\n",
              "      <td>771971759808918693</td>\n",
              "      <td>9B5B Townhouse w/ Elevator &amp;  Private Entrance</td>\n",
              "      <td>316920152</td>\n",
              "      <td>Allison</td>\n",
              "      <td>Manhattan</td>\n",
              "      <td>Murray Hill</td>\n",
              "      <td>40.746902</td>\n",
              "      <td>-73.978260</td>\n",
              "      <td>Entire home/apt</td>\n",
              "      <td>3888</td>\n",
              "      <td>2</td>\n",
              "      <td>0</td>\n",
              "      <td>NaN</td>\n",
              "      <td>NaN</td>\n",
              "      <td>8</td>\n",
              "      <td>365</td>\n",
              "      <td>0</td>\n",
              "      <td>NaN</td>\n",
              "    </tr>\n",
              "    <tr>\n",
              "      <th>41531</th>\n",
              "      <td>771971822371481471</td>\n",
              "      <td>Huge 9B5B Townhouse w Elevator &amp;  Private Entr...</td>\n",
              "      <td>484979380</td>\n",
              "      <td>Natasha</td>\n",
              "      <td>Manhattan</td>\n",
              "      <td>Murray Hill</td>\n",
              "      <td>40.749596</td>\n",
              "      <td>-73.980798</td>\n",
              "      <td>Entire home/apt</td>\n",
              "      <td>3888</td>\n",
              "      <td>2</td>\n",
              "      <td>0</td>\n",
              "      <td>NaN</td>\n",
              "      <td>NaN</td>\n",
              "      <td>2</td>\n",
              "      <td>364</td>\n",
              "      <td>0</td>\n",
              "      <td>NaN</td>\n",
              "    </tr>\n",
              "    <tr>\n",
              "      <th>41532</th>\n",
              "      <td>771975190766692224</td>\n",
              "      <td>Lovely  Big Studio for Rental Bronx City</td>\n",
              "      <td>426540801</td>\n",
              "      <td>Abul</td>\n",
              "      <td>Bronx</td>\n",
              "      <td>Unionport</td>\n",
              "      <td>40.832824</td>\n",
              "      <td>-73.852371</td>\n",
              "      <td>Entire home/apt</td>\n",
              "      <td>80</td>\n",
              "      <td>3</td>\n",
              "      <td>0</td>\n",
              "      <td>NaN</td>\n",
              "      <td>NaN</td>\n",
              "      <td>2</td>\n",
              "      <td>365</td>\n",
              "      <td>0</td>\n",
              "      <td>NaN</td>\n",
              "    </tr>\n",
              "  </tbody>\n",
              "</table>\n",
              "</div>\n",
              "      <button class=\"colab-df-convert\" onclick=\"convertToInteractive('df-9dbdc8ce-2362-4424-a59b-a0f03e655c5f')\"\n",
              "              title=\"Convert this dataframe to an interactive table.\"\n",
              "              style=\"display:none;\">\n",
              "        \n",
              "  <svg xmlns=\"http://www.w3.org/2000/svg\" height=\"24px\"viewBox=\"0 0 24 24\"\n",
              "       width=\"24px\">\n",
              "    <path d=\"M0 0h24v24H0V0z\" fill=\"none\"/>\n",
              "    <path d=\"M18.56 5.44l.94 2.06.94-2.06 2.06-.94-2.06-.94-.94-2.06-.94 2.06-2.06.94zm-11 1L8.5 8.5l.94-2.06 2.06-.94-2.06-.94L8.5 2.5l-.94 2.06-2.06.94zm10 10l.94 2.06.94-2.06 2.06-.94-2.06-.94-.94-2.06-.94 2.06-2.06.94z\"/><path d=\"M17.41 7.96l-1.37-1.37c-.4-.4-.92-.59-1.43-.59-.52 0-1.04.2-1.43.59L10.3 9.45l-7.72 7.72c-.78.78-.78 2.05 0 2.83L4 21.41c.39.39.9.59 1.41.59.51 0 1.02-.2 1.41-.59l7.78-7.78 2.81-2.81c.8-.78.8-2.07 0-2.86zM5.41 20L4 18.59l7.72-7.72 1.47 1.35L5.41 20z\"/>\n",
              "  </svg>\n",
              "      </button>\n",
              "      \n",
              "  <style>\n",
              "    .colab-df-container {\n",
              "      display:flex;\n",
              "      flex-wrap:wrap;\n",
              "      gap: 12px;\n",
              "    }\n",
              "\n",
              "    .colab-df-convert {\n",
              "      background-color: #E8F0FE;\n",
              "      border: none;\n",
              "      border-radius: 50%;\n",
              "      cursor: pointer;\n",
              "      display: none;\n",
              "      fill: #1967D2;\n",
              "      height: 32px;\n",
              "      padding: 0 0 0 0;\n",
              "      width: 32px;\n",
              "    }\n",
              "\n",
              "    .colab-df-convert:hover {\n",
              "      background-color: #E2EBFA;\n",
              "      box-shadow: 0px 1px 2px rgba(60, 64, 67, 0.3), 0px 1px 3px 1px rgba(60, 64, 67, 0.15);\n",
              "      fill: #174EA6;\n",
              "    }\n",
              "\n",
              "    [theme=dark] .colab-df-convert {\n",
              "      background-color: #3B4455;\n",
              "      fill: #D2E3FC;\n",
              "    }\n",
              "\n",
              "    [theme=dark] .colab-df-convert:hover {\n",
              "      background-color: #434B5C;\n",
              "      box-shadow: 0px 1px 3px 1px rgba(0, 0, 0, 0.15);\n",
              "      filter: drop-shadow(0px 1px 2px rgba(0, 0, 0, 0.3));\n",
              "      fill: #FFFFFF;\n",
              "    }\n",
              "  </style>\n",
              "\n",
              "      <script>\n",
              "        const buttonEl =\n",
              "          document.querySelector('#df-9dbdc8ce-2362-4424-a59b-a0f03e655c5f button.colab-df-convert');\n",
              "        buttonEl.style.display =\n",
              "          google.colab.kernel.accessAllowed ? 'block' : 'none';\n",
              "\n",
              "        async function convertToInteractive(key) {\n",
              "          const element = document.querySelector('#df-9dbdc8ce-2362-4424-a59b-a0f03e655c5f');\n",
              "          const dataTable =\n",
              "            await google.colab.kernel.invokeFunction('convertToInteractive',\n",
              "                                                     [key], {});\n",
              "          if (!dataTable) return;\n",
              "\n",
              "          const docLinkHtml = 'Like what you see? Visit the ' +\n",
              "            '<a target=\"_blank\" href=https://colab.research.google.com/notebooks/data_table.ipynb>data table notebook</a>'\n",
              "            + ' to learn more about interactive tables.';\n",
              "          element.innerHTML = '';\n",
              "          dataTable['output_type'] = 'display_data';\n",
              "          await google.colab.output.renderOutput(dataTable, element);\n",
              "          const docLink = document.createElement('div');\n",
              "          docLink.innerHTML = docLinkHtml;\n",
              "          element.appendChild(docLink);\n",
              "        }\n",
              "      </script>\n",
              "    </div>\n",
              "  </div>\n",
              "  "
            ]
          },
          "metadata": {},
          "execution_count": 10
        }
      ]
    },
    {
      "cell_type": "code",
      "source": [
        "df.columns"
      ],
      "metadata": {
        "colab": {
          "base_uri": "https://localhost:8080/"
        },
        "id": "2jZ0FtuGhDH7",
        "outputId": "1bafceeb-e598-4617-bea2-1c0a0d489ad1"
      },
      "execution_count": 11,
      "outputs": [
        {
          "output_type": "execute_result",
          "data": {
            "text/plain": [
              "Index(['id', 'name', 'host_id', 'host_name', 'neighbourhood_group',\n",
              "       'neighbourhood', 'latitude', 'longitude', 'room_type', 'price',\n",
              "       'minimum_nights', 'number_of_reviews', 'last_review',\n",
              "       'reviews_per_month', 'calculated_host_listings_count',\n",
              "       'availability_365', 'number_of_reviews_ltm', 'license'],\n",
              "      dtype='object')"
            ]
          },
          "metadata": {},
          "execution_count": 11
        }
      ]
    },
    {
      "cell_type": "markdown",
      "metadata": {
        "id": "RYgvuebKNg8-"
      },
      "source": [
        "##**Dicionário das variáveis**\n",
        "\n",
        "* id - Identificador exclusivo do Airbnb para o anúncio\n",
        "* name - Descrição da propriedade\n",
        "* host_id - Identificador exclusivo do Airbnb para o anfitrião/usuário\n",
        "* host_name - Nome do anfitrião. Apenas o primeiro nome\n",
        "* neighbourhood_group - Grupo de bairros\n",
        "      ** Os bairros de Nova York são agrupados em regiões maiores. \n",
        "       Ex: Os bairros de Midtown e Hudson Yards integram o grupo Manhattan\n",
        "* neighbourhood - Nome do Bairro\n",
        "* latitude - Latitude do Imóvel\n",
        "* longitude - Longitude do Imóvel\n",
        "* room_type - Tipo de quarto\n",
        "* price - Preço US$\n",
        "* minimum_nights - Noites minímas exigidas para reserva\n",
        "* number_of_reviews - Número de avaliações que a propriedade possui\n",
        "* last_review - Data da última avaliação\n",
        "* reviews_per_month - Avaliações por mês\n",
        "* calculated_host_listings_count - Quantidade de imóveis do mesmo anfitrião na mesma região geográfica\n",
        "* availability_365 - número de dias de disponibilidade dentro de 365 dias\n",
        "* number_of_reviews_ltm - Número de Avalições nos últimos 12 meses\n",
        "* license - Esta coluna não contém nenhum valor válido\n"
      ]
    },
    {
      "cell_type": "markdown",
      "metadata": {
        "id": "6-B_qtEaYEd-"
      },
      "source": [
        "# **1. Atributos (variáveis) e quantidade de entradas o conjunto de dados possui**"
      ]
    },
    {
      "cell_type": "markdown",
      "source": [
        "#### Identificando o volume de dados do DataFrame"
      ],
      "metadata": {
        "id": "6f8lBfAw8gAo"
      }
    },
    {
      "cell_type": "code",
      "metadata": {
        "id": "TFRK0tniLV-G",
        "colab": {
          "base_uri": "https://localhost:8080/"
        },
        "outputId": "e62984d8-737a-4c57-99e2-20b2143d6842"
      },
      "source": [
        "print(\"Entradas:\\t {}\".format(df.shape[0]))\n",
        "print(\"Variáveis:\\t {}\\n\".format(df.shape[1]))"
      ],
      "execution_count": 12,
      "outputs": [
        {
          "output_type": "stream",
          "name": "stdout",
          "text": [
            "Entradas:\t 41533\n",
            "Variáveis:\t 18\n",
            "\n"
          ]
        }
      ]
    },
    {
      "cell_type": "markdown",
      "source": [
        "#### Identificando os tipos das variáveis"
      ],
      "metadata": {
        "id": "OjXtpBas8_D7"
      }
    },
    {
      "cell_type": "code",
      "source": [
        "display(df.dtypes)"
      ],
      "metadata": {
        "colab": {
          "base_uri": "https://localhost:8080/",
          "height": 356
        },
        "id": "Oq6vkO3s9ZVJ",
        "outputId": "e76fbce1-47f4-46a4-e1fb-54ee249e05fd"
      },
      "execution_count": 13,
      "outputs": [
        {
          "output_type": "display_data",
          "data": {
            "text/plain": [
              "id                                  int64\n",
              "name                               object\n",
              "host_id                             int64\n",
              "host_name                          object\n",
              "neighbourhood_group                object\n",
              "neighbourhood                      object\n",
              "latitude                          float64\n",
              "longitude                         float64\n",
              "room_type                          object\n",
              "price                               int64\n",
              "minimum_nights                      int64\n",
              "number_of_reviews                   int64\n",
              "last_review                        object\n",
              "reviews_per_month                 float64\n",
              "calculated_host_listings_count      int64\n",
              "availability_365                    int64\n",
              "number_of_reviews_ltm               int64\n",
              "license                            object\n",
              "dtype: object"
            ]
          },
          "metadata": {}
        }
      ]
    },
    {
      "cell_type": "markdown",
      "metadata": {
        "id": "yz1urSUGW9iE"
      },
      "source": [
        "# **2. Porcentagem de valores ausentes no *dataset***\n"
      ]
    },
    {
      "cell_type": "code",
      "metadata": {
        "id": "plk2FjbCXOqP",
        "colab": {
          "base_uri": "https://localhost:8080/"
        },
        "outputId": "37679de0-c9ae-4e8a-c895-e36b9a7387d7"
      },
      "source": [
        "# Em ordem decrescente as variáveis por seus valores ausentes\n",
        "(df.isnull().sum() / df.shape[0]).sort_values(ascending=False)"
      ],
      "execution_count": 14,
      "outputs": [
        {
          "output_type": "execute_result",
          "data": {
            "text/plain": [
              "license                           0.999976\n",
              "reviews_per_month                 0.226158\n",
              "last_review                       0.226158\n",
              "name                              0.000313\n",
              "host_name                         0.000120\n",
              "minimum_nights                    0.000000\n",
              "number_of_reviews_ltm             0.000000\n",
              "availability_365                  0.000000\n",
              "calculated_host_listings_count    0.000000\n",
              "number_of_reviews                 0.000000\n",
              "id                                0.000000\n",
              "room_type                         0.000000\n",
              "longitude                         0.000000\n",
              "latitude                          0.000000\n",
              "neighbourhood                     0.000000\n",
              "neighbourhood_group               0.000000\n",
              "host_id                           0.000000\n",
              "price                             0.000000\n",
              "dtype: float64"
            ]
          },
          "metadata": {},
          "execution_count": 14
        }
      ]
    },
    {
      "cell_type": "code",
      "source": [
        "df.isnull().sum().sort_values(ascending=False)"
      ],
      "metadata": {
        "colab": {
          "base_uri": "https://localhost:8080/"
        },
        "id": "fidSmNnKgYps",
        "outputId": "4561a754-1d67-4392-cde8-9ec90bb7b259"
      },
      "execution_count": 15,
      "outputs": [
        {
          "output_type": "execute_result",
          "data": {
            "text/plain": [
              "license                           41532\n",
              "reviews_per_month                  9393\n",
              "last_review                        9393\n",
              "name                                 13\n",
              "host_name                             5\n",
              "minimum_nights                        0\n",
              "number_of_reviews_ltm                 0\n",
              "availability_365                      0\n",
              "calculated_host_listings_count        0\n",
              "number_of_reviews                     0\n",
              "id                                    0\n",
              "room_type                             0\n",
              "longitude                             0\n",
              "latitude                              0\n",
              "neighbourhood                         0\n",
              "neighbourhood_group                   0\n",
              "host_id                               0\n",
              "price                                 0\n",
              "dtype: int64"
            ]
          },
          "metadata": {},
          "execution_count": 15
        }
      ]
    },
    {
      "cell_type": "markdown",
      "source": [
        "A qualidade de um dataset está diretamente relacionada à quantidade de valores ausentes. É importante entender logo no início se esses valores nulos são significativos comparados ao total de entradas.\n",
        "\n",
        "Podemos veriricar que:\n",
        "\n",
        " * As variavéis \"name\" e \"host_name\" \n",
        " * a variável \"license\" esta com 100% dos seus dados nulos.\n",
        " * as variáveis \"reviews_per_month\" e \"last_review\" estão com  23% de seus valores nulos.\n",
        "\n",
        "Essas variáveis não afetaram nossa análise, pois focaremos em preço, ocupação, tipo de propriedades, noites minímas exigidas e região.\n",
        "Desta forma faremos a exclusão dessas variáveis."
      ],
      "metadata": {
        "id": "FDHxpL_sD7uE"
      }
    },
    {
      "cell_type": "code",
      "source": [
        "df_clean = df.copy()"
      ],
      "metadata": {
        "id": "UkllzU8oR3qw"
      },
      "execution_count": 16,
      "outputs": []
    },
    {
      "cell_type": "code",
      "source": [
        "df_clean.drop('license', axis=1, inplace=True)"
      ],
      "metadata": {
        "id": "ZboAnNVNUsXl"
      },
      "execution_count": 17,
      "outputs": []
    },
    {
      "cell_type": "code",
      "source": [
        "df_clean.drop('reviews_per_month', axis=1, inplace=True)\n",
        "df_clean.drop('last_review', axis=1, inplace=True)"
      ],
      "metadata": {
        "id": "tePiW39tV3Tl"
      },
      "execution_count": 18,
      "outputs": []
    },
    {
      "cell_type": "markdown",
      "source": [
        "Para a variável \"name\", que possui apenas 13 entradas nulas, foi realizado uma pesquisa no arquivo para tentar localizar o nome dessas propriedades com base na variável \"host_name\", porem não foi possivel.\n",
        "\n",
        "Como se trata de uma variavél que não irá afetar a nossa análise realizaremos o preenchimento dela com o valor contido na variável \"host_name\" da mesma linha."
      ],
      "metadata": {
        "id": "burhicDRmGUy"
      }
    },
    {
      "cell_type": "code",
      "source": [
        "df_clean.loc[df_clean.name.isnull()]"
      ],
      "metadata": {
        "colab": {
          "base_uri": "https://localhost:8080/",
          "height": 747
        },
        "id": "ej5wpt_cmBMg",
        "outputId": "4c061666-c313-4f22-ae20-948bb90a99fe"
      },
      "execution_count": 19,
      "outputs": [
        {
          "output_type": "execute_result",
          "data": {
            "text/plain": [
              "             id name    host_id host_name neighbourhood_group  \\\n",
              "1827    2232600  NaN   11395220      Anna           Manhattan   \n",
              "2831    4209595  NaN   20700823     Jesse           Manhattan   \n",
              "2982    4370230  NaN   22686810   Michaël           Manhattan   \n",
              "3099    4581788  NaN   21600904     Lucie            Brooklyn   \n",
              "3296    4774658  NaN   24625694      Josh           Manhattan   \n",
              "4395    6782407  NaN   31147528  Huei-Yin            Brooklyn   \n",
              "5916    9325951  NaN   33377685  Jonathan           Manhattan   \n",
              "6343    9787590  NaN   50448556    Miguel           Manhattan   \n",
              "6675   10116081  NaN   51913270    Andrew           Manhattan   \n",
              "6711   10052289  NaN   49522403   Vanessa            Brooklyn   \n",
              "7816   12988898  NaN   71552588    Andrea               Bronx   \n",
              "7839   12797684  NaN   69715276       Yan           Manhattan   \n",
              "11742  21044649  NaN  151547086     Tanya               Bronx   \n",
              "\n",
              "            neighbourhood  latitude  longitude        room_type  price  \\\n",
              "1827         East Village  40.73192  -73.98819  Entire home/apt    700   \n",
              "2831    Greenwich Village  40.73323  -73.99294  Entire home/apt    225   \n",
              "2982               Nolita  40.72100  -73.99536  Entire home/apt    215   \n",
              "3099         Williamsburg  40.71370  -73.94378     Private room    150   \n",
              "3296   Washington Heights  40.85111  -73.93009     Private room     40   \n",
              "4395         Williamsburg  40.71354  -73.93882     Private room     45   \n",
              "5916       Hell's Kitchen  40.76617  -73.98435  Entire home/apt    190   \n",
              "6343               Harlem  40.80551  -73.95069  Entire home/apt    300   \n",
              "6675              Midtown  40.75939  -73.96949  Entire home/apt    200   \n",
              "6711          Brownsville  40.66409  -73.92314     Private room     80   \n",
              "7816              Fordham  40.86046  -73.88378      Shared room    130   \n",
              "7839      Upper West Side  40.79843  -73.96404     Private room    100   \n",
              "11742             Norwood  40.87553  -73.88601     Private room     10   \n",
              "\n",
              "       minimum_nights  number_of_reviews  calculated_host_listings_count  \\\n",
              "1827               60                 28                               1   \n",
              "2831               30                  1                               1   \n",
              "2982               30                  5                               1   \n",
              "3099               30                  0                               1   \n",
              "3296               30                  0                               1   \n",
              "4395               30                  0                               1   \n",
              "5916               30                  1                               1   \n",
              "6343               30                  0                               5   \n",
              "6675               30                  0                               1   \n",
              "6711               30                  3                               1   \n",
              "7816               30                  0                               1   \n",
              "7839               30                  0                               2   \n",
              "11742               3                 24                               1   \n",
              "\n",
              "       availability_365  number_of_reviews_ltm  \n",
              "1827                359                      0  \n",
              "2831                  0                      0  \n",
              "2982                  0                      0  \n",
              "3099                  0                      0  \n",
              "3296                  0                      0  \n",
              "4395                  0                      0  \n",
              "5916                  0                      0  \n",
              "6343                  0                      0  \n",
              "6675                  0                      0  \n",
              "6711                  0                      0  \n",
              "7816                  0                      0  \n",
              "7839                  0                      0  \n",
              "11742                 0                      0  "
            ],
            "text/html": [
              "\n",
              "  <div id=\"df-1698ff72-4ba3-416e-866f-df6ad2c608a9\">\n",
              "    <div class=\"colab-df-container\">\n",
              "      <div>\n",
              "<style scoped>\n",
              "    .dataframe tbody tr th:only-of-type {\n",
              "        vertical-align: middle;\n",
              "    }\n",
              "\n",
              "    .dataframe tbody tr th {\n",
              "        vertical-align: top;\n",
              "    }\n",
              "\n",
              "    .dataframe thead th {\n",
              "        text-align: right;\n",
              "    }\n",
              "</style>\n",
              "<table border=\"1\" class=\"dataframe\">\n",
              "  <thead>\n",
              "    <tr style=\"text-align: right;\">\n",
              "      <th></th>\n",
              "      <th>id</th>\n",
              "      <th>name</th>\n",
              "      <th>host_id</th>\n",
              "      <th>host_name</th>\n",
              "      <th>neighbourhood_group</th>\n",
              "      <th>neighbourhood</th>\n",
              "      <th>latitude</th>\n",
              "      <th>longitude</th>\n",
              "      <th>room_type</th>\n",
              "      <th>price</th>\n",
              "      <th>minimum_nights</th>\n",
              "      <th>number_of_reviews</th>\n",
              "      <th>calculated_host_listings_count</th>\n",
              "      <th>availability_365</th>\n",
              "      <th>number_of_reviews_ltm</th>\n",
              "    </tr>\n",
              "  </thead>\n",
              "  <tbody>\n",
              "    <tr>\n",
              "      <th>1827</th>\n",
              "      <td>2232600</td>\n",
              "      <td>NaN</td>\n",
              "      <td>11395220</td>\n",
              "      <td>Anna</td>\n",
              "      <td>Manhattan</td>\n",
              "      <td>East Village</td>\n",
              "      <td>40.73192</td>\n",
              "      <td>-73.98819</td>\n",
              "      <td>Entire home/apt</td>\n",
              "      <td>700</td>\n",
              "      <td>60</td>\n",
              "      <td>28</td>\n",
              "      <td>1</td>\n",
              "      <td>359</td>\n",
              "      <td>0</td>\n",
              "    </tr>\n",
              "    <tr>\n",
              "      <th>2831</th>\n",
              "      <td>4209595</td>\n",
              "      <td>NaN</td>\n",
              "      <td>20700823</td>\n",
              "      <td>Jesse</td>\n",
              "      <td>Manhattan</td>\n",
              "      <td>Greenwich Village</td>\n",
              "      <td>40.73323</td>\n",
              "      <td>-73.99294</td>\n",
              "      <td>Entire home/apt</td>\n",
              "      <td>225</td>\n",
              "      <td>30</td>\n",
              "      <td>1</td>\n",
              "      <td>1</td>\n",
              "      <td>0</td>\n",
              "      <td>0</td>\n",
              "    </tr>\n",
              "    <tr>\n",
              "      <th>2982</th>\n",
              "      <td>4370230</td>\n",
              "      <td>NaN</td>\n",
              "      <td>22686810</td>\n",
              "      <td>Michaël</td>\n",
              "      <td>Manhattan</td>\n",
              "      <td>Nolita</td>\n",
              "      <td>40.72100</td>\n",
              "      <td>-73.99536</td>\n",
              "      <td>Entire home/apt</td>\n",
              "      <td>215</td>\n",
              "      <td>30</td>\n",
              "      <td>5</td>\n",
              "      <td>1</td>\n",
              "      <td>0</td>\n",
              "      <td>0</td>\n",
              "    </tr>\n",
              "    <tr>\n",
              "      <th>3099</th>\n",
              "      <td>4581788</td>\n",
              "      <td>NaN</td>\n",
              "      <td>21600904</td>\n",
              "      <td>Lucie</td>\n",
              "      <td>Brooklyn</td>\n",
              "      <td>Williamsburg</td>\n",
              "      <td>40.71370</td>\n",
              "      <td>-73.94378</td>\n",
              "      <td>Private room</td>\n",
              "      <td>150</td>\n",
              "      <td>30</td>\n",
              "      <td>0</td>\n",
              "      <td>1</td>\n",
              "      <td>0</td>\n",
              "      <td>0</td>\n",
              "    </tr>\n",
              "    <tr>\n",
              "      <th>3296</th>\n",
              "      <td>4774658</td>\n",
              "      <td>NaN</td>\n",
              "      <td>24625694</td>\n",
              "      <td>Josh</td>\n",
              "      <td>Manhattan</td>\n",
              "      <td>Washington Heights</td>\n",
              "      <td>40.85111</td>\n",
              "      <td>-73.93009</td>\n",
              "      <td>Private room</td>\n",
              "      <td>40</td>\n",
              "      <td>30</td>\n",
              "      <td>0</td>\n",
              "      <td>1</td>\n",
              "      <td>0</td>\n",
              "      <td>0</td>\n",
              "    </tr>\n",
              "    <tr>\n",
              "      <th>4395</th>\n",
              "      <td>6782407</td>\n",
              "      <td>NaN</td>\n",
              "      <td>31147528</td>\n",
              "      <td>Huei-Yin</td>\n",
              "      <td>Brooklyn</td>\n",
              "      <td>Williamsburg</td>\n",
              "      <td>40.71354</td>\n",
              "      <td>-73.93882</td>\n",
              "      <td>Private room</td>\n",
              "      <td>45</td>\n",
              "      <td>30</td>\n",
              "      <td>0</td>\n",
              "      <td>1</td>\n",
              "      <td>0</td>\n",
              "      <td>0</td>\n",
              "    </tr>\n",
              "    <tr>\n",
              "      <th>5916</th>\n",
              "      <td>9325951</td>\n",
              "      <td>NaN</td>\n",
              "      <td>33377685</td>\n",
              "      <td>Jonathan</td>\n",
              "      <td>Manhattan</td>\n",
              "      <td>Hell's Kitchen</td>\n",
              "      <td>40.76617</td>\n",
              "      <td>-73.98435</td>\n",
              "      <td>Entire home/apt</td>\n",
              "      <td>190</td>\n",
              "      <td>30</td>\n",
              "      <td>1</td>\n",
              "      <td>1</td>\n",
              "      <td>0</td>\n",
              "      <td>0</td>\n",
              "    </tr>\n",
              "    <tr>\n",
              "      <th>6343</th>\n",
              "      <td>9787590</td>\n",
              "      <td>NaN</td>\n",
              "      <td>50448556</td>\n",
              "      <td>Miguel</td>\n",
              "      <td>Manhattan</td>\n",
              "      <td>Harlem</td>\n",
              "      <td>40.80551</td>\n",
              "      <td>-73.95069</td>\n",
              "      <td>Entire home/apt</td>\n",
              "      <td>300</td>\n",
              "      <td>30</td>\n",
              "      <td>0</td>\n",
              "      <td>5</td>\n",
              "      <td>0</td>\n",
              "      <td>0</td>\n",
              "    </tr>\n",
              "    <tr>\n",
              "      <th>6675</th>\n",
              "      <td>10116081</td>\n",
              "      <td>NaN</td>\n",
              "      <td>51913270</td>\n",
              "      <td>Andrew</td>\n",
              "      <td>Manhattan</td>\n",
              "      <td>Midtown</td>\n",
              "      <td>40.75939</td>\n",
              "      <td>-73.96949</td>\n",
              "      <td>Entire home/apt</td>\n",
              "      <td>200</td>\n",
              "      <td>30</td>\n",
              "      <td>0</td>\n",
              "      <td>1</td>\n",
              "      <td>0</td>\n",
              "      <td>0</td>\n",
              "    </tr>\n",
              "    <tr>\n",
              "      <th>6711</th>\n",
              "      <td>10052289</td>\n",
              "      <td>NaN</td>\n",
              "      <td>49522403</td>\n",
              "      <td>Vanessa</td>\n",
              "      <td>Brooklyn</td>\n",
              "      <td>Brownsville</td>\n",
              "      <td>40.66409</td>\n",
              "      <td>-73.92314</td>\n",
              "      <td>Private room</td>\n",
              "      <td>80</td>\n",
              "      <td>30</td>\n",
              "      <td>3</td>\n",
              "      <td>1</td>\n",
              "      <td>0</td>\n",
              "      <td>0</td>\n",
              "    </tr>\n",
              "    <tr>\n",
              "      <th>7816</th>\n",
              "      <td>12988898</td>\n",
              "      <td>NaN</td>\n",
              "      <td>71552588</td>\n",
              "      <td>Andrea</td>\n",
              "      <td>Bronx</td>\n",
              "      <td>Fordham</td>\n",
              "      <td>40.86046</td>\n",
              "      <td>-73.88378</td>\n",
              "      <td>Shared room</td>\n",
              "      <td>130</td>\n",
              "      <td>30</td>\n",
              "      <td>0</td>\n",
              "      <td>1</td>\n",
              "      <td>0</td>\n",
              "      <td>0</td>\n",
              "    </tr>\n",
              "    <tr>\n",
              "      <th>7839</th>\n",
              "      <td>12797684</td>\n",
              "      <td>NaN</td>\n",
              "      <td>69715276</td>\n",
              "      <td>Yan</td>\n",
              "      <td>Manhattan</td>\n",
              "      <td>Upper West Side</td>\n",
              "      <td>40.79843</td>\n",
              "      <td>-73.96404</td>\n",
              "      <td>Private room</td>\n",
              "      <td>100</td>\n",
              "      <td>30</td>\n",
              "      <td>0</td>\n",
              "      <td>2</td>\n",
              "      <td>0</td>\n",
              "      <td>0</td>\n",
              "    </tr>\n",
              "    <tr>\n",
              "      <th>11742</th>\n",
              "      <td>21044649</td>\n",
              "      <td>NaN</td>\n",
              "      <td>151547086</td>\n",
              "      <td>Tanya</td>\n",
              "      <td>Bronx</td>\n",
              "      <td>Norwood</td>\n",
              "      <td>40.87553</td>\n",
              "      <td>-73.88601</td>\n",
              "      <td>Private room</td>\n",
              "      <td>10</td>\n",
              "      <td>3</td>\n",
              "      <td>24</td>\n",
              "      <td>1</td>\n",
              "      <td>0</td>\n",
              "      <td>0</td>\n",
              "    </tr>\n",
              "  </tbody>\n",
              "</table>\n",
              "</div>\n",
              "      <button class=\"colab-df-convert\" onclick=\"convertToInteractive('df-1698ff72-4ba3-416e-866f-df6ad2c608a9')\"\n",
              "              title=\"Convert this dataframe to an interactive table.\"\n",
              "              style=\"display:none;\">\n",
              "        \n",
              "  <svg xmlns=\"http://www.w3.org/2000/svg\" height=\"24px\"viewBox=\"0 0 24 24\"\n",
              "       width=\"24px\">\n",
              "    <path d=\"M0 0h24v24H0V0z\" fill=\"none\"/>\n",
              "    <path d=\"M18.56 5.44l.94 2.06.94-2.06 2.06-.94-2.06-.94-.94-2.06-.94 2.06-2.06.94zm-11 1L8.5 8.5l.94-2.06 2.06-.94-2.06-.94L8.5 2.5l-.94 2.06-2.06.94zm10 10l.94 2.06.94-2.06 2.06-.94-2.06-.94-.94-2.06-.94 2.06-2.06.94z\"/><path d=\"M17.41 7.96l-1.37-1.37c-.4-.4-.92-.59-1.43-.59-.52 0-1.04.2-1.43.59L10.3 9.45l-7.72 7.72c-.78.78-.78 2.05 0 2.83L4 21.41c.39.39.9.59 1.41.59.51 0 1.02-.2 1.41-.59l7.78-7.78 2.81-2.81c.8-.78.8-2.07 0-2.86zM5.41 20L4 18.59l7.72-7.72 1.47 1.35L5.41 20z\"/>\n",
              "  </svg>\n",
              "      </button>\n",
              "      \n",
              "  <style>\n",
              "    .colab-df-container {\n",
              "      display:flex;\n",
              "      flex-wrap:wrap;\n",
              "      gap: 12px;\n",
              "    }\n",
              "\n",
              "    .colab-df-convert {\n",
              "      background-color: #E8F0FE;\n",
              "      border: none;\n",
              "      border-radius: 50%;\n",
              "      cursor: pointer;\n",
              "      display: none;\n",
              "      fill: #1967D2;\n",
              "      height: 32px;\n",
              "      padding: 0 0 0 0;\n",
              "      width: 32px;\n",
              "    }\n",
              "\n",
              "    .colab-df-convert:hover {\n",
              "      background-color: #E2EBFA;\n",
              "      box-shadow: 0px 1px 2px rgba(60, 64, 67, 0.3), 0px 1px 3px 1px rgba(60, 64, 67, 0.15);\n",
              "      fill: #174EA6;\n",
              "    }\n",
              "\n",
              "    [theme=dark] .colab-df-convert {\n",
              "      background-color: #3B4455;\n",
              "      fill: #D2E3FC;\n",
              "    }\n",
              "\n",
              "    [theme=dark] .colab-df-convert:hover {\n",
              "      background-color: #434B5C;\n",
              "      box-shadow: 0px 1px 3px 1px rgba(0, 0, 0, 0.15);\n",
              "      filter: drop-shadow(0px 1px 2px rgba(0, 0, 0, 0.3));\n",
              "      fill: #FFFFFF;\n",
              "    }\n",
              "  </style>\n",
              "\n",
              "      <script>\n",
              "        const buttonEl =\n",
              "          document.querySelector('#df-1698ff72-4ba3-416e-866f-df6ad2c608a9 button.colab-df-convert');\n",
              "        buttonEl.style.display =\n",
              "          google.colab.kernel.accessAllowed ? 'block' : 'none';\n",
              "\n",
              "        async function convertToInteractive(key) {\n",
              "          const element = document.querySelector('#df-1698ff72-4ba3-416e-866f-df6ad2c608a9');\n",
              "          const dataTable =\n",
              "            await google.colab.kernel.invokeFunction('convertToInteractive',\n",
              "                                                     [key], {});\n",
              "          if (!dataTable) return;\n",
              "\n",
              "          const docLinkHtml = 'Like what you see? Visit the ' +\n",
              "            '<a target=\"_blank\" href=https://colab.research.google.com/notebooks/data_table.ipynb>data table notebook</a>'\n",
              "            + ' to learn more about interactive tables.';\n",
              "          element.innerHTML = '';\n",
              "          dataTable['output_type'] = 'display_data';\n",
              "          await google.colab.output.renderOutput(dataTable, element);\n",
              "          const docLink = document.createElement('div');\n",
              "          docLink.innerHTML = docLinkHtml;\n",
              "          element.appendChild(docLink);\n",
              "        }\n",
              "      </script>\n",
              "    </div>\n",
              "  </div>\n",
              "  "
            ]
          },
          "metadata": {},
          "execution_count": 19
        }
      ]
    },
    {
      "cell_type": "code",
      "source": [
        "df_clean.loc[df_clean.host_name.isnull()]"
      ],
      "metadata": {
        "colab": {
          "base_uri": "https://localhost:8080/",
          "height": 478
        },
        "id": "Sd7XHO-cnUiY",
        "outputId": "1e7a8ae7-56df-4d0f-9c73-d2cb83022d37"
      },
      "execution_count": 20,
      "outputs": [
        {
          "output_type": "execute_result",
          "data": {
            "text/plain": [
              "           id                                 name   host_id host_name  \\\n",
              "2972  4446862   Charming Room in Prospect Heights!  23077718       NaN   \n",
              "3270  4763327  Luxurious, best location, spa inc'l  24576978       NaN   \n",
              "4038  6360224      Sunny, Private room in Bushwick  33134899       NaN   \n",
              "4512  6992973      1 Bedroom in Prime Williamsburg   5162530       NaN   \n",
              "4928  7556587                 Sunny Room in Harlem  39608626       NaN   \n",
              "\n",
              "     neighbourhood_group  neighbourhood  latitude  longitude        room_type  \\\n",
              "2972            Brooklyn  Crown Heights  40.67605  -73.95997     Private room   \n",
              "3270            Brooklyn     Greenpoint  40.72119  -73.95279  Entire home/apt   \n",
              "4038            Brooklyn       Bushwick  40.69977  -73.92912     Private room   \n",
              "4512            Brooklyn   Williamsburg  40.71944  -73.95645  Entire home/apt   \n",
              "4928           Manhattan         Harlem  40.82992  -73.94033     Private room   \n",
              "\n",
              "      price  minimum_nights  number_of_reviews  \\\n",
              "2972     50              30                  0   \n",
              "3270    195              30                  1   \n",
              "4038     37              30                  1   \n",
              "4512    145              30                  0   \n",
              "4928     28              30                  1   \n",
              "\n",
              "      calculated_host_listings_count  availability_365  number_of_reviews_ltm  \n",
              "2972                               1                 0                      0  \n",
              "3270                               1                 0                      0  \n",
              "4038                               1                 0                      0  \n",
              "4512                               1                 0                      0  \n",
              "4928                               1                 0                      0  "
            ],
            "text/html": [
              "\n",
              "  <div id=\"df-e6d45ac4-3f96-43b0-970e-ab362a545e95\">\n",
              "    <div class=\"colab-df-container\">\n",
              "      <div>\n",
              "<style scoped>\n",
              "    .dataframe tbody tr th:only-of-type {\n",
              "        vertical-align: middle;\n",
              "    }\n",
              "\n",
              "    .dataframe tbody tr th {\n",
              "        vertical-align: top;\n",
              "    }\n",
              "\n",
              "    .dataframe thead th {\n",
              "        text-align: right;\n",
              "    }\n",
              "</style>\n",
              "<table border=\"1\" class=\"dataframe\">\n",
              "  <thead>\n",
              "    <tr style=\"text-align: right;\">\n",
              "      <th></th>\n",
              "      <th>id</th>\n",
              "      <th>name</th>\n",
              "      <th>host_id</th>\n",
              "      <th>host_name</th>\n",
              "      <th>neighbourhood_group</th>\n",
              "      <th>neighbourhood</th>\n",
              "      <th>latitude</th>\n",
              "      <th>longitude</th>\n",
              "      <th>room_type</th>\n",
              "      <th>price</th>\n",
              "      <th>minimum_nights</th>\n",
              "      <th>number_of_reviews</th>\n",
              "      <th>calculated_host_listings_count</th>\n",
              "      <th>availability_365</th>\n",
              "      <th>number_of_reviews_ltm</th>\n",
              "    </tr>\n",
              "  </thead>\n",
              "  <tbody>\n",
              "    <tr>\n",
              "      <th>2972</th>\n",
              "      <td>4446862</td>\n",
              "      <td>Charming Room in Prospect Heights!</td>\n",
              "      <td>23077718</td>\n",
              "      <td>NaN</td>\n",
              "      <td>Brooklyn</td>\n",
              "      <td>Crown Heights</td>\n",
              "      <td>40.67605</td>\n",
              "      <td>-73.95997</td>\n",
              "      <td>Private room</td>\n",
              "      <td>50</td>\n",
              "      <td>30</td>\n",
              "      <td>0</td>\n",
              "      <td>1</td>\n",
              "      <td>0</td>\n",
              "      <td>0</td>\n",
              "    </tr>\n",
              "    <tr>\n",
              "      <th>3270</th>\n",
              "      <td>4763327</td>\n",
              "      <td>Luxurious, best location, spa inc'l</td>\n",
              "      <td>24576978</td>\n",
              "      <td>NaN</td>\n",
              "      <td>Brooklyn</td>\n",
              "      <td>Greenpoint</td>\n",
              "      <td>40.72119</td>\n",
              "      <td>-73.95279</td>\n",
              "      <td>Entire home/apt</td>\n",
              "      <td>195</td>\n",
              "      <td>30</td>\n",
              "      <td>1</td>\n",
              "      <td>1</td>\n",
              "      <td>0</td>\n",
              "      <td>0</td>\n",
              "    </tr>\n",
              "    <tr>\n",
              "      <th>4038</th>\n",
              "      <td>6360224</td>\n",
              "      <td>Sunny, Private room in Bushwick</td>\n",
              "      <td>33134899</td>\n",
              "      <td>NaN</td>\n",
              "      <td>Brooklyn</td>\n",
              "      <td>Bushwick</td>\n",
              "      <td>40.69977</td>\n",
              "      <td>-73.92912</td>\n",
              "      <td>Private room</td>\n",
              "      <td>37</td>\n",
              "      <td>30</td>\n",
              "      <td>1</td>\n",
              "      <td>1</td>\n",
              "      <td>0</td>\n",
              "      <td>0</td>\n",
              "    </tr>\n",
              "    <tr>\n",
              "      <th>4512</th>\n",
              "      <td>6992973</td>\n",
              "      <td>1 Bedroom in Prime Williamsburg</td>\n",
              "      <td>5162530</td>\n",
              "      <td>NaN</td>\n",
              "      <td>Brooklyn</td>\n",
              "      <td>Williamsburg</td>\n",
              "      <td>40.71944</td>\n",
              "      <td>-73.95645</td>\n",
              "      <td>Entire home/apt</td>\n",
              "      <td>145</td>\n",
              "      <td>30</td>\n",
              "      <td>0</td>\n",
              "      <td>1</td>\n",
              "      <td>0</td>\n",
              "      <td>0</td>\n",
              "    </tr>\n",
              "    <tr>\n",
              "      <th>4928</th>\n",
              "      <td>7556587</td>\n",
              "      <td>Sunny Room in Harlem</td>\n",
              "      <td>39608626</td>\n",
              "      <td>NaN</td>\n",
              "      <td>Manhattan</td>\n",
              "      <td>Harlem</td>\n",
              "      <td>40.82992</td>\n",
              "      <td>-73.94033</td>\n",
              "      <td>Private room</td>\n",
              "      <td>28</td>\n",
              "      <td>30</td>\n",
              "      <td>1</td>\n",
              "      <td>1</td>\n",
              "      <td>0</td>\n",
              "      <td>0</td>\n",
              "    </tr>\n",
              "  </tbody>\n",
              "</table>\n",
              "</div>\n",
              "      <button class=\"colab-df-convert\" onclick=\"convertToInteractive('df-e6d45ac4-3f96-43b0-970e-ab362a545e95')\"\n",
              "              title=\"Convert this dataframe to an interactive table.\"\n",
              "              style=\"display:none;\">\n",
              "        \n",
              "  <svg xmlns=\"http://www.w3.org/2000/svg\" height=\"24px\"viewBox=\"0 0 24 24\"\n",
              "       width=\"24px\">\n",
              "    <path d=\"M0 0h24v24H0V0z\" fill=\"none\"/>\n",
              "    <path d=\"M18.56 5.44l.94 2.06.94-2.06 2.06-.94-2.06-.94-.94-2.06-.94 2.06-2.06.94zm-11 1L8.5 8.5l.94-2.06 2.06-.94-2.06-.94L8.5 2.5l-.94 2.06-2.06.94zm10 10l.94 2.06.94-2.06 2.06-.94-2.06-.94-.94-2.06-.94 2.06-2.06.94z\"/><path d=\"M17.41 7.96l-1.37-1.37c-.4-.4-.92-.59-1.43-.59-.52 0-1.04.2-1.43.59L10.3 9.45l-7.72 7.72c-.78.78-.78 2.05 0 2.83L4 21.41c.39.39.9.59 1.41.59.51 0 1.02-.2 1.41-.59l7.78-7.78 2.81-2.81c.8-.78.8-2.07 0-2.86zM5.41 20L4 18.59l7.72-7.72 1.47 1.35L5.41 20z\"/>\n",
              "  </svg>\n",
              "      </button>\n",
              "      \n",
              "  <style>\n",
              "    .colab-df-container {\n",
              "      display:flex;\n",
              "      flex-wrap:wrap;\n",
              "      gap: 12px;\n",
              "    }\n",
              "\n",
              "    .colab-df-convert {\n",
              "      background-color: #E8F0FE;\n",
              "      border: none;\n",
              "      border-radius: 50%;\n",
              "      cursor: pointer;\n",
              "      display: none;\n",
              "      fill: #1967D2;\n",
              "      height: 32px;\n",
              "      padding: 0 0 0 0;\n",
              "      width: 32px;\n",
              "    }\n",
              "\n",
              "    .colab-df-convert:hover {\n",
              "      background-color: #E2EBFA;\n",
              "      box-shadow: 0px 1px 2px rgba(60, 64, 67, 0.3), 0px 1px 3px 1px rgba(60, 64, 67, 0.15);\n",
              "      fill: #174EA6;\n",
              "    }\n",
              "\n",
              "    [theme=dark] .colab-df-convert {\n",
              "      background-color: #3B4455;\n",
              "      fill: #D2E3FC;\n",
              "    }\n",
              "\n",
              "    [theme=dark] .colab-df-convert:hover {\n",
              "      background-color: #434B5C;\n",
              "      box-shadow: 0px 1px 3px 1px rgba(0, 0, 0, 0.15);\n",
              "      filter: drop-shadow(0px 1px 2px rgba(0, 0, 0, 0.3));\n",
              "      fill: #FFFFFF;\n",
              "    }\n",
              "  </style>\n",
              "\n",
              "      <script>\n",
              "        const buttonEl =\n",
              "          document.querySelector('#df-e6d45ac4-3f96-43b0-970e-ab362a545e95 button.colab-df-convert');\n",
              "        buttonEl.style.display =\n",
              "          google.colab.kernel.accessAllowed ? 'block' : 'none';\n",
              "\n",
              "        async function convertToInteractive(key) {\n",
              "          const element = document.querySelector('#df-e6d45ac4-3f96-43b0-970e-ab362a545e95');\n",
              "          const dataTable =\n",
              "            await google.colab.kernel.invokeFunction('convertToInteractive',\n",
              "                                                     [key], {});\n",
              "          if (!dataTable) return;\n",
              "\n",
              "          const docLinkHtml = 'Like what you see? Visit the ' +\n",
              "            '<a target=\"_blank\" href=https://colab.research.google.com/notebooks/data_table.ipynb>data table notebook</a>'\n",
              "            + ' to learn more about interactive tables.';\n",
              "          element.innerHTML = '';\n",
              "          dataTable['output_type'] = 'display_data';\n",
              "          await google.colab.output.renderOutput(dataTable, element);\n",
              "          const docLink = document.createElement('div');\n",
              "          docLink.innerHTML = docLinkHtml;\n",
              "          element.appendChild(docLink);\n",
              "        }\n",
              "      </script>\n",
              "    </div>\n",
              "  </div>\n",
              "  "
            ]
          },
          "metadata": {},
          "execution_count": 20
        }
      ]
    },
    {
      "cell_type": "code",
      "source": [
        "name_fill =  df_clean.host_name\n",
        "df_clean = df_clean.fillna({\"name\": name_fill})\n",
        "\n",
        "host_fill = df_clean.name\n",
        "df_clean = df_clean.fillna({\"host_name\": host_fill})\n"
      ],
      "metadata": {
        "id": "nSw5qiKYkUcr"
      },
      "execution_count": 21,
      "outputs": []
    },
    {
      "cell_type": "markdown",
      "source": [
        "Após essas correções o dataset ficou da seguinte forma:"
      ],
      "metadata": {
        "id": "Pyo0VpBFlwcH"
      }
    },
    {
      "cell_type": "code",
      "source": [
        "df_clean.isnull().sum() / df_clean.shape[0]\n"
      ],
      "metadata": {
        "colab": {
          "base_uri": "https://localhost:8080/"
        },
        "id": "faIVtGRbU0_q",
        "outputId": "0dfb1392-fbcf-4b10-ddd9-04694696a0e0"
      },
      "execution_count": 22,
      "outputs": [
        {
          "output_type": "execute_result",
          "data": {
            "text/plain": [
              "id                                0.0\n",
              "name                              0.0\n",
              "host_id                           0.0\n",
              "host_name                         0.0\n",
              "neighbourhood_group               0.0\n",
              "neighbourhood                     0.0\n",
              "latitude                          0.0\n",
              "longitude                         0.0\n",
              "room_type                         0.0\n",
              "price                             0.0\n",
              "minimum_nights                    0.0\n",
              "number_of_reviews                 0.0\n",
              "calculated_host_listings_count    0.0\n",
              "availability_365                  0.0\n",
              "number_of_reviews_ltm             0.0\n",
              "dtype: float64"
            ]
          },
          "metadata": {},
          "execution_count": 22
        }
      ]
    },
    {
      "cell_type": "code",
      "source": [
        "\n",
        "print(\"Entradas_Old:\\t {}\".format(df.shape[0]))\n",
        "print(\"Variáveis_Old:\\t {}\\n\".format(df.shape[1]))\n",
        "print(\"Entradas_New:\\t {}\".format(df_clean.shape[0]))\n",
        "print(\"Variáveis_New:\\t {}\\n\".format(df_clean.shape[1]))"
      ],
      "metadata": {
        "colab": {
          "base_uri": "https://localhost:8080/"
        },
        "id": "fdWc4liRWJGW",
        "outputId": "d1cb5d2e-8291-4297-fa0a-85ab09e1d766"
      },
      "execution_count": 23,
      "outputs": [
        {
          "output_type": "stream",
          "name": "stdout",
          "text": [
            "Entradas_Old:\t 41533\n",
            "Variáveis_Old:\t 18\n",
            "\n",
            "Entradas_New:\t 41533\n",
            "Variáveis_New:\t 15\n",
            "\n"
          ]
        }
      ]
    },
    {
      "cell_type": "markdown",
      "metadata": {
        "id": "iHXvvHIxaoNc"
      },
      "source": [
        "# **3. Distribuição das variáveis** "
      ]
    },
    {
      "cell_type": "markdown",
      "source": [
        "Agora faremos um exame de como está a distribuição das variáveis. \n",
        "Para isso iremos plotar um histograma geral e analisar quadro a quadro."
      ],
      "metadata": {
        "id": "V_j488Dpt2Ab"
      }
    },
    {
      "cell_type": "code",
      "metadata": {
        "id": "q2wWSfeRbmBo",
        "colab": {
          "base_uri": "https://localhost:8080/",
          "height": 714
        },
        "outputId": "a64bda0b-7926-4e7c-ea69-3375cfc6cba7"
      },
      "source": [
        "# plotar o histograma das variáveis numéricas\n",
        "df_clean.hist(['price', 'minimum_nights', 'number_of_reviews', 'calculated_host_listings_count', 'number_of_reviews_ltm'], bins=10, figsize=(15,10))"
      ],
      "execution_count": 24,
      "outputs": [
        {
          "output_type": "execute_result",
          "data": {
            "text/plain": [
              "array([[<Axes: title={'center': 'price'}>,\n",
              "        <Axes: title={'center': 'minimum_nights'}>],\n",
              "       [<Axes: title={'center': 'number_of_reviews'}>,\n",
              "        <Axes: title={'center': 'calculated_host_listings_count'}>],\n",
              "       [<Axes: title={'center': 'number_of_reviews_ltm'}>, <Axes: >]],\n",
              "      dtype=object)"
            ]
          },
          "metadata": {},
          "execution_count": 24
        },
        {
          "output_type": "display_data",
          "data": {
            "text/plain": [
              "<Figure size 1080x720 with 6 Axes>"
            ],
            "image/png": "[encoded data removed]"
          },
          "metadata": {
            "needs_background": "light"
          }
        }
      ]
    },
    {
      "cell_type": "markdown",
      "source": [
        "Com base nos histogramas plotados podemos ver que existe uma grande disperção dos dados. Tendo isso em vista, iremos analisar caso a caso para identificar e tratar os ***outliers***"
      ],
      "metadata": {
        "id": "MXCxJ0Hw01An"
      }
    },
    {
      "cell_type": "markdown",
      "source": [
        "#4.Tratando os ***OUTLIERS***\n",
        "\n",
        "Para a identificação de ***outliers*** utilizamos a a distribuição em histograma, o que torna possível a identificação destes. Podemos ver nas variáveis 'price', 'minimum_nights', 'number_of_reviews', 'calculated_host_listings_count' e 'number_of_reviews_ltm, que elas não seguem uma distribuição dentro do histograma e distorcem a representação gráfica, o que indica a presença de ***OUTLIERS***.\n",
        "\n",
        "Para confirmar, iremos utilizar duas maneiras rápidas que auxiliam a detecção de outliers. São elas:\n",
        "\n",
        "* Resumo estatístico por meio do método `describe()`\n",
        "* Plotar boxplots para a variável."
      ],
      "metadata": {
        "id": "BNHmqkDBL4g8"
      }
    },
    {
      "cell_type": "code",
      "source": [
        "df_clean[['price', 'minimum_nights', 'number_of_reviews', 'calculated_host_listings_count', 'number_of_reviews_ltm']].describe()"
      ],
      "metadata": {
        "colab": {
          "base_uri": "https://localhost:8080/",
          "height": 300
        },
        "id": "Va_i34bfanxW",
        "outputId": "48e782b1-1722-4d1e-a613-b62034b7faf1"
      },
      "execution_count": 25,
      "outputs": [
        {
          "output_type": "execute_result",
          "data": {
            "text/plain": [
              "              price  minimum_nights  number_of_reviews  \\\n",
              "count  41533.000000    41533.000000       41533.000000   \n",
              "mean     221.978282       18.592204          26.204994   \n",
              "std      919.502236       30.699921          56.178847   \n",
              "min        0.000000        1.000000           0.000000   \n",
              "25%       80.000000        2.000000           1.000000   \n",
              "50%      131.000000       10.000000           5.000000   \n",
              "75%      220.000000       30.000000          25.000000   \n",
              "max    98159.000000     1250.000000        1666.000000   \n",
              "\n",
              "       calculated_host_listings_count  number_of_reviews_ltm  \n",
              "count                    41533.000000           41533.000000  \n",
              "mean                        20.626803               7.983700  \n",
              "std                         68.874393              18.563894  \n",
              "min                          1.000000               0.000000  \n",
              "25%                          1.000000               0.000000  \n",
              "50%                          1.000000               1.000000  \n",
              "75%                          4.000000               8.000000  \n",
              "max                        487.000000             992.000000  "
            ],
            "text/html": [
              "\n",
              "  <div id=\"df-80942c1d-c7cb-49f3-a7a4-036f7d7cb6cd\">\n",
              "    <div class=\"colab-df-container\">\n",
              "      <div>\n",
              "<style scoped>\n",
              "    .dataframe tbody tr th:only-of-type {\n",
              "        vertical-align: middle;\n",
              "    }\n",
              "\n",
              "    .dataframe tbody tr th {\n",
              "        vertical-align: top;\n",
              "    }\n",
              "\n",
              "    .dataframe thead th {\n",
              "        text-align: right;\n",
              "    }\n",
              "</style>\n",
              "<table border=\"1\" class=\"dataframe\">\n",
              "  <thead>\n",
              "    <tr style=\"text-align: right;\">\n",
              "      <th></th>\n",
              "      <th>price</th>\n",
              "      <th>minimum_nights</th>\n",
              "      <th>number_of_reviews</th>\n",
              "      <th>calculated_host_listings_count</th>\n",
              "      <th>number_of_reviews_ltm</th>\n",
              "    </tr>\n",
              "  </thead>\n",
              "  <tbody>\n",
              "    <tr>\n",
              "      <th>count</th>\n",
              "      <td>41533.000000</td>\n",
              "      <td>41533.000000</td>\n",
              "      <td>41533.000000</td>\n",
              "      <td>41533.000000</td>\n",
              "      <td>41533.000000</td>\n",
              "    </tr>\n",
              "    <tr>\n",
              "      <th>mean</th>\n",
              "      <td>221.978282</td>\n",
              "      <td>18.592204</td>\n",
              "      <td>26.204994</td>\n",
              "      <td>20.626803</td>\n",
              "      <td>7.983700</td>\n",
              "    </tr>\n",
              "    <tr>\n",
              "      <th>std</th>\n",
              "      <td>919.502236</td>\n",
              "      <td>30.699921</td>\n",
              "      <td>56.178847</td>\n",
              "      <td>68.874393</td>\n",
              "      <td>18.563894</td>\n",
              "    </tr>\n",
              "    <tr>\n",
              "      <th>min</th>\n",
              "      <td>0.000000</td>\n",
              "      <td>1.000000</td>\n",
              "      <td>0.000000</td>\n",
              "      <td>1.000000</td>\n",
              "      <td>0.000000</td>\n",
              "    </tr>\n",
              "    <tr>\n",
              "      <th>25%</th>\n",
              "      <td>80.000000</td>\n",
              "      <td>2.000000</td>\n",
              "      <td>1.000000</td>\n",
              "      <td>1.000000</td>\n",
              "      <td>0.000000</td>\n",
              "    </tr>\n",
              "    <tr>\n",
              "      <th>50%</th>\n",
              "      <td>131.000000</td>\n",
              "      <td>10.000000</td>\n",
              "      <td>5.000000</td>\n",
              "      <td>1.000000</td>\n",
              "      <td>1.000000</td>\n",
              "    </tr>\n",
              "    <tr>\n",
              "      <th>75%</th>\n",
              "      <td>220.000000</td>\n",
              "      <td>30.000000</td>\n",
              "      <td>25.000000</td>\n",
              "      <td>4.000000</td>\n",
              "      <td>8.000000</td>\n",
              "    </tr>\n",
              "    <tr>\n",
              "      <th>max</th>\n",
              "      <td>98159.000000</td>\n",
              "      <td>1250.000000</td>\n",
              "      <td>1666.000000</td>\n",
              "      <td>487.000000</td>\n",
              "      <td>992.000000</td>\n",
              "    </tr>\n",
              "  </tbody>\n",
              "</table>\n",
              "</div>\n",
              "      <button class=\"colab-df-convert\" onclick=\"convertToInteractive('df-80942c1d-c7cb-49f3-a7a4-036f7d7cb6cd')\"\n",
              "              title=\"Convert this dataframe to an interactive table.\"\n",
              "              style=\"display:none;\">\n",
              "        \n",
              "  <svg xmlns=\"http://www.w3.org/2000/svg\" height=\"24px\"viewBox=\"0 0 24 24\"\n",
              "       width=\"24px\">\n",
              "    <path d=\"M0 0h24v24H0V0z\" fill=\"none\"/>\n",
              "    <path d=\"M18.56 5.44l.94 2.06.94-2.06 2.06-.94-2.06-.94-.94-2.06-.94 2.06-2.06.94zm-11 1L8.5 8.5l.94-2.06 2.06-.94-2.06-.94L8.5 2.5l-.94 2.06-2.06.94zm10 10l.94 2.06.94-2.06 2.06-.94-2.06-.94-.94-2.06-.94 2.06-2.06.94z\"/><path d=\"M17.41 7.96l-1.37-1.37c-.4-.4-.92-.59-1.43-.59-.52 0-1.04.2-1.43.59L10.3 9.45l-7.72 7.72c-.78.78-.78 2.05 0 2.83L4 21.41c.39.39.9.59 1.41.59.51 0 1.02-.2 1.41-.59l7.78-7.78 2.81-2.81c.8-.78.8-2.07 0-2.86zM5.41 20L4 18.59l7.72-7.72 1.47 1.35L5.41 20z\"/>\n",
              "  </svg>\n",
              "      </button>\n",
              "      \n",
              "  <style>\n",
              "    .colab-df-container {\n",
              "      display:flex;\n",
              "      flex-wrap:wrap;\n",
              "      gap: 12px;\n",
              "    }\n",
              "\n",
              "    .colab-df-convert {\n",
              "      background-color: #E8F0FE;\n",
              "      border: none;\n",
              "      border-radius: 50%;\n",
              "      cursor: pointer;\n",
              "      display: none;\n",
              "      fill: #1967D2;\n",
              "      height: 32px;\n",
              "      padding: 0 0 0 0;\n",
              "      width: 32px;\n",
              "    }\n",
              "\n",
              "    .colab-df-convert:hover {\n",
              "      background-color: #E2EBFA;\n",
              "      box-shadow: 0px 1px 2px rgba(60, 64, 67, 0.3), 0px 1px 3px 1px rgba(60, 64, 67, 0.15);\n",
              "      fill: #174EA6;\n",
              "    }\n",
              "\n",
              "    [theme=dark] .colab-df-convert {\n",
              "      background-color: #3B4455;\n",
              "      fill: #D2E3FC;\n",
              "    }\n",
              "\n",
              "    [theme=dark] .colab-df-convert:hover {\n",
              "      background-color: #434B5C;\n",
              "      box-shadow: 0px 1px 3px 1px rgba(0, 0, 0, 0.15);\n",
              "      filter: drop-shadow(0px 1px 2px rgba(0, 0, 0, 0.3));\n",
              "      fill: #FFFFFF;\n",
              "    }\n",
              "  </style>\n",
              "\n",
              "      <script>\n",
              "        const buttonEl =\n",
              "          document.querySelector('#df-80942c1d-c7cb-49f3-a7a4-036f7d7cb6cd button.colab-df-convert');\n",
              "        buttonEl.style.display =\n",
              "          google.colab.kernel.accessAllowed ? 'block' : 'none';\n",
              "\n",
              "        async function convertToInteractive(key) {\n",
              "          const element = document.querySelector('#df-80942c1d-c7cb-49f3-a7a4-036f7d7cb6cd');\n",
              "          const dataTable =\n",
              "            await google.colab.kernel.invokeFunction('convertToInteractive',\n",
              "                                                     [key], {});\n",
              "          if (!dataTable) return;\n",
              "\n",
              "          const docLinkHtml = 'Like what you see? Visit the ' +\n",
              "            '<a target=\"_blank\" href=https://colab.research.google.com/notebooks/data_table.ipynb>data table notebook</a>'\n",
              "            + ' to learn more about interactive tables.';\n",
              "          element.innerHTML = '';\n",
              "          dataTable['output_type'] = 'display_data';\n",
              "          await google.colab.output.renderOutput(dataTable, element);\n",
              "          const docLink = document.createElement('div');\n",
              "          docLink.innerHTML = docLinkHtml;\n",
              "          element.appendChild(docLink);\n",
              "        }\n",
              "      </script>\n",
              "    </div>\n",
              "  </div>\n",
              "  "
            ]
          },
          "metadata": {},
          "execution_count": 25
        }
      ]
    },
    {
      "cell_type": "markdown",
      "source": [
        "De acordo com o resumo estatístico verificamos as seguintes situações:\n",
        "\n",
        "* Na variável 'price' temos 75% dos valores menores que 220.00 e o valor máximo é de 98159.00 por noite.\n",
        "* Na variável 'minimum_nigths' temos 75% dos valores abaixo de 30 dias e o maior está como 1250.00, o que é bem acima de 365 dias no ano.\n",
        "* NA variável 'number_of_reviews' temos 75% dos valores abaixo de 25 e seu valor máximo é de 1666.00.\n",
        "* Na variável 'calculated_host_listings_count' 75% é menor do que 4 e seu valor máximo é 487.\n",
        "* Na variável 'number_of_reviews_ltm tem 75% dos valores abaixo de 8 e seu valor máximo está em 992.00.\n",
        "\n",
        "Esses dados desmonstram a presença de ***outliers*** pois o valor máximo deles está absurdamente acima do que 75% das entradas.\n",
        "Para confirmarmos isso iremo plotar um boxplot para mais uma analise e confirmação dos ***outliers***"
      ],
      "metadata": {
        "id": "Gr7q5E9ziYn_"
      }
    },
    {
      "cell_type": "code",
      "source": [
        "df_clean.price.plot(kind='box', vert=False, figsize=(15, 3))\n",
        "plt.show()\n",
        "print(\"price: valores acima de 3000:\")\n",
        "print(\"{} entradas\".format(len(df_clean[df_clean.price > 3000])))\n",
        "print(\"{:.4f}%\".format((len(df_clean[df_clean.price > 3000]) / df.shape[0])*100))"
      ],
      "metadata": {
        "colab": {
          "base_uri": "https://localhost:8080/",
          "height": 265
        },
        "id": "-IQ6aNazhUSE",
        "outputId": "bf9b9d3e-69a7-4981-a85a-38c6f9aa5c55"
      },
      "execution_count": 26,
      "outputs": [
        {
          "output_type": "display_data",
          "data": {
            "text/plain": [
              "<Figure size 1080x216 with 1 Axes>"
            ],
            "image/png": "[encoded data removed]"
          },
          "metadata": {
            "needs_background": "light"
          }
        },
        {
          "output_type": "stream",
          "name": "stdout",
          "text": [
            "price: valores acima de 3000:\n",
            "136 entradas\n",
            "0.3275%\n"
          ]
        }
      ]
    },
    {
      "cell_type": "code",
      "source": [
        "df_clean.minimum_nights.plot(kind='box', vert=False, figsize=(15, 3))\n",
        "plt.show()\n",
        "\n",
        "print(\"minimum_nights: valores acima de 30:\")\n",
        "print(\"{} entradas\".format(len(df_clean[df_clean.minimum_nights > 30])))\n",
        "print(\"{:.4f}%\".format((len(df_clean[df_clean.minimum_nights > 30]) / df.shape[0])*100))"
      ],
      "metadata": {
        "colab": {
          "base_uri": "https://localhost:8080/",
          "height": 265
        },
        "id": "QMBsfc_Zla2c",
        "outputId": "58d7ccb0-9c50-4e13-eb82-d2d14a7506cc"
      },
      "execution_count": 27,
      "outputs": [
        {
          "output_type": "display_data",
          "data": {
            "text/plain": [
              "<Figure size 1080x216 with 1 Axes>"
            ],
            "image/png": "[encoded data removed]"
          },
          "metadata": {
            "needs_background": "light"
          }
        },
        {
          "output_type": "stream",
          "name": "stdout",
          "text": [
            "minimum_nights: valores acima de 30:\n",
            "1930 entradas\n",
            "4.6469%\n"
          ]
        }
      ]
    },
    {
      "cell_type": "code",
      "source": [
        "df_clean.number_of_reviews.plot(kind='box', vert=False, figsize=(15, 3))\n",
        "plt.show()\n",
        "\n",
        "print(\"number_of_reiews: valores acima de 300:\")\n",
        "print(\"{} entradas\".format(len(df_clean[df_clean.number_of_reviews > 300])))\n",
        "print(\"{:.4f}%\".format((len(df_clean[df_clean.number_of_reviews > 300]) / df.shape[0])*100))\n"
      ],
      "metadata": {
        "colab": {
          "base_uri": "https://localhost:8080/",
          "height": 265
        },
        "id": "oyfr41REmN9h",
        "outputId": "578abbb1-8281-49c3-b50c-faf80ea2371b"
      },
      "execution_count": 28,
      "outputs": [
        {
          "output_type": "display_data",
          "data": {
            "text/plain": [
              "<Figure size 1080x216 with 1 Axes>"
            ],
            "image/png": "[encoded data removed]"
          },
          "metadata": {
            "needs_background": "light"
          }
        },
        {
          "output_type": "stream",
          "name": "stdout",
          "text": [
            "number_of_reiews: valores acima de 300:\n",
            "275 entradas\n",
            "0.6621%\n"
          ]
        }
      ]
    },
    {
      "cell_type": "code",
      "source": [
        "df_clean.calculated_host_listings_count.plot(kind='box', vert=False, figsize=(15, 3))\n",
        "plt.show()\n",
        "\n",
        "print(\"calculated_host_listings_count: valores acima de 200:\")\n",
        "print(\"{} entradas\".format(len(df_clean[df_clean.calculated_host_listings_count > 200])))\n",
        "print(\"{:.4f}%\".format((len(df_clean[df_clean.calculated_host_listings_count > 200]) / df.shape[0])*100))\n",
        "print(\"Proprietários com mais de 200 imóveis:{}\".format(df_clean[df_clean.calculated_host_listings_count > 200].host_name.unique()))"
      ],
      "metadata": {
        "colab": {
          "base_uri": "https://localhost:8080/",
          "height": 282
        },
        "id": "WYxFB5SasPy_",
        "outputId": "813c1793-65e0-490e-f7d8-e9b4247331fa"
      },
      "execution_count": 29,
      "outputs": [
        {
          "output_type": "display_data",
          "data": {
            "text/plain": [
              "<Figure size 1080x216 with 1 Axes>"
            ],
            "image/png": "[encoded data removed]"
          },
          "metadata": {
            "needs_background": "light"
          }
        },
        {
          "output_type": "stream",
          "name": "stdout",
          "text": [
            "calculated_host_listings_count: valores acima de 200:\n",
            "1046 entradas\n",
            "2.5185%\n",
            "Proprietários com mais de 200 imóveis:['Blueground' 'Eugene' 'June']\n"
          ]
        }
      ]
    },
    {
      "cell_type": "code",
      "source": [
        "df_clean.number_of_reviews_ltm.plot(kind='box', vert=False, figsize=(15, 3))\n",
        "plt.show()\n",
        "\n",
        "print(\"number_of_reiews_ltm: valores acima de 365:\")\n",
        "print(\"{} entradas\".format(len(df_clean[df_clean.number_of_reviews_ltm > 365])))\n",
        "print(\"{:.4f}%\".format((len(df_clean[df_clean.number_of_reviews_ltm > 365]) / df.shape[0])*100))"
      ],
      "metadata": {
        "colab": {
          "base_uri": "https://localhost:8080/",
          "height": 265
        },
        "id": "ri_jtuVMoyr7",
        "outputId": "b9007b97-c905-4126-cfd9-ae014028617f"
      },
      "execution_count": 30,
      "outputs": [
        {
          "output_type": "display_data",
          "data": {
            "text/plain": [
              "<Figure size 1080x216 with 1 Axes>"
            ],
            "image/png": "[encoded data removed]"
          },
          "metadata": {
            "needs_background": "light"
          }
        },
        {
          "output_type": "stream",
          "name": "stdout",
          "text": [
            "number_of_reiews_ltm: valores acima de 365:\n",
            "7 entradas\n",
            "0.0169%\n"
          ]
        }
      ]
    },
    {
      "cell_type": "markdown",
      "source": [
        "Os ***outliers*** identificados acima serão retirados do dataset para termos uma visão melhor no histograma sem prejudicar a qualidade dos dados. Desta forma, faremos as exluções com os seguintes parâmetros:\n",
        "\n",
        "* Na variável 'price' assumiremos US$ 3,000.00 como um valor máximo para uma diária.\n",
        "* Na variável 'minimum_nights' consideraremos 30 dias como máximo de diárias minimas.\n",
        "* Na variável 'number_of_reviews' assumiremos 300 como número máximo, pois levando em consideração que apenas 275 imoveis contem avaliações acima de 300.\n",
        "* Na variável 'calculated_host_listings_count' faremos a exclução utilizando o limitador de 200 imoveis, pois somente 3 proprietários tem uma quantidade maior do que 200 imoveis disponiveis para hospedagem.\n",
        "* Na variável 'number_of_reviews_ltm' consideraremos o numero de 365, pois isso corresponde a uma avalicão por dia dos ultimos 12 meses."
      ],
      "metadata": {
        "id": "cf7zlekht3cS"
      }
    },
    {
      "cell_type": "markdown",
      "source": [
        "Para fazer a remoção dos dados conforme setup acima, usaremos os seguintes comandos:"
      ],
      "metadata": {
        "id": "AcKqJU1zhOv-"
      }
    },
    {
      "cell_type": "code",
      "source": [
        "df_clean.drop(df_clean[df_clean.price > 3000]. index, axis=0, inplace=True)\n",
        "df_clean.drop(df_clean[df_clean.price < 1]. index, axis=0, inplace=True)\n",
        "df_clean.drop(df_clean[df_clean.minimum_nights > 30]. index, axis=0, inplace=True)\n",
        "df_clean.drop(df_clean[df_clean.number_of_reviews > 300]. index, axis=0, inplace=True)\n",
        "df_clean.drop(df_clean[df_clean.calculated_host_listings_count > 200]. index, axis=0, inplace=True)\n",
        "df_clean.drop(df_clean[df_clean.number_of_reviews_ltm > 365]. index, axis=0, inplace=True)"
      ],
      "metadata": {
        "id": "K6etmCzmhN5T"
      },
      "execution_count": 31,
      "outputs": []
    },
    {
      "cell_type": "markdown",
      "source": [
        "Após essa remoção verificaremos novamente através da visualização do histograma como os dados estão dispostos."
      ],
      "metadata": {
        "id": "3rSmX9cbkGBl"
      }
    },
    {
      "cell_type": "code",
      "source": [
        "df_clean.hist(['price','minimum_nights', 'number_of_reviews', \n",
        "       'calculated_host_listings_count',\n",
        "       'availability_365', 'number_of_reviews_ltm'], bins=15, figsize=(15, 10), color='blue')"
      ],
      "metadata": {
        "colab": {
          "base_uri": "https://localhost:8080/",
          "height": 714
        },
        "id": "y7JpMX8lARhp",
        "outputId": "1af6ec23-6dd6-47fc-e65f-4b1fbe9ea1e9"
      },
      "execution_count": 32,
      "outputs": [
        {
          "output_type": "execute_result",
          "data": {
            "text/plain": [
              "array([[<Axes: title={'center': 'price'}>,\n",
              "        <Axes: title={'center': 'minimum_nights'}>],\n",
              "       [<Axes: title={'center': 'number_of_reviews'}>,\n",
              "        <Axes: title={'center': 'calculated_host_listings_count'}>],\n",
              "       [<Axes: title={'center': 'availability_365'}>,\n",
              "        <Axes: title={'center': 'number_of_reviews_ltm'}>]], dtype=object)"
            ]
          },
          "metadata": {},
          "execution_count": 32
        },
        {
          "output_type": "display_data",
          "data": {
            "text/plain": [
              "<Figure size 1080x720 with 6 Axes>"
            ],
            "image/png": "[encoded data removed]"
          },
          "metadata": {
            "needs_background": "light"
          }
        }
      ]
    },
    {
      "cell_type": "markdown",
      "metadata": {
        "id": "7x4aw1j5wNmn"
      },
      "source": [
        "# **5. Analisando os valores das hospedagens**\n",
        "\n",
        "Nesta seção realizaremos algumas análises em cima dos valores das hospedagens da cidade de Nova York. Para isso, utilizaremos as seguintes variáveis 'neighbourhood', 'neighbourhood_group', 'room_type', 'price', 'latidute', 'longitude', "
      ]
    },
    {
      "cell_type": "markdown",
      "source": [
        "Começaremos buscando a média geral dos preços para New York e em seguida iremos setorizando esses valores.\n",
        "Para localizar o preço médio iremos utilizar a função `describe()`."
      ],
      "metadata": {
        "id": "jdhRI8CrAVvc"
      }
    },
    {
      "cell_type": "code",
      "source": [
        "df_clean.price.describe()\n",
        "Média = df_clean.price.mean()\n",
        "print(f\"*Valor da Médio de uma Diária: US${Média: .2f}\")\n",
        "print()\n",
        "df_clean.price.hist(bins=100, figsize=(10, 3), color='blue')\n",
        "plt.ylabel('Quantidade de Imóveis')\n",
        "plt.xlabel('Valor do Aluguel')\n",
        "plt.xlim(0, 10)\n",
        "plt.xticks(range(25, 1000, 50))\n",
        "plt.show()\n"
      ],
      "metadata": {
        "colab": {
          "base_uri": "https://localhost:8080/",
          "height": 261
        },
        "id": "61ytlXS9AVEu",
        "outputId": "5a847754-2db1-43e5-f567-2a7fe961ad40"
      },
      "execution_count": 33,
      "outputs": [
        {
          "output_type": "stream",
          "name": "stdout",
          "text": [
            "*Valor da Médio de uma Diária: US$ 199.41\n",
            "\n"
          ]
        },
        {
          "output_type": "display_data",
          "data": {
            "text/plain": [
              "<Figure size 720x216 with 1 Axes>"
            ],
            "image/png": "[encoded data removed]"
          },
          "metadata": {
            "needs_background": "light"
          }
        }
      ]
    },
    {
      "cell_type": "markdown",
      "source": [
        "Com base nos dados apresentados acima podemos verificar que o preço médio para a cidade de Nova York é de 199,00 dolares. \n",
        "\n",
        "O histograma da variável 'price' também mostra que há uma grande quantidade de imóveis na faixa de 50 a 125 dolares. Deste modo, faremos uma análise por região para verificar quais são as areas mais baratas e mais caras NYC.\n"
      ],
      "metadata": {
        "id": "7pUQW-I1SDT3"
      }
    },
    {
      "cell_type": "markdown",
      "metadata": {
        "id": "MFa5NbnLJMcd"
      },
      "source": [
        "### **5.1.Valores por localidade**\n",
        "\n"
      ]
    },
    {
      "cell_type": "markdown",
      "source": [
        "Iremos verificar a média de preços por região, utilizando duas variáveis para isso, a primeira será 'neighbourhood', para identificarmos o bairro mais caro e o mais barato e a segunda é 'neighbourhood_group', ou seja, os grupos de bairros que já estão inseridos no dataset para identificarmos quais zonas da cidade são as mais caras em média."
      ],
      "metadata": {
        "id": "Ta-lwyg8ajgu"
      }
    },
    {
      "cell_type": "code",
      "source": [
        "df_clean.groupby('neighbourhood').price.mean().sort_values(ascending=False)"
      ],
      "metadata": {
        "colab": {
          "base_uri": "https://localhost:8080/"
        },
        "id": "Xfp0TD8v7Pev",
        "outputId": "c043f02c-44d8-4576-de4b-6224bb3aa11d"
      },
      "execution_count": 34,
      "outputs": [
        {
          "output_type": "execute_result",
          "data": {
            "text/plain": [
              "neighbourhood\n",
              "Fort Wadsworth      650.000000\n",
              "Theater District    616.445205\n",
              "Tribeca             541.504065\n",
              "SoHo                535.237736\n",
              "Hollis Hills        484.000000\n",
              "                       ...    \n",
              "West Farms           74.333333\n",
              "Country Club         70.000000\n",
              "Grant City           65.750000\n",
              "Bull's Head          60.000000\n",
              "New Dorp             40.000000\n",
              "Name: price, Length: 223, dtype: float64"
            ]
          },
          "metadata": {},
          "execution_count": 34
        }
      ]
    },
    {
      "cell_type": "markdown",
      "source": [
        "Como podemos ver com a funcão chamada, dos 223 bairros listados no dataset o bairro mais caro da cidade de Nova York é o ***Fort Wadsworth*** com uma média de 650,00 dolares, porem devemos consultar a quantidade de imoveis existente nessa localidade para confirmar se está informação é correspondente de um conjunto de imoveis ou de um unico imovel.\n",
        "Para isso iremos localizar todos os imoveis que constam dentro deste bairro com a funcão `loc`"
      ],
      "metadata": {
        "id": "QSepNqcQ8RL7"
      }
    },
    {
      "cell_type": "code",
      "source": [
        "df_clean.loc[df_clean['neighbourhood'] == 'Fort Wadsworth'].head()"
      ],
      "metadata": {
        "colab": {
          "base_uri": "https://localhost:8080/",
          "height": 232
        },
        "id": "wlLzS9vZ-Ar1",
        "outputId": "dcc3726a-f969-48e7-b40d-fef84ecf550e"
      },
      "execution_count": 35,
      "outputs": [
        {
          "output_type": "execute_result",
          "data": {
            "text/plain": [
              "             id                                             name  host_id  \\\n",
              "11457  20305160  Beach House Retreat. 15 minutes from Manhattan.  1715301   \n",
              "\n",
              "      host_name neighbourhood_group   neighbourhood  latitude  longitude  \\\n",
              "11457      Mark       Staten Island  Fort Wadsworth  40.59324   -74.0608   \n",
              "\n",
              "             room_type  price  minimum_nights  number_of_reviews  \\\n",
              "11457  Entire home/apt    650              30                  0   \n",
              "\n",
              "       calculated_host_listings_count  availability_365  number_of_reviews_ltm  \n",
              "11457                               2               365                      0  "
            ],
            "text/html": [
              "\n",
              "  <div id=\"df-d538a267-5fa3-4e97-bc0d-e1f0f4e17065\">\n",
              "    <div class=\"colab-df-container\">\n",
              "      <div>\n",
              "<style scoped>\n",
              "    .dataframe tbody tr th:only-of-type {\n",
              "        vertical-align: middle;\n",
              "    }\n",
              "\n",
              "    .dataframe tbody tr th {\n",
              "        vertical-align: top;\n",
              "    }\n",
              "\n",
              "    .dataframe thead th {\n",
              "        text-align: right;\n",
              "    }\n",
              "</style>\n",
              "<table border=\"1\" class=\"dataframe\">\n",
              "  <thead>\n",
              "    <tr style=\"text-align: right;\">\n",
              "      <th></th>\n",
              "      <th>id</th>\n",
              "      <th>name</th>\n",
              "      <th>host_id</th>\n",
              "      <th>host_name</th>\n",
              "      <th>neighbourhood_group</th>\n",
              "      <th>neighbourhood</th>\n",
              "      <th>latitude</th>\n",
              "      <th>longitude</th>\n",
              "      <th>room_type</th>\n",
              "      <th>price</th>\n",
              "      <th>minimum_nights</th>\n",
              "      <th>number_of_reviews</th>\n",
              "      <th>calculated_host_listings_count</th>\n",
              "      <th>availability_365</th>\n",
              "      <th>number_of_reviews_ltm</th>\n",
              "    </tr>\n",
              "  </thead>\n",
              "  <tbody>\n",
              "    <tr>\n",
              "      <th>11457</th>\n",
              "      <td>20305160</td>\n",
              "      <td>Beach House Retreat. 15 minutes from Manhattan.</td>\n",
              "      <td>1715301</td>\n",
              "      <td>Mark</td>\n",
              "      <td>Staten Island</td>\n",
              "      <td>Fort Wadsworth</td>\n",
              "      <td>40.59324</td>\n",
              "      <td>-74.0608</td>\n",
              "      <td>Entire home/apt</td>\n",
              "      <td>650</td>\n",
              "      <td>30</td>\n",
              "      <td>0</td>\n",
              "      <td>2</td>\n",
              "      <td>365</td>\n",
              "      <td>0</td>\n",
              "    </tr>\n",
              "  </tbody>\n",
              "</table>\n",
              "</div>\n",
              "      <button class=\"colab-df-convert\" onclick=\"convertToInteractive('df-d538a267-5fa3-4e97-bc0d-e1f0f4e17065')\"\n",
              "              title=\"Convert this dataframe to an interactive table.\"\n",
              "              style=\"display:none;\">\n",
              "        \n",
              "  <svg xmlns=\"http://www.w3.org/2000/svg\" height=\"24px\"viewBox=\"0 0 24 24\"\n",
              "       width=\"24px\">\n",
              "    <path d=\"M0 0h24v24H0V0z\" fill=\"none\"/>\n",
              "    <path d=\"M18.56 5.44l.94 2.06.94-2.06 2.06-.94-2.06-.94-.94-2.06-.94 2.06-2.06.94zm-11 1L8.5 8.5l.94-2.06 2.06-.94-2.06-.94L8.5 2.5l-.94 2.06-2.06.94zm10 10l.94 2.06.94-2.06 2.06-.94-2.06-.94-.94-2.06-.94 2.06-2.06.94z\"/><path d=\"M17.41 7.96l-1.37-1.37c-.4-.4-.92-.59-1.43-.59-.52 0-1.04.2-1.43.59L10.3 9.45l-7.72 7.72c-.78.78-.78 2.05 0 2.83L4 21.41c.39.39.9.59 1.41.59.51 0 1.02-.2 1.41-.59l7.78-7.78 2.81-2.81c.8-.78.8-2.07 0-2.86zM5.41 20L4 18.59l7.72-7.72 1.47 1.35L5.41 20z\"/>\n",
              "  </svg>\n",
              "      </button>\n",
              "      \n",
              "  <style>\n",
              "    .colab-df-container {\n",
              "      display:flex;\n",
              "      flex-wrap:wrap;\n",
              "      gap: 12px;\n",
              "    }\n",
              "\n",
              "    .colab-df-convert {\n",
              "      background-color: #E8F0FE;\n",
              "      border: none;\n",
              "      border-radius: 50%;\n",
              "      cursor: pointer;\n",
              "      display: none;\n",
              "      fill: #1967D2;\n",
              "      height: 32px;\n",
              "      padding: 0 0 0 0;\n",
              "      width: 32px;\n",
              "    }\n",
              "\n",
              "    .colab-df-convert:hover {\n",
              "      background-color: #E2EBFA;\n",
              "      box-shadow: 0px 1px 2px rgba(60, 64, 67, 0.3), 0px 1px 3px 1px rgba(60, 64, 67, 0.15);\n",
              "      fill: #174EA6;\n",
              "    }\n",
              "\n",
              "    [theme=dark] .colab-df-convert {\n",
              "      background-color: #3B4455;\n",
              "      fill: #D2E3FC;\n",
              "    }\n",
              "\n",
              "    [theme=dark] .colab-df-convert:hover {\n",
              "      background-color: #434B5C;\n",
              "      box-shadow: 0px 1px 3px 1px rgba(0, 0, 0, 0.15);\n",
              "      filter: drop-shadow(0px 1px 2px rgba(0, 0, 0, 0.3));\n",
              "      fill: #FFFFFF;\n",
              "    }\n",
              "  </style>\n",
              "\n",
              "      <script>\n",
              "        const buttonEl =\n",
              "          document.querySelector('#df-d538a267-5fa3-4e97-bc0d-e1f0f4e17065 button.colab-df-convert');\n",
              "        buttonEl.style.display =\n",
              "          google.colab.kernel.accessAllowed ? 'block' : 'none';\n",
              "\n",
              "        async function convertToInteractive(key) {\n",
              "          const element = document.querySelector('#df-d538a267-5fa3-4e97-bc0d-e1f0f4e17065');\n",
              "          const dataTable =\n",
              "            await google.colab.kernel.invokeFunction('convertToInteractive',\n",
              "                                                     [key], {});\n",
              "          if (!dataTable) return;\n",
              "\n",
              "          const docLinkHtml = 'Like what you see? Visit the ' +\n",
              "            '<a target=\"_blank\" href=https://colab.research.google.com/notebooks/data_table.ipynb>data table notebook</a>'\n",
              "            + ' to learn more about interactive tables.';\n",
              "          element.innerHTML = '';\n",
              "          dataTable['output_type'] = 'display_data';\n",
              "          await google.colab.output.renderOutput(dataTable, element);\n",
              "          const docLink = document.createElement('div');\n",
              "          docLink.innerHTML = docLinkHtml;\n",
              "          element.appendChild(docLink);\n",
              "        }\n",
              "      </script>\n",
              "    </div>\n",
              "  </div>\n",
              "  "
            ]
          },
          "metadata": {},
          "execution_count": 35
        }
      ]
    },
    {
      "cell_type": "markdown",
      "source": [
        "Como podemos ver neste bairro existe apenas um imovel e assim interferindo diretamente no ranking de valor médio.\n",
        "Iremos filtrar os bairros que têm menos de 50 entradas para garantir que os resultados sejam estatisticamente significativos e então faremos um novo ranking e agruparemos os bairros usando a função `groupby`, para obter os valores mediano, médio, Maximo, Minimo e a quantidade de hospedagem para cada bairro.\n",
        "\n"
      ],
      "metadata": {
        "id": "1xKulb-2_eOf"
      }
    },
    {
      "cell_type": "code",
      "source": [
        "counts = df_clean['neighbourhood'].value_counts(normalize=True, ascending=False)\n",
        "result = df_clean.groupby('neighbourhood').filter(lambda x: len(x) >= 50).groupby('neighbourhood')['price'].agg(['median', 'mean', 'max', 'min', 'size'])\n",
        "result = result.join(counts.rename('percentage'))\n",
        "result.columns = ['Valor Mediano', 'Valor Médio', 'Maior Valor', 'Menor Valor','Qts de Hospedagens', '% de Hospedagens em relação ao total']\n",
        "result.sort_values(by='Valor Médio', ascending=False)\n"
      ],
      "metadata": {
        "colab": {
          "base_uri": "https://localhost:8080/",
          "height": 534
        },
        "id": "UOuOwQ6EB6mt",
        "outputId": "683ae7b9-2336-4305-9dab-9e239f1ee331"
      },
      "execution_count": 190,
      "outputs": [
        {
          "output_type": "execute_result",
          "data": {
            "text/plain": [
              "                    Valor Mediano  Valor Médio  Maior Valor  Menor Valor  \\\n",
              "neighbourhood                                                              \n",
              "Theater District            457.5   616.445205         2999           44   \n",
              "Tribeca                     364.0   541.504065         2714           42   \n",
              "SoHo                        270.0   535.237736         3000           46   \n",
              "Midtown                     282.0   439.221224         2886           44   \n",
              "Financial District          342.5   414.260784         2922           35   \n",
              "...                           ...          ...          ...          ...   \n",
              "Elmhurst                     61.0    91.460432         2000           20   \n",
              "Fordham                      66.0    90.014085          350           34   \n",
              "Inwood                       79.0    88.657754          350           32   \n",
              "Jackson Heights              73.0    87.268722          579           19   \n",
              "Woodside                     45.0    85.125000          879           10   \n",
              "\n",
              "                    Qts de Hospedagens  % de Hospedagens em relação ao total  \n",
              "neighbourhood                                                                 \n",
              "Theater District                   292                              0.007500  \n",
              "Tribeca                            123                              0.003159  \n",
              "SoHo                               265                              0.006806  \n",
              "Midtown                           1781                              0.045743  \n",
              "Financial District                 510                              0.013099  \n",
              "...                                ...                                   ...  \n",
              "Elmhurst                           278                              0.007140  \n",
              "Fordham                             71                              0.001824  \n",
              "Inwood                             187                              0.004803  \n",
              "Jackson Heights                    227                              0.005830  \n",
              "Woodside                           360                              0.009246  \n",
              "\n",
              "[101 rows x 6 columns]"
            ],
            "text/html": [
              "\n",
              "  <div id=\"df-d79d4b34-037c-4030-9933-a540eaf4d685\">\n",
              "    <div class=\"colab-df-container\">\n",
              "      <div>\n",
              "<style scoped>\n",
              "    .dataframe tbody tr th:only-of-type {\n",
              "        vertical-align: middle;\n",
              "    }\n",
              "\n",
              "    .dataframe tbody tr th {\n",
              "        vertical-align: top;\n",
              "    }\n",
              "\n",
              "    .dataframe thead th {\n",
              "        text-align: right;\n",
              "    }\n",
              "</style>\n",
              "<table border=\"1\" class=\"dataframe\">\n",
              "  <thead>\n",
              "    <tr style=\"text-align: right;\">\n",
              "      <th></th>\n",
              "      <th>Valor Mediano</th>\n",
              "      <th>Valor Médio</th>\n",
              "      <th>Maior Valor</th>\n",
              "      <th>Menor Valor</th>\n",
              "      <th>Qts de Hospedagens</th>\n",
              "      <th>% de Hospedagens em relação ao total</th>\n",
              "    </tr>\n",
              "    <tr>\n",
              "      <th>neighbourhood</th>\n",
              "      <th></th>\n",
              "      <th></th>\n",
              "      <th></th>\n",
              "      <th></th>\n",
              "      <th></th>\n",
              "      <th></th>\n",
              "    </tr>\n",
              "  </thead>\n",
              "  <tbody>\n",
              "    <tr>\n",
              "      <th>Theater District</th>\n",
              "      <td>457.5</td>\n",
              "      <td>616.445205</td>\n",
              "      <td>2999</td>\n",
              "      <td>44</td>\n",
              "      <td>292</td>\n",
              "      <td>0.007500</td>\n",
              "    </tr>\n",
              "    <tr>\n",
              "      <th>Tribeca</th>\n",
              "      <td>364.0</td>\n",
              "      <td>541.504065</td>\n",
              "      <td>2714</td>\n",
              "      <td>42</td>\n",
              "      <td>123</td>\n",
              "      <td>0.003159</td>\n",
              "    </tr>\n",
              "    <tr>\n",
              "      <th>SoHo</th>\n",
              "      <td>270.0</td>\n",
              "      <td>535.237736</td>\n",
              "      <td>3000</td>\n",
              "      <td>46</td>\n",
              "      <td>265</td>\n",
              "      <td>0.006806</td>\n",
              "    </tr>\n",
              "    <tr>\n",
              "      <th>Midtown</th>\n",
              "      <td>282.0</td>\n",
              "      <td>439.221224</td>\n",
              "      <td>2886</td>\n",
              "      <td>44</td>\n",
              "      <td>1781</td>\n",
              "      <td>0.045743</td>\n",
              "    </tr>\n",
              "    <tr>\n",
              "      <th>Financial District</th>\n",
              "      <td>342.5</td>\n",
              "      <td>414.260784</td>\n",
              "      <td>2922</td>\n",
              "      <td>35</td>\n",
              "      <td>510</td>\n",
              "      <td>0.013099</td>\n",
              "    </tr>\n",
              "    <tr>\n",
              "      <th>...</th>\n",
              "      <td>...</td>\n",
              "      <td>...</td>\n",
              "      <td>...</td>\n",
              "      <td>...</td>\n",
              "      <td>...</td>\n",
              "      <td>...</td>\n",
              "    </tr>\n",
              "    <tr>\n",
              "      <th>Elmhurst</th>\n",
              "      <td>61.0</td>\n",
              "      <td>91.460432</td>\n",
              "      <td>2000</td>\n",
              "      <td>20</td>\n",
              "      <td>278</td>\n",
              "      <td>0.007140</td>\n",
              "    </tr>\n",
              "    <tr>\n",
              "      <th>Fordham</th>\n",
              "      <td>66.0</td>\n",
              "      <td>90.014085</td>\n",
              "      <td>350</td>\n",
              "      <td>34</td>\n",
              "      <td>71</td>\n",
              "      <td>0.001824</td>\n",
              "    </tr>\n",
              "    <tr>\n",
              "      <th>Inwood</th>\n",
              "      <td>79.0</td>\n",
              "      <td>88.657754</td>\n",
              "      <td>350</td>\n",
              "      <td>32</td>\n",
              "      <td>187</td>\n",
              "      <td>0.004803</td>\n",
              "    </tr>\n",
              "    <tr>\n",
              "      <th>Jackson Heights</th>\n",
              "      <td>73.0</td>\n",
              "      <td>87.268722</td>\n",
              "      <td>579</td>\n",
              "      <td>19</td>\n",
              "      <td>227</td>\n",
              "      <td>0.005830</td>\n",
              "    </tr>\n",
              "    <tr>\n",
              "      <th>Woodside</th>\n",
              "      <td>45.0</td>\n",
              "      <td>85.125000</td>\n",
              "      <td>879</td>\n",
              "      <td>10</td>\n",
              "      <td>360</td>\n",
              "      <td>0.009246</td>\n",
              "    </tr>\n",
              "  </tbody>\n",
              "</table>\n",
              "<p>101 rows × 6 columns</p>\n",
              "</div>\n",
              "      <button class=\"colab-df-convert\" onclick=\"convertToInteractive('df-d79d4b34-037c-4030-9933-a540eaf4d685')\"\n",
              "              title=\"Convert this dataframe to an interactive table.\"\n",
              "              style=\"display:none;\">\n",
              "        \n",
              "  <svg xmlns=\"http://www.w3.org/2000/svg\" height=\"24px\"viewBox=\"0 0 24 24\"\n",
              "       width=\"24px\">\n",
              "    <path d=\"M0 0h24v24H0V0z\" fill=\"none\"/>\n",
              "    <path d=\"M18.56 5.44l.94 2.06.94-2.06 2.06-.94-2.06-.94-.94-2.06-.94 2.06-2.06.94zm-11 1L8.5 8.5l.94-2.06 2.06-.94-2.06-.94L8.5 2.5l-.94 2.06-2.06.94zm10 10l.94 2.06.94-2.06 2.06-.94-2.06-.94-.94-2.06-.94 2.06-2.06.94z\"/><path d=\"M17.41 7.96l-1.37-1.37c-.4-.4-.92-.59-1.43-.59-.52 0-1.04.2-1.43.59L10.3 9.45l-7.72 7.72c-.78.78-.78 2.05 0 2.83L4 21.41c.39.39.9.59 1.41.59.51 0 1.02-.2 1.41-.59l7.78-7.78 2.81-2.81c.8-.78.8-2.07 0-2.86zM5.41 20L4 18.59l7.72-7.72 1.47 1.35L5.41 20z\"/>\n",
              "  </svg>\n",
              "      </button>\n",
              "      \n",
              "  <style>\n",
              "    .colab-df-container {\n",
              "      display:flex;\n",
              "      flex-wrap:wrap;\n",
              "      gap: 12px;\n",
              "    }\n",
              "\n",
              "    .colab-df-convert {\n",
              "      background-color: #E8F0FE;\n",
              "      border: none;\n",
              "      border-radius: 50%;\n",
              "      cursor: pointer;\n",
              "      display: none;\n",
              "      fill: #1967D2;\n",
              "      height: 32px;\n",
              "      padding: 0 0 0 0;\n",
              "      width: 32px;\n",
              "    }\n",
              "\n",
              "    .colab-df-convert:hover {\n",
              "      background-color: #E2EBFA;\n",
              "      box-shadow: 0px 1px 2px rgba(60, 64, 67, 0.3), 0px 1px 3px 1px rgba(60, 64, 67, 0.15);\n",
              "      fill: #174EA6;\n",
              "    }\n",
              "\n",
              "    [theme=dark] .colab-df-convert {\n",
              "      background-color: #3B4455;\n",
              "      fill: #D2E3FC;\n",
              "    }\n",
              "\n",
              "    [theme=dark] .colab-df-convert:hover {\n",
              "      background-color: #434B5C;\n",
              "      box-shadow: 0px 1px 3px 1px rgba(0, 0, 0, 0.15);\n",
              "      filter: drop-shadow(0px 1px 2px rgba(0, 0, 0, 0.3));\n",
              "      fill: #FFFFFF;\n",
              "    }\n",
              "  </style>\n",
              "\n",
              "      <script>\n",
              "        const buttonEl =\n",
              "          document.querySelector('#df-d79d4b34-037c-4030-9933-a540eaf4d685 button.colab-df-convert');\n",
              "        buttonEl.style.display =\n",
              "          google.colab.kernel.accessAllowed ? 'block' : 'none';\n",
              "\n",
              "        async function convertToInteractive(key) {\n",
              "          const element = document.querySelector('#df-d79d4b34-037c-4030-9933-a540eaf4d685');\n",
              "          const dataTable =\n",
              "            await google.colab.kernel.invokeFunction('convertToInteractive',\n",
              "                                                     [key], {});\n",
              "          if (!dataTable) return;\n",
              "\n",
              "          const docLinkHtml = 'Like what you see? Visit the ' +\n",
              "            '<a target=\"_blank\" href=https://colab.research.google.com/notebooks/data_table.ipynb>data table notebook</a>'\n",
              "            + ' to learn more about interactive tables.';\n",
              "          element.innerHTML = '';\n",
              "          dataTable['output_type'] = 'display_data';\n",
              "          await google.colab.output.renderOutput(dataTable, element);\n",
              "          const docLink = document.createElement('div');\n",
              "          docLink.innerHTML = docLinkHtml;\n",
              "          element.appendChild(docLink);\n",
              "        }\n",
              "      </script>\n",
              "    </div>\n",
              "  </div>\n",
              "  "
            ]
          },
          "metadata": {},
          "execution_count": 190
        }
      ]
    },
    {
      "cell_type": "markdown",
      "source": [
        "Como podemos ver o ranking mudou significativamente e agora podemos dizer que os bairros mais caros da cidade de Nova York são ***Theater District, Tribeca, SoHo, Midtown, Financial District*** e os mais baratos são ***Elmhurst, Fordham, Inwood, Jackson Heights e Woodside***\n",
        "\n",
        "Agora veremos também a qual região da cidade esses bairros pertencem e criaremos um ranking por região.\n"
      ],
      "metadata": {
        "id": "6_hPh4R2EOI9"
      }
    },
    {
      "cell_type": "code",
      "source": [
        "# Bairros mais caros\n",
        "caros = df_clean.loc[df_clean['neighbourhood'].isin(['Theater District', 'Tribeca', 'SoHo', 'Midtown', 'Financial District']), 'neighbourhood_group'].iloc[0]\n",
        "print(\"Bairros mais caros pertencem a\", caros)\n",
        "\n",
        "# Bairros mais baratos\n",
        "baratos = df_clean.loc[df_clean['neighbourhood'].isin(['Elmhurst', 'Fordham', 'Inwood', 'Jackson Heights', 'Woodside']), 'neighbourhood_group'].iloc[0]\n",
        "print(\"Bairros mais baratos pertencem a\", baratos)\n"
      ],
      "metadata": {
        "colab": {
          "base_uri": "https://localhost:8080/"
        },
        "id": "fSEI_scQ5r6f",
        "outputId": "998063d2-d44e-433d-86b0-a48b47fae624"
      },
      "execution_count": 165,
      "outputs": [
        {
          "output_type": "stream",
          "name": "stdout",
          "text": [
            "Bairros mais caros pertencem a Manhattan\n",
            "Bairros mais baratos pertencem a Queens\n"
          ]
        }
      ]
    },
    {
      "cell_type": "code",
      "source": [
        "counts = df_clean['neighbourhood_group'].value_counts(normalize=True, ascending=False)\n",
        "result = df_clean.groupby('neighbourhood_group').filter(lambda x: len(x) >= 50).groupby('neighbourhood_group')['price'].agg(['median', 'mean', 'max', 'min', 'size'])\n",
        "result = result.join(counts.rename('percentage'))\n",
        "result.columns = ['Valor Mediano', 'Valor Médio', 'Maior Valor', 'Menor Valor', 'Qts de Hospedagens', '% de Hospedagens em relação ao total']\n",
        "result.sort_values(by='Valor Médio', ascending=False)"
      ],
      "metadata": {
        "colab": {
          "base_uri": "https://localhost:8080/",
          "height": 299
        },
        "id": "hsjvjm-7Y4zS",
        "outputId": "01c234f8-00ac-4ff1-85e6-35c11446af7b"
      },
      "execution_count": 157,
      "outputs": [
        {
          "output_type": "execute_result",
          "data": {
            "text/plain": [
              "                     Valor Mediano  Valor Médio  Maior Valor  Menor Valor  \\\n",
              "neighbourhood_group                                                         \n",
              "Manhattan                    175.0   275.038904         3000           10   \n",
              "Brooklyn                     120.0   159.710494         3000           10   \n",
              "Staten Island                100.0   141.111675         1929           30   \n",
              "Queens                        94.0   125.817572         2257           10   \n",
              "Bronx                         89.0   115.087708         2000           10   \n",
              "\n",
              "                     Qts de Hospedagens  % de Hospedagens em relação ao total  \n",
              "neighbourhood_group                                                            \n",
              "Manhattan                         15911                              0.408655  \n",
              "Brooklyn                          14808                              0.380326  \n",
              "Staten Island                       394                              0.010119  \n",
              "Queens                             6260                              0.160781  \n",
              "Bronx                              1562                              0.040118  "
            ],
            "text/html": [
              "\n",
              "  <div id=\"df-7f4cc882-69ab-4603-8a27-f76333d43b8b\">\n",
              "    <div class=\"colab-df-container\">\n",
              "      <div>\n",
              "<style scoped>\n",
              "    .dataframe tbody tr th:only-of-type {\n",
              "        vertical-align: middle;\n",
              "    }\n",
              "\n",
              "    .dataframe tbody tr th {\n",
              "        vertical-align: top;\n",
              "    }\n",
              "\n",
              "    .dataframe thead th {\n",
              "        text-align: right;\n",
              "    }\n",
              "</style>\n",
              "<table border=\"1\" class=\"dataframe\">\n",
              "  <thead>\n",
              "    <tr style=\"text-align: right;\">\n",
              "      <th></th>\n",
              "      <th>Valor Mediano</th>\n",
              "      <th>Valor Médio</th>\n",
              "      <th>Maior Valor</th>\n",
              "      <th>Menor Valor</th>\n",
              "      <th>Qts de Hospedagens</th>\n",
              "      <th>% de Hospedagens em relação ao total</th>\n",
              "    </tr>\n",
              "    <tr>\n",
              "      <th>neighbourhood_group</th>\n",
              "      <th></th>\n",
              "      <th></th>\n",
              "      <th></th>\n",
              "      <th></th>\n",
              "      <th></th>\n",
              "      <th></th>\n",
              "    </tr>\n",
              "  </thead>\n",
              "  <tbody>\n",
              "    <tr>\n",
              "      <th>Manhattan</th>\n",
              "      <td>175.0</td>\n",
              "      <td>275.038904</td>\n",
              "      <td>3000</td>\n",
              "      <td>10</td>\n",
              "      <td>15911</td>\n",
              "      <td>0.408655</td>\n",
              "    </tr>\n",
              "    <tr>\n",
              "      <th>Brooklyn</th>\n",
              "      <td>120.0</td>\n",
              "      <td>159.710494</td>\n",
              "      <td>3000</td>\n",
              "      <td>10</td>\n",
              "      <td>14808</td>\n",
              "      <td>0.380326</td>\n",
              "    </tr>\n",
              "    <tr>\n",
              "      <th>Staten Island</th>\n",
              "      <td>100.0</td>\n",
              "      <td>141.111675</td>\n",
              "      <td>1929</td>\n",
              "      <td>30</td>\n",
              "      <td>394</td>\n",
              "      <td>0.010119</td>\n",
              "    </tr>\n",
              "    <tr>\n",
              "      <th>Queens</th>\n",
              "      <td>94.0</td>\n",
              "      <td>125.817572</td>\n",
              "      <td>2257</td>\n",
              "      <td>10</td>\n",
              "      <td>6260</td>\n",
              "      <td>0.160781</td>\n",
              "    </tr>\n",
              "    <tr>\n",
              "      <th>Bronx</th>\n",
              "      <td>89.0</td>\n",
              "      <td>115.087708</td>\n",
              "      <td>2000</td>\n",
              "      <td>10</td>\n",
              "      <td>1562</td>\n",
              "      <td>0.040118</td>\n",
              "    </tr>\n",
              "  </tbody>\n",
              "</table>\n",
              "</div>\n",
              "      <button class=\"colab-df-convert\" onclick=\"convertToInteractive('df-7f4cc882-69ab-4603-8a27-f76333d43b8b')\"\n",
              "              title=\"Convert this dataframe to an interactive table.\"\n",
              "              style=\"display:none;\">\n",
              "        \n",
              "  <svg xmlns=\"http://www.w3.org/2000/svg\" height=\"24px\"viewBox=\"0 0 24 24\"\n",
              "       width=\"24px\">\n",
              "    <path d=\"M0 0h24v24H0V0z\" fill=\"none\"/>\n",
              "    <path d=\"M18.56 5.44l.94 2.06.94-2.06 2.06-.94-2.06-.94-.94-2.06-.94 2.06-2.06.94zm-11 1L8.5 8.5l.94-2.06 2.06-.94-2.06-.94L8.5 2.5l-.94 2.06-2.06.94zm10 10l.94 2.06.94-2.06 2.06-.94-2.06-.94-.94-2.06-.94 2.06-2.06.94z\"/><path d=\"M17.41 7.96l-1.37-1.37c-.4-.4-.92-.59-1.43-.59-.52 0-1.04.2-1.43.59L10.3 9.45l-7.72 7.72c-.78.78-.78 2.05 0 2.83L4 21.41c.39.39.9.59 1.41.59.51 0 1.02-.2 1.41-.59l7.78-7.78 2.81-2.81c.8-.78.8-2.07 0-2.86zM5.41 20L4 18.59l7.72-7.72 1.47 1.35L5.41 20z\"/>\n",
              "  </svg>\n",
              "      </button>\n",
              "      \n",
              "  <style>\n",
              "    .colab-df-container {\n",
              "      display:flex;\n",
              "      flex-wrap:wrap;\n",
              "      gap: 12px;\n",
              "    }\n",
              "\n",
              "    .colab-df-convert {\n",
              "      background-color: #E8F0FE;\n",
              "      border: none;\n",
              "      border-radius: 50%;\n",
              "      cursor: pointer;\n",
              "      display: none;\n",
              "      fill: #1967D2;\n",
              "      height: 32px;\n",
              "      padding: 0 0 0 0;\n",
              "      width: 32px;\n",
              "    }\n",
              "\n",
              "    .colab-df-convert:hover {\n",
              "      background-color: #E2EBFA;\n",
              "      box-shadow: 0px 1px 2px rgba(60, 64, 67, 0.3), 0px 1px 3px 1px rgba(60, 64, 67, 0.15);\n",
              "      fill: #174EA6;\n",
              "    }\n",
              "\n",
              "    [theme=dark] .colab-df-convert {\n",
              "      background-color: #3B4455;\n",
              "      fill: #D2E3FC;\n",
              "    }\n",
              "\n",
              "    [theme=dark] .colab-df-convert:hover {\n",
              "      background-color: #434B5C;\n",
              "      box-shadow: 0px 1px 3px 1px rgba(0, 0, 0, 0.15);\n",
              "      filter: drop-shadow(0px 1px 2px rgba(0, 0, 0, 0.3));\n",
              "      fill: #FFFFFF;\n",
              "    }\n",
              "  </style>\n",
              "\n",
              "      <script>\n",
              "        const buttonEl =\n",
              "          document.querySelector('#df-7f4cc882-69ab-4603-8a27-f76333d43b8b button.colab-df-convert');\n",
              "        buttonEl.style.display =\n",
              "          google.colab.kernel.accessAllowed ? 'block' : 'none';\n",
              "\n",
              "        async function convertToInteractive(key) {\n",
              "          const element = document.querySelector('#df-7f4cc882-69ab-4603-8a27-f76333d43b8b');\n",
              "          const dataTable =\n",
              "            await google.colab.kernel.invokeFunction('convertToInteractive',\n",
              "                                                     [key], {});\n",
              "          if (!dataTable) return;\n",
              "\n",
              "          const docLinkHtml = 'Like what you see? Visit the ' +\n",
              "            '<a target=\"_blank\" href=https://colab.research.google.com/notebooks/data_table.ipynb>data table notebook</a>'\n",
              "            + ' to learn more about interactive tables.';\n",
              "          element.innerHTML = '';\n",
              "          dataTable['output_type'] = 'display_data';\n",
              "          await google.colab.output.renderOutput(dataTable, element);\n",
              "          const docLink = document.createElement('div');\n",
              "          docLink.innerHTML = docLinkHtml;\n",
              "          element.appendChild(docLink);\n",
              "        }\n",
              "      </script>\n",
              "    </div>\n",
              "  </div>\n",
              "  "
            ]
          },
          "metadata": {},
          "execution_count": 157
        }
      ]
    },
    {
      "cell_type": "markdown",
      "source": [
        "Com os dados acima confirmamos que os bairros mais caros e baratos são os mencionados pois os grupos a que eles pertencem seguem o mesmo padrão.\n",
        "Outra informação que podemos retirar desta analise é que os dois agrupamentos de bairros mais caros são também os que têm a maior quantidade de hospedagens disponiveis juntos somama quase 80% de todas as hospedagens de Nova York."
      ],
      "metadata": {
        "id": "z1IAFoax5sSb"
      }
    },
    {
      "cell_type": "markdown",
      "source": [
        "Para termos uma noção mais visual desses dados vamos plotar um `HeatMap` com base nos valores médios dos alugeis"
      ],
      "metadata": {
        "id": "QJjtN6O-H1eA"
      }
    },
    {
      "cell_type": "code",
      "source": [
        "#coordenadas do centro do mapa\n",
        "lat, lon = 40.7128, -74.0060\n",
        "\n",
        "# O mapa com base nas coordenadas do centro\n",
        "ny_map = folium.Map(location=[lat, lon], zoom_start=11)\n",
        "\n",
        "# obter as coordenadas e preços médios dos bairros\n",
        "result = df_clean.groupby('neighbourhood')[['latitude', 'longitude', 'price']].mean().reset_index()\n",
        "\n",
        "# plotar o heatmap com base nas coordenadas e preços médios dos bairros\n",
        "HeatMap(data=result[['latitude', 'longitude', 'price']], \n",
        "        name='heatmap', \n",
        "        min_opacity=0.4, \n",
        "        radius=15, \n",
        "        blur=6, \n",
        "        max_zoom=15, \n",
        "        gradient={0.8: 'blue', 0.4: 'purple', 0.8: 'orange', 1: 'red'}).add_to(ny_map)"
      ],
      "metadata": {
        "colab": {
          "base_uri": "https://localhost:8080/"
        },
        "id": "Wm71BV1tY6nK",
        "outputId": "5775164d-eda7-4685-b8bc-49106543c387"
      },
      "execution_count": 147,
      "outputs": [
        {
          "output_type": "execute_result",
          "data": {
            "text/plain": [
              "<folium.plugins.heat_map.HeatMap at 0x7f06ac2ae250>"
            ]
          },
          "metadata": {},
          "execution_count": 147
        }
      ]
    },
    {
      "cell_type": "code",
      "source": [
        "# exibir o mapa\n",
        "ny_map\n"
      ],
      "metadata": {
        "id": "VHqS2rwpObn2",
        "colab": {
          "base_uri": "https://localhost:8080/",
          "height": 627
        },
        "outputId": "aecb413b-3ccf-4517-a9b3-b1d4c399a200"
      },
      "execution_count": 148,
      "outputs": [
        {
          "output_type": "execute_result",
          "data": {
            "text/plain": [
              "<folium.folium.Map at 0x7f06ac2c68b0>"
            ],
            "text/html": [
              "<div style=\"width:100%;\"><div style=\"position:relative;width:100%;height:0;padding-bottom:60%;\"><span style=\"color:#565656\">Make this Notebook Trusted to load map: File -> Trust Notebook</span><iframe srcdoc=\"&lt;!DOCTYPE html&gt;\n",
              "&lt;html&gt;\n",
              "&lt;head&gt;\n",
              "    \n",
              "    &lt;meta http-equiv=&quot;content-type&quot; content=&quot;text/html; charset=UTF-8&quot; /&gt;\n",
              "    \n",
              "        &lt;script&gt;\n",
              "            L_NO_TOUCH = false;\n",
              "            L_DISABLE_3D = false;\n",
              "        &lt;/script&gt;\n",
              "    \n",
              "    &lt;style&gt;html, body {width: 100%;height: 100%;margin: 0;padding: 0;}&lt;/style&gt;\n",
              "    &lt;style&gt;#map {position:absolute;top:0;bottom:0;right:0;left:0;}&lt;/style&gt;\n",
              "    &lt;script src=&quot;https://cdn.jsdelivr.net/npm/leaflet@1.9.3/dist/leaflet.js&quot;&gt;&lt;/script&gt;\n",
              "    &lt;script src=&quot;https://code.jquery.com/jquery-1.12.4.min.js&quot;&gt;&lt;/script&gt;\n",
              "    &lt;script src=&quot;https://cdn.jsdelivr.net/npm/bootstrap@5.2.2/dist/js/bootstrap.bundle.min.js&quot;&gt;&lt;/script&gt;\n",
              "    &lt;script src=&quot;https://cdnjs.cloudflare.com/ajax/libs/Leaflet.awesome-markers/2.0.2/leaflet.awesome-markers.js&quot;&gt;&lt;/script&gt;\n",
              "    &lt;link rel=&quot;stylesheet&quot; href=&quot;https://cdn.jsdelivr.net/npm/leaflet@1.9.3/dist/leaflet.css&quot;/&gt;\n",
              "    &lt;link rel=&quot;stylesheet&quot; href=&quot;https://cdn.jsdelivr.net/npm/bootstrap@5.2.2/dist/css/bootstrap.min.css&quot;/&gt;\n",
              "    &lt;link rel=&quot;stylesheet&quot; href=&quot;https://netdna.bootstrapcdn.com/bootstrap/3.0.0/css/bootstrap.min.css&quot;/&gt;\n",
              "    &lt;link rel=&quot;stylesheet&quot; href=&quot;https://cdn.jsdelivr.net/npm/@fortawesome/fontawesome-free@6.2.0/css/all.min.css&quot;/&gt;\n",
              "    &lt;link rel=&quot;stylesheet&quot; href=&quot;https://cdnjs.cloudflare.com/ajax/libs/Leaflet.awesome-markers/2.0.2/leaflet.awesome-markers.css&quot;/&gt;\n",
              "    &lt;link rel=&quot;stylesheet&quot; href=&quot;https://cdn.jsdelivr.net/gh/python-visualization/folium/folium/templates/leaflet.awesome.rotate.min.css&quot;/&gt;\n",
              "    \n",
              "            &lt;meta name=&quot;viewport&quot; content=&quot;width=device-width,\n",
              "                initial-scale=1.0, maximum-scale=1.0, user-scalable=no&quot; /&gt;\n",
              "            &lt;style&gt;\n",
              "                #map_456873aafab9a215fe4ea1fe87586ebb {\n",
              "                    position: relative;\n",
              "                    width: 100.0%;\n",
              "                    height: 100.0%;\n",
              "                    left: 0.0%;\n",
              "                    top: 0.0%;\n",
              "                }\n",
              "                .leaflet-container { font-size: 1rem; }\n",
              "            &lt;/style&gt;\n",
              "        \n",
              "    &lt;script src=&quot;https://cdn.jsdelivr.net/gh/python-visualization/folium@main/folium/templates/leaflet_heat.min.js&quot;&gt;&lt;/script&gt;\n",
              "&lt;/head&gt;\n",
              "&lt;body&gt;\n",
              "    \n",
              "    \n",
              "            &lt;div class=&quot;folium-map&quot; id=&quot;map_456873aafab9a215fe4ea1fe87586ebb&quot; &gt;&lt;/div&gt;\n",
              "        \n",
              "&lt;/body&gt;\n",
              "&lt;script&gt;\n",
              "    \n",
              "    \n",
              "            var map_456873aafab9a215fe4ea1fe87586ebb = L.map(\n",
              "                &quot;map_456873aafab9a215fe4ea1fe87586ebb&quot;,\n",
              "                {\n",
              "                    center: [40.7128, -74.006],\n",
              "                    crs: L.CRS.EPSG3857,\n",
              "                    zoom: 11,\n",
              "                    zoomControl: true,\n",
              "                    preferCanvas: false,\n",
              "                }\n",
              "            );\n",
              "\n",
              "            \n",
              "\n",
              "        \n",
              "    \n",
              "            var tile_layer_bbf48c00a6177ac71b5a677302613198 = L.tileLayer(\n",
              "                &quot;https://{s}.tile.openstreetmap.org/{z}/{x}/{y}.png&quot;,\n",
              "                {&quot;attribution&quot;: &quot;Data by \\u0026copy; \\u003ca target=\\&quot;_blank\\&quot; href=\\&quot;http://openstreetmap.org\\&quot;\\u003eOpenStreetMap\\u003c/a\\u003e, under \\u003ca target=\\&quot;_blank\\&quot; href=\\&quot;http://www.openstreetmap.org/copyright\\&quot;\\u003eODbL\\u003c/a\\u003e.&quot;, &quot;detectRetina&quot;: false, &quot;maxNativeZoom&quot;: 18, &quot;maxZoom&quot;: 18, &quot;minZoom&quot;: 0, &quot;noWrap&quot;: false, &quot;opacity&quot;: 1, &quot;subdomains&quot;: &quot;abc&quot;, &quot;tms&quot;: false}\n",
              "            ).addTo(map_456873aafab9a215fe4ea1fe87586ebb);\n",
              "        \n",
              "    \n",
              "            var heat_map_28cf99b28683859cdc65a079b0b4c451 = L.heatLayer(\n",
              "                [[40.864897053879055, -73.85924253008106, 108.65217391304348], [40.55189650017838, -74.17592892795709, 134.25], [40.59258911764706, -74.07150970588235, 132.11764705882354], [40.59295648309175, -73.7951588812373, 188.1946902654867], [40.76488638601837, -73.92054460742324, 116.40401146131805], [40.605383671860146, -74.0049265168402, 114.07407407407408], [40.70995018333333, -74.01620065694445, 265.0138888888889], [40.631228452996794, -74.02592445343915, 122.86466165413533], [40.784802, -73.780484, 158.2], [40.872499561076395, -73.84176133321016, 116.13157894736842], [40.76228558333334, -73.76880671944444, 176.75], [40.606181013043475, -73.76230890434783, 104.95652173913044], [40.68693940855773, -73.93823350467974, 149.26686110098433], [40.578152, -73.84836675, 317.75], [40.729526297102666, -73.72751536773505, 147.22222222222223], [40.85448850294117, -73.88725572647058, 107.02941176470588], [40.61248845610786, -73.99420923788416, 107.32394366197182], [40.62429043199511, -73.90971092776347, 280.7], [40.68643480092842, -73.98564411564179, 261.58730158730157], [40.63696546954078, -73.99539491072231, 99.36144578313252], [40.567565, -73.86965000000001, 150.0], [40.710320455724535, -73.81438636601884, 139.71052631578948], [40.57890287500682, -73.96171007089282, 108.31884057971014], [40.854787095238095, -73.865247, 87.76190476190476], [40.694834627380956, -73.99458721071429, 254.4404761904762], [40.662847646576374, -73.91279277293735, 142.21951219512195], [40.60394, -74.16678, 60.0], [40.696140087448384, -73.92038945023184, 117.61284289276809], [40.69402541572313, -73.73625382127543, 126.28125], [40.639005057796744, -73.90153526176631, 138.51209677419354], [40.68078818634798, -73.99623396219029, 218.5028901734104], [40.81815156603262, -73.84940478560573, 122.6], [40.61931, -74.12203, 113.0], [40.74526759150991, -73.99741472268467, 381.8625954198473], [40.59357, -74.18529000000001, 85.0], [40.71604721903778, -73.99479018664479, 220.04897959183674], [40.848709285714285, -73.78785071428571, 141.92857142857142], [40.71374612903226, -74.0041829032258, 280.51612903225805], [40.84071435943881, -73.90742417008781, 95.54761904761905], [40.8120680197963, -73.85669264258732, 110.23913043478261], [40.62060727272728, -74.07706727272726, 161.36363636363637], [40.68798314803639, -73.96429383321077, 187.53025936599423], [40.86718843693678, -73.8266111591566, 98.66666666666667], [40.68764883709677, -73.9952315983871, 245.4516129032258], [40.78517075332937, -73.84467730737106, 119.45454545454545], [40.68523949420414, -74.00267327956671, 215.93548387096774], [40.603247777777774, -74.08248777777777, 123.88888888888889], [40.827444608815966, -73.92436814355872, 109.13207547169812], [40.829004190750226, -73.91794396420111, 93.28571428571429], [40.577138925, -73.99448453, 123.35], [40.741578855181416, -73.86071845166637, 106.6875], [40.84267633998416, -73.82092694007466, 70.0], [40.67296491672064, -73.9437366138733, 143.3445171849427], [40.682240814046445, -73.88284274190812, 124.8663101604278], [40.70313651166016, -73.98714082667959, 315.5238095238095], [40.77500386604902, -73.91023661907113, 124.67193675889328], [40.582723880993264, -74.09749392958969, 173.375], [40.760131666666666, -73.73617666666667, 82.16666666666667], [40.694505398613195, -73.98515844288414, 314.63492063492066], [40.6249525, -74.0117755, 108.35], [40.76229069228507, -73.87787371755593, 123.8663967611336], [40.64931688131537, -73.93661499275811, 134.58960573476702], [40.796056384245695, -73.94219930683892, 149.16387096774193], [40.832911, -73.887591, 119.1], [40.667560575475726, -73.88313986233284, 136.21832884097034], [40.72693662957668, -73.98422889767839, 216.068359375], [40.88181533333333, -73.83207, 138.33333333333334], [40.88767710967742, -73.84026383870967, 110.16129032258064], [40.59565164728267, -73.77344397585115, 166.5], [40.74052226821755, -73.87892884292586, 91.46043165467626], [40.541678000000005, -74.149416, 212.6], [40.607094000000004, -74.13006399999999, 119.4], [40.59902848883897, -73.75418751354997, 193.52], [40.8917613, -73.9015067, 108.9], [40.70686456952341, -74.0085252777096, 414.2607843137255], [40.645132214553385, -73.96011833216932, 143.06262626262625], [40.74194004481261, -73.9885946135687, 362.88695652173914], [40.62587566964028, -73.93068283639919, 147.77272727272728], [40.754470726936006, -73.81942688456812, 108.35181644359464], [40.86085385324963, -73.89654607096611, 90.01408450704226], [40.722684795214306, -73.84843253181207, 149.8709677419355], [40.68977658777554, -73.97422271508536, 189.2993827160494], [40.61801151322482, -74.03174561045601, 112.93023255813954], [40.59324, -74.0608, 650.0], [40.74075911764706, -73.78663195, 145.94117647058823], [40.59066, -73.92455000000001, 139.5], [40.70102380205502, -73.88613533946334, 123.2], [40.675108269481335, -73.98939820215756, 245.0], [40.73560877543348, -73.98445889380132, 232.52631578947367], [40.62192166666667, -74.15852333333333, 82.83333333333333], [40.57896, -74.11012083333334, 65.75], [40.59721214242424, -73.97718627424243, 137.0151515151515], [40.5508825, -74.14843, 133.0], [40.7279353818917, -73.95074963317799, 192.28922237380627], [40.731133114681704, -73.99799512930389, 304.21875], [40.61353666666667, -74.090455, 192.0], [40.815261113251445, -73.94787338192518, 151.6888888888889], [40.76134512396985, -73.99254949055803, 298.1312632321807], [40.83654111111111, -73.92704037037036, 88.0], [40.71246383808972, -73.76582944069692, 92.24242424242425], [40.73119, -73.75412, 484.0], [40.721895, -73.7687175, 199.25], [40.66044598450824, -73.84365886603067, 174.8125], [40.626823333333334, -74.17026333333332, 157.33333333333334], [40.54013333333333, -74.16936, 81.66666666666667], [40.8152345625, -73.8885340625, 85.75], [40.865423390879286, -73.92427203432769, 88.65775401069519], [40.752094674150506, -73.87957350915471, 87.26872246696036], [40.68578877485827, -73.78850445443312, 135.22191011235955], [40.71870080730654, -73.79459838620038, 180.82926829268294], [40.71316875, -73.79897375, 130.125], [40.64139706992037, -73.97598907757332, 140.45871559633028], [40.70736278059614, -73.8312291836376, 123.44186046511628], [40.72510617047879, -73.82004048295966, 162.69230769230768], [40.87620103913433, -73.90164941045528, 99.53571428571429], [40.741706585419415, -73.9791385460194, 235.71544715447155], [40.67562818664019, -73.74394941599634, 111.45833333333333], [40.576495, -74.13505, 164.0], [40.719184485202, -73.99678715004465, 220.26666666666668], [40.76756, -73.731785, 146.0], [40.75178111730939, -73.93834056778252, 195.3111111111111], [40.81954850298373, -73.90232454984861, 116.25352112676056], [40.719477273847644, -73.98916417755044, 275.5730061349693], [40.579546666666666, -73.94522888888889, 194.33333333333334], [40.87640887777778, -73.90974733333333, 107.22222222222223], [40.63405409925533, -74.1623716845499, 86.3], [40.729518622531494, -73.90121419804791, 123.1], [40.821134197558294, -73.91591946369465, 97.27272727272727], [40.71645951089517, -73.87861298208794, 160.33333333333334], [40.5737668, -74.0923009, 143.4], [40.75370829924262, -73.97861220207066, 439.221224031443], [40.61909381511628, -73.95869976511628, 101.97674418604652], [40.612724571428565, -73.91739621428572, 147.78571428571428], [40.80730986359264, -73.9620509290954, 134.8505747126437], [40.850130154561015, -73.91827163228312, 119.72727272727273], [40.851297455313585, -73.85564022743476, 98.91428571428571], [40.8289452, -73.905014945, 112.95], [40.81049987423948, -73.92101826228802, 141.79381443298968], [40.84111208057781, -73.9177166955129, 116.92307692307692], [40.8479116795963, -73.90543825378677, 127.82051282051282], [40.748215528447375, -73.97657688028478, 378.5382585751979], [40.69932613550019, -73.97441252733707, 403.8888888888889], [40.570080000000004, -73.86033499999999, 293.5], [40.63978866666667, -74.08985575, 173.66666666666666], [40.56853, -74.11843, 40.0], [40.56421289963454, -74.10203607408847, 109.28571428571429], [40.590075, -74.15700749999999, 135.75], [40.72623196991715, -73.9935828655402, 349.1764705882353], [40.72210557133224, -73.9946953905069, 258.7894736842105], [40.90636268357362, -73.9019722569249, 138.2], [40.87582942011402, -73.88043549390949, 104.87878787878788], [40.55960857142857, -74.12042142857142, 150.85714285714286], [40.879807400439645, -73.86623510875117, 125.57894736842105], [40.6801830815812, -73.84497404422021, 112.36170212765957], [40.67426444940885, -73.9789504571021, 222.67763157894737], [40.83683961045864, -73.8637181907594, 115.13636363636364], [40.84876714285714, -73.83199857142857, 135.64285714285714], [40.86323628545882, -73.8439714958592, 116.07317073170732], [40.80714438898574, -73.92715183707381, 133.94827586206895], [40.63136536703834, -74.13626191109556, 165.75], [40.52540571428572, -74.20633, 231.42857142857142], [40.67762826581686, -73.9679732557712, 195.44444444444446], [40.659416659032104, -73.95396588917605, 126.46210268948656], [40.71287275816206, -73.74237453764307, 127.88172043010752], [40.63550097927116, -74.11281525866394, 137.5], [40.67708402074073, -74.01001038163265, 216.79591836734693], [40.72717962978723, -73.85943297234043, 107.47872340425532], [40.6936664267621, -73.82760540255438, 105.82481751824818], [40.570233333333334, -74.12816333333333, 113.0], [40.70450908558677, -73.9054894270909, 119.53054662379421], [40.889013, -73.910091, 362.0], [40.58752004488149, -73.81385604971788, 168.15625], [40.76351025641026, -73.94888948717949, 117.58974358974359], [40.61417375, -74.07005625, 115.5], [40.658838500076726, -73.7368168054857, 134.05785123966942], [40.83645460670754, -73.83332887188946, 154.77777777777777], [40.577110073858016, -74.0094644509185, 216.88888888888889], [40.59406077305901, -73.95171998043708, 186.83006535947712], [40.60947828571428, -74.06639157142857, 126.14285714285714], [40.624007497151695, -74.09888856689453, 115.66666666666667], [40.72400900983855, -74.0021571006243, 535.2377358490565], [40.826003465275676, -73.87277999176587, 96.1], [40.592328275, -74.09029435, 100.5], [40.67194475073292, -73.80758861686706, 147.0595238095238], [40.6649472568518, -73.98577692216648, 182.2], [40.67098035216472, -73.75992807980519, 134.46835443037975], [40.88305140992492, -73.91466216345148, 251.75], [40.6966768116646, -73.76078680205597, 136.15151515151516], [40.643317590566035, -74.08269064528302, 124.73584905660377], [40.62879198571428, -74.0793850095238, 262.7142857142857], [40.732150000000004, -73.97862654545455, 208.72727272727272], [40.7419010026577, -73.9211138953717, 102.78819444444444], [40.652814153432466, -74.00333231475469, 130.62020905923345], [40.75926903799127, -73.98518007005806, 616.445205479452], [40.82220349722222, -73.81873182777777, 123.16666666666667], [40.5992565, -74.10133783333333, 220.33333333333334], [40.632794528205125, -74.08678632564101, 163.84615384615384], [40.50450147828477, -74.24344188177666, 239.33333333333334], [40.843774221299554, -73.89086809264307, 105.82758620689656], [40.717678602286746, -74.00764566745019, 541.5040650406504], [40.711746552417374, -73.99548544700119, 145.51785714285714], [40.8286424191591, -73.85084814741649, 143.88235294117646], [40.85773963125, -73.91032390625, 91.0625], [40.7726813094465, -73.95495600926878, 213.2794891059354], [40.789381695199154, -73.9726359745255, 224.57731958762886], [40.845127948265606, -73.86486594529751, 122.11764705882354], [40.70171350882353, -73.98300584117648, 251.0], [40.894112260139984, -73.85260343949311, 113.25961538461539], [40.84420845111607, -73.93834326304318, 122.55445544554455], [40.6315452, -74.113658, 80.28], [40.84158, -73.88056833333333, 74.33333333333333], [40.73420580019686, -74.00417537678551, 306.7204301075269], [40.842390200000004, -73.84709404285715, 90.28571428571429], [40.61785, -74.1352, 91.0], [40.783214375, -73.81713125, 146.75], [40.87854952862824, -73.85684230384642, 118.33783783783784], [40.712389617760834, -73.95170374823351, 183.42124394184168], [40.59919, -74.13389, 329.0], [40.65515058691589, -73.97849970280375, 174.21495327102804], [40.69183326331117, -73.85877943634908, 94.63440860215054], [40.8987924263723, -73.86568358905949, 134.9090909090909], [40.53777, -74.20674, 109.0], [40.74523120525274, -73.90046349160681, 85.125]],\n",
              "                {&quot;blur&quot;: 6, &quot;gradient&quot;: {&quot;0.4&quot;: &quot;purple&quot;, &quot;0.8&quot;: &quot;orange&quot;, &quot;1&quot;: &quot;red&quot;}, &quot;maxZoom&quot;: 15, &quot;minOpacity&quot;: 0.4, &quot;radius&quot;: 15}\n",
              "            ).addTo(map_456873aafab9a215fe4ea1fe87586ebb);\n",
              "        \n",
              "&lt;/script&gt;\n",
              "&lt;/html&gt;\" style=\"position:absolute;width:100%;height:100%;left:0;top:0;border:none !important;\" allowfullscreen webkitallowfullscreen mozallowfullscreen></iframe></div></div>"
            ]
          },
          "metadata": {},
          "execution_count": 148
        }
      ]
    },
    {
      "cell_type": "markdown",
      "metadata": {
        "id": "IXn2oIo5qx-w"
      },
      "source": [
        "#**6. Verificação se  há alguma correlação existente entre as variáveis**"
      ]
    },
    {
      "cell_type": "markdown",
      "source": [
        "Correlação nos dirá se existe relação entre duas variáveis.\n",
        "\n",
        "Esta relação pode ser medida, e é a função do coeficiente de correlação estabelecer qual a intensidade dela. Quanto mais o coeficiente de correlação se aproximar de 1.0, maior é a correlação entre elas.\n",
        "\n",
        "Para identificar as correlações existentes entre as variáveis iremos utilizar um `heatmap`."
      ],
      "metadata": {
        "id": "roj5fZbvKE_4"
      }
    },
    {
      "cell_type": "code",
      "metadata": {
        "id": "x2ayzBajqxyd",
        "colab": {
          "base_uri": "https://localhost:8080/",
          "height": 250
        },
        "outputId": "d854f569-f935-4775-a161-73f45cacdb38"
      },
      "source": [
        "\n",
        "# criando uma matriz de correlação\n",
        "\n",
        "corr = df_clean[['price', 'minimum_nights', 'number_of_reviews', 'calculated_host_listings_count', 'availability_365']].corr()\n",
        "\n",
        "# mostrando a matriz de correlação\n",
        "\n",
        "display(corr)\n",
        "\n"
      ],
      "execution_count": 167,
      "outputs": [
        {
          "output_type": "display_data",
          "data": {
            "text/plain": [
              "                                   price  minimum_nights  number_of_reviews  \\\n",
              "price                           1.000000       -0.180979          -0.047496   \n",
              "minimum_nights                 -0.180979        1.000000          -0.245033   \n",
              "number_of_reviews              -0.047496       -0.245033           1.000000   \n",
              "calculated_host_listings_count  0.100767        0.085947          -0.090145   \n",
              "availability_365                0.135208       -0.261938           0.101764   \n",
              "\n",
              "                                calculated_host_listings_count  \\\n",
              "price                                                 0.100767   \n",
              "minimum_nights                                        0.085947   \n",
              "number_of_reviews                                    -0.090145   \n",
              "calculated_host_listings_count                        1.000000   \n",
              "availability_365                                      0.099830   \n",
              "\n",
              "                                availability_365  \n",
              "price                                   0.135208  \n",
              "minimum_nights                         -0.261938  \n",
              "number_of_reviews                       0.101764  \n",
              "calculated_host_listings_count          0.099830  \n",
              "availability_365                        1.000000  "
            ],
            "text/html": [
              "\n",
              "  <div id=\"df-99b484e5-2663-46df-b599-7a25d6a20876\">\n",
              "    <div class=\"colab-df-container\">\n",
              "      <div>\n",
              "<style scoped>\n",
              "    .dataframe tbody tr th:only-of-type {\n",
              "        vertical-align: middle;\n",
              "    }\n",
              "\n",
              "    .dataframe tbody tr th {\n",
              "        vertical-align: top;\n",
              "    }\n",
              "\n",
              "    .dataframe thead th {\n",
              "        text-align: right;\n",
              "    }\n",
              "</style>\n",
              "<table border=\"1\" class=\"dataframe\">\n",
              "  <thead>\n",
              "    <tr style=\"text-align: right;\">\n",
              "      <th></th>\n",
              "      <th>price</th>\n",
              "      <th>minimum_nights</th>\n",
              "      <th>number_of_reviews</th>\n",
              "      <th>calculated_host_listings_count</th>\n",
              "      <th>availability_365</th>\n",
              "    </tr>\n",
              "  </thead>\n",
              "  <tbody>\n",
              "    <tr>\n",
              "      <th>price</th>\n",
              "      <td>1.000000</td>\n",
              "      <td>-0.180979</td>\n",
              "      <td>-0.047496</td>\n",
              "      <td>0.100767</td>\n",
              "      <td>0.135208</td>\n",
              "    </tr>\n",
              "    <tr>\n",
              "      <th>minimum_nights</th>\n",
              "      <td>-0.180979</td>\n",
              "      <td>1.000000</td>\n",
              "      <td>-0.245033</td>\n",
              "      <td>0.085947</td>\n",
              "      <td>-0.261938</td>\n",
              "    </tr>\n",
              "    <tr>\n",
              "      <th>number_of_reviews</th>\n",
              "      <td>-0.047496</td>\n",
              "      <td>-0.245033</td>\n",
              "      <td>1.000000</td>\n",
              "      <td>-0.090145</td>\n",
              "      <td>0.101764</td>\n",
              "    </tr>\n",
              "    <tr>\n",
              "      <th>calculated_host_listings_count</th>\n",
              "      <td>0.100767</td>\n",
              "      <td>0.085947</td>\n",
              "      <td>-0.090145</td>\n",
              "      <td>1.000000</td>\n",
              "      <td>0.099830</td>\n",
              "    </tr>\n",
              "    <tr>\n",
              "      <th>availability_365</th>\n",
              "      <td>0.135208</td>\n",
              "      <td>-0.261938</td>\n",
              "      <td>0.101764</td>\n",
              "      <td>0.099830</td>\n",
              "      <td>1.000000</td>\n",
              "    </tr>\n",
              "  </tbody>\n",
              "</table>\n",
              "</div>\n",
              "      <button class=\"colab-df-convert\" onclick=\"convertToInteractive('df-99b484e5-2663-46df-b599-7a25d6a20876')\"\n",
              "              title=\"Convert this dataframe to an interactive table.\"\n",
              "              style=\"display:none;\">\n",
              "        \n",
              "  <svg xmlns=\"http://www.w3.org/2000/svg\" height=\"24px\"viewBox=\"0 0 24 24\"\n",
              "       width=\"24px\">\n",
              "    <path d=\"M0 0h24v24H0V0z\" fill=\"none\"/>\n",
              "    <path d=\"M18.56 5.44l.94 2.06.94-2.06 2.06-.94-2.06-.94-.94-2.06-.94 2.06-2.06.94zm-11 1L8.5 8.5l.94-2.06 2.06-.94-2.06-.94L8.5 2.5l-.94 2.06-2.06.94zm10 10l.94 2.06.94-2.06 2.06-.94-2.06-.94-.94-2.06-.94 2.06-2.06.94z\"/><path d=\"M17.41 7.96l-1.37-1.37c-.4-.4-.92-.59-1.43-.59-.52 0-1.04.2-1.43.59L10.3 9.45l-7.72 7.72c-.78.78-.78 2.05 0 2.83L4 21.41c.39.39.9.59 1.41.59.51 0 1.02-.2 1.41-.59l7.78-7.78 2.81-2.81c.8-.78.8-2.07 0-2.86zM5.41 20L4 18.59l7.72-7.72 1.47 1.35L5.41 20z\"/>\n",
              "  </svg>\n",
              "      </button>\n",
              "      \n",
              "  <style>\n",
              "    .colab-df-container {\n",
              "      display:flex;\n",
              "      flex-wrap:wrap;\n",
              "      gap: 12px;\n",
              "    }\n",
              "\n",
              "    .colab-df-convert {\n",
              "      background-color: #E8F0FE;\n",
              "      border: none;\n",
              "      border-radius: 50%;\n",
              "      cursor: pointer;\n",
              "      display: none;\n",
              "      fill: #1967D2;\n",
              "      height: 32px;\n",
              "      padding: 0 0 0 0;\n",
              "      width: 32px;\n",
              "    }\n",
              "\n",
              "    .colab-df-convert:hover {\n",
              "      background-color: #E2EBFA;\n",
              "      box-shadow: 0px 1px 2px rgba(60, 64, 67, 0.3), 0px 1px 3px 1px rgba(60, 64, 67, 0.15);\n",
              "      fill: #174EA6;\n",
              "    }\n",
              "\n",
              "    [theme=dark] .colab-df-convert {\n",
              "      background-color: #3B4455;\n",
              "      fill: #D2E3FC;\n",
              "    }\n",
              "\n",
              "    [theme=dark] .colab-df-convert:hover {\n",
              "      background-color: #434B5C;\n",
              "      box-shadow: 0px 1px 3px 1px rgba(0, 0, 0, 0.15);\n",
              "      filter: drop-shadow(0px 1px 2px rgba(0, 0, 0, 0.3));\n",
              "      fill: #FFFFFF;\n",
              "    }\n",
              "  </style>\n",
              "\n",
              "      <script>\n",
              "        const buttonEl =\n",
              "          document.querySelector('#df-99b484e5-2663-46df-b599-7a25d6a20876 button.colab-df-convert');\n",
              "        buttonEl.style.display =\n",
              "          google.colab.kernel.accessAllowed ? 'block' : 'none';\n",
              "\n",
              "        async function convertToInteractive(key) {\n",
              "          const element = document.querySelector('#df-99b484e5-2663-46df-b599-7a25d6a20876');\n",
              "          const dataTable =\n",
              "            await google.colab.kernel.invokeFunction('convertToInteractive',\n",
              "                                                     [key], {});\n",
              "          if (!dataTable) return;\n",
              "\n",
              "          const docLinkHtml = 'Like what you see? Visit the ' +\n",
              "            '<a target=\"_blank\" href=https://colab.research.google.com/notebooks/data_table.ipynb>data table notebook</a>'\n",
              "            + ' to learn more about interactive tables.';\n",
              "          element.innerHTML = '';\n",
              "          dataTable['output_type'] = 'display_data';\n",
              "          await google.colab.output.renderOutput(dataTable, element);\n",
              "          const docLink = document.createElement('div');\n",
              "          docLink.innerHTML = docLinkHtml;\n",
              "          element.appendChild(docLink);\n",
              "        }\n",
              "      </script>\n",
              "    </div>\n",
              "  </div>\n",
              "  "
            ]
          },
          "metadata": {}
        }
      ]
    },
    {
      "cell_type": "code",
      "metadata": {
        "id": "91UujDr6ueqE",
        "colab": {
          "base_uri": "https://localhost:8080/",
          "height": 430
        },
        "outputId": "096e04de-1784-4f0b-a12a-ad1e56d8ecad"
      },
      "source": [
        "# plotar um heatmap a partir das correlações\n",
        "sns.heatmap(corr, cmap='RdBu', fmt='.2f', square=True, linecolor='white', annot=True);"
      ],
      "execution_count": 173,
      "outputs": [
        {
          "output_type": "display_data",
          "data": {
            "text/plain": [
              "<Figure size 432x288 with 2 Axes>"
            ],
            "image/png": "[encoded data removed]"
          },
          "metadata": {}
        }
      ]
    },
    {
      "cell_type": "markdown",
      "metadata": {
        "id": "7b6RMWpuHKN-"
      },
      "source": [
        "# **7. Tipo de hospedagem mais alugada no Airbnb**"
      ]
    },
    {
      "cell_type": "markdown",
      "source": [
        "Navariável **room_type** temos o tipo de hospedagem que está disponibilizado no Airbnb.\n",
        "\n",
        "Dentro do nosso dataset temos opções de apartamentos ou casas inteiras, aluguel de um quarto e quarto compartilhado.\n",
        "\n",
        "Primeiramente vamos analisar os tipos de hospedagens a serem alugados com seus valores únicos, depois contar e verificar a quantitade de ocorrências de cada tipo de aluguel."
      ],
      "metadata": {
        "id": "gL8B2hmnKs8R"
      }
    },
    {
      "cell_type": "code",
      "source": [
        "df_clean.room_type.unique()"
      ],
      "metadata": {
        "colab": {
          "base_uri": "https://localhost:8080/"
        },
        "id": "fPM97H2eKsEx",
        "outputId": "ca72e057-6aea-4a3c-e2ea-50dbe899e461"
      },
      "execution_count": 174,
      "outputs": [
        {
          "output_type": "execute_result",
          "data": {
            "text/plain": [
              "array(['Entire home/apt', 'Private room', 'Hotel room', 'Shared room'],\n",
              "      dtype=object)"
            ]
          },
          "metadata": {},
          "execution_count": 174
        }
      ]
    },
    {
      "cell_type": "code",
      "metadata": {
        "id": "ueLPNWvPHgfB",
        "colab": {
          "base_uri": "https://localhost:8080/"
        },
        "outputId": "e4867698-ea92-4f42-c9a8-53cb191a469a"
      },
      "source": [
        "# Quantidade de cada tipo de imóvel disponível\n",
        "print(df_clean.room_type.value_counts())\n",
        "print()\n",
        "# Percentual de cada tipo de imóvel disponível\n",
        "print((df_clean.room_type.value_counts() / df_clean.shape[0] * 100).apply(lambda x: f'{x:.2f}%'))\n"
      ],
      "execution_count": 188,
      "outputs": [
        {
          "output_type": "stream",
          "name": "stdout",
          "text": [
            "Entire home/apt    22030\n",
            "Private room       16261\n",
            "Shared room          497\n",
            "Hotel room           147\n",
            "Name: room_type, dtype: int64\n",
            "\n",
            "Entire home/apt    56.58%\n",
            "Private room       41.76%\n",
            "Shared room         1.28%\n",
            "Hotel room          0.38%\n",
            "Name: room_type, dtype: object\n"
          ]
        }
      ]
    },
    {
      "cell_type": "code",
      "source": [
        "# Criando um gráfico de barras\n",
        "sns.set(style='darkgrid')\n",
        "plt.figure(figsize=(8,6))\n",
        "sns.countplot(x='room_type', data=df_clean, palette='Set2')\n",
        "\n",
        "# Definindo o título e o label dos eixos\n",
        "plt.title('Tipos de Hospedagens')\n",
        "plt.xlabel('Tipo de Hospedagem')\n",
        "plt.ylabel('Quantidade')\n",
        "\n",
        "# Mostrando o gráfico\n",
        "plt.show()\n"
      ],
      "metadata": {
        "colab": {
          "base_uri": "https://localhost:8080/",
          "height": 410
        },
        "id": "T1zHMPxyL_bG",
        "outputId": "1eefbde8-ac1d-4e0f-dfc4-c1e3694e3536"
      },
      "execution_count": 178,
      "outputs": [
        {
          "output_type": "display_data",
          "data": {
            "text/plain": [
              "<Figure size 576x432 with 1 Axes>"
            ],
            "image/png": "[encoded data removed]"
          },
          "metadata": {}
        }
      ]
    },
    {
      "cell_type": "markdown",
      "source": [
        "Com base nos dados acima, temos 4 tipos de aluguéis e suas respectivas disponibilidades:\n",
        "\n",
        "Entire home/apt - 22.030 unidades - 56.58% dos aluguéis\n",
        "Private room - 16.261 unidades - 41,76% dos aluguéis\n",
        "Shared room - 497 - 1,28% dos aluguéis\n",
        "Hotel room - 77 - 0,38% dos aluguéis\n",
        "Podemos concluir que o imóvel mais alugado é do tipo home/apt."
      ],
      "metadata": {
        "id": "a6LYcUkuOn-f"
      }
    },
    {
      "cell_type": "code",
      "source": [],
      "metadata": {
        "id": "cKRvQd7LOcMV"
      },
      "execution_count": null,
      "outputs": []
    },
    {
      "cell_type": "markdown",
      "metadata": {
        "id": "vTneAMRUYvr1"
      },
      "source": [
        "# **8. Verificando o mínimo de noites para aluguel (minimum_nights) e taxa de ocupação.**"
      ]
    },
    {
      "cell_type": "markdown",
      "source": [
        "Para verificarmos a taxa de ocupação das hospedagens iremos utilizar a variável 'neighburhood_goup' para que os dados fiquem mais consitentes em ves de pegarmos bairro a bairro.\n"
      ],
      "metadata": {
        "id": "9j5PXOm0UbOt"
      }
    },
    {
      "cell_type": "code",
      "source": [
        "# agrupando por bairro e calculando a média de noites disponiveis\n",
        "ratings = df_clean.groupby('neighbourhood_group')['availability_365'].mean().sort_values(ascending=True)[:10]\n",
        "\n",
        "# criando um gráfico\n",
        "fig, ax = plt.subplots(figsize=(10,6))\n",
        "ax.barh(y=ratings.index, width=ratings.values, color=['#377eb8', '#4daf4a', '#e41a1c', '#984ea3', '#ff7f00'])\n",
        "\n",
        "# adicionando o valor numérico de cada barra\n",
        "for i, v in enumerate(ratings.values):\n",
        "    ax.text(v + 5, i - 0.1, str(int(v)), color='black', fontweight='bold')\n",
        "\n",
        "# ajustando o tamanho e o espaçamento das barras\n",
        "plt.subplots_adjust(left=0.3)\n",
        "ax.invert_yaxis()\n",
        "\n",
        "# definindo os rótulos dos eixos e o título do gráfico\n",
        "ax.set_xlabel('Média de Noites Disponíveis')\n",
        "ax.set_ylabel('Grupos de Bairros')\n",
        "ax.set_title('Bairros com mais noites disponíveis')\n",
        "\n",
        "# exibindo o gráfico\n",
        "plt.show()\n",
        "\n"
      ],
      "metadata": {
        "colab": {
          "base_uri": "https://localhost:8080/",
          "height": 410
        },
        "id": "jVXGGgahR33E",
        "outputId": "9f0a6dae-4327-4827-d6c0-f729d5700d85"
      },
      "execution_count": 210,
      "outputs": [
        {
          "output_type": "display_data",
          "data": {
            "text/plain": [
              "<Figure size 720x432 with 1 Axes>"
            ],
            "image/png": "[encoded data removed]"
          },
          "metadata": {}
        }
      ]
    },
    {
      "cell_type": "markdown",
      "source": [
        "Como podemos ver no gráfico acima os imóveis localizados no Brooklyn e em Manhattan ficam disponivéis um pouco mais de 125 noites. Agora se pegarmos os numeros de Staten Island, os imóveis passam mais de 200 dias por ano disponiveis para locação.\n",
        "Isso decorre devido a localização desses imoveis Bronx e Staten Island são regiões mais afastadas do centro e de população mais humilde e quanto Brooklyn e Manhattan são o caração da cidade e assim são os locais mais procurados por turistas e pessoa a negócios."
      ],
      "metadata": {
        "id": "LRTfu9xDU2Tf"
      }
    },
    {
      "cell_type": "code",
      "metadata": {
        "id": "_VzNhrEgY82N",
        "colab": {
          "base_uri": "https://localhost:8080/",
          "height": 410
        },
        "outputId": "ca9ba9cf-ae4a-40ff-8517-f6f0fcf81d21"
      },
      "source": [
        "# agrupando por bairro e calculando a média de noites disponiveis\n",
        "ratings = df_clean.groupby('neighbourhood_group')['minimum_nights'].mean().sort_values(ascending=True)[:10]\n",
        "\n",
        "# criando um gráfico\n",
        "fig, ax = plt.subplots(figsize=(10,6))\n",
        "ax.barh(y=ratings.index, width=ratings.values, color=['#377eb8', '#4daf4a', '#e41a1c', '#984ea3', '#ff7f00'])\n",
        "\n",
        "# adicionando o valor numérico de cada barra\n",
        "for i, v in enumerate(ratings.values):\n",
        "    ax.text(v + 5, i - 0.1, str(int(v)), color='black', fontweight='bold')\n",
        "\n",
        "# ajustando o tamanho e o espaçamento das barras\n",
        "plt.subplots_adjust(left=0.3)\n",
        "ax.invert_yaxis()\n",
        "\n",
        "# definindo os rótulos dos eixos e o título do gráfico\n",
        "ax.set_xlabel('Média de Noites Mínimas Exigidas')\n",
        "ax.set_ylabel('Grupos de Bairros')\n",
        "ax.set_title('Bairros Maior Exigencia de Noites Mínimas')\n",
        "\n",
        "# exibindo o gráfico\n",
        "plt.show()"
      ],
      "execution_count": 212,
      "outputs": [
        {
          "output_type": "display_data",
          "data": {
            "text/plain": [
              "<Figure size 720x432 with 1 Axes>"
            ],
            "image/png": "[encoded data removed]"
          },
          "metadata": {}
        }
      ]
    },
    {
      "cell_type": "markdown",
      "source": [
        "Seguindo o no sentido das informações sobre disponibilidade o gráfico acima nos mostra que os imóveis localizados no Brooklyn e em Manhattan são os que tem maoir numero de noites mínimas exigidas ficando entre 14 e 17 noites enquanto no Bronx e Staten Island, os imóveis exgigem bem menos noites ficando entre 8 e 9 noites.\n",
        "Isso decorre devido as altas taxas de ocupação que localização desses imóveis tem no Brooklyn e Manhattan se exige um numero maior de noites minimas, já no Bronx e Staten Island, ocorre exatamente ao contrario, que são regiões com uma taxa menor de ocupapação se exige um numero menor de noites mínimas."
      ],
      "metadata": {
        "id": "HgMaqUvIXjNi"
      }
    },
    {
      "cell_type": "markdown",
      "metadata": {
        "id": "GkvAg623RjoR"
      },
      "source": [
        "#Conclusões\n"
      ]
    },
    {
      "cell_type": "markdown",
      "metadata": {
        "id": "rbZ3Hsy9Ypw8"
      },
      "source": [
        "Com base na análise dos dados do Airbnb em Nova York, foi possível identificar a presença de valores ausentes em algumas variáveis, mas que não afetam diretamente a análise realizada, pois o foco foi preço, ocupação, tipo de propriedades, noites mínimas exigidas e região. Além disso, foi possível identificar a presença de alguns outliers em algumas variáveis, como preço, noites mínimas exigidas, número de avaliações e quantidade de imóveis disponíveis para hospedagem. Esses outliers foram tratados no dataset para termos uma visão melhor sem prejudicar a qualidade dos dados.\n",
        "\n",
        "Ao analisar os valores das hospedagens, foi possível verificar que o preço médio de hospedagem no ano de 2022 para a cidade de Nova York foi de 199,00 dólares, mas também há uma grande quantidade de imóveis na faixa de 50 a 125 dólares. \n",
        "A partir da análise setorizada das variáveis 'neighbourhood', 'neighbourhood_group', 'room_type', 'price', 'latitude' e 'longitude', foi possível identificar que as regiões mais caras e com maior taxa de ocupação são Manhattan e Brooklyn, enquanto que Bronxs, Queens e Staten Island são mais acessíveis e tem uma taxa menor de ocupação. Além disso, foi possível verificar que a maioria das propriedades são apartamentos privados e quartos privados, seguidos de apartamentos compartilhados e quartos compartilhados."
      ]
    }
  ]
}