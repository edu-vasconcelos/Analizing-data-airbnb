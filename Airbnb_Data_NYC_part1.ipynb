{
  "nbformat": 4,
  "nbformat_minor": 0,
  "metadata": {
    "colab": {
      "provenance": [],
      "toc_visible": true,
      "collapsed_sections": [
        "2EMl7MnnhcJ6",
        "0zxQHhIUDF_2",
        "6f8lBfAw8gAo",
        "OjXtpBas8_D7",
        "yz1urSUGW9iE",
        "iHXvvHIxaoNc",
        "BNHmqkDBL4g8",
        "gxJkJx_beEiS",
        "4iUMxUCkeQpU",
        "5FlhtZ0NGQnC",
        "Ht39D69nbGZX",
        "7b6RMWpuHKN-",
        "GkvAg623RjoR"
      ],
      "include_colab_link": true
    },
    "kernelspec": {
      "name": "python3",
      "display_name": "Python 3"
    }
  },
  "cells": [
    {
      "cell_type": "markdown",
      "metadata": {
        "id": "view-in-github",
        "colab_type": "text"
      },
      "source": [
        "<a href=\"https://colab.research.google.com/github/edu-vasconcelos/Analizing-data-airbnb/blob/main/Airbnb_Data_NYC_part1.ipynb\" target=\"_parent\"><img src=\"https://colab.research.google.com/assets/colab-badge.svg\" alt=\"Open In Colab\"/></a>"
      ]
    },
    {
      "cell_type": "markdown",
      "metadata": {
        "id": "kLI0gJtzDGuQ"
      },
      "source": [
        "\n",
        "# Análise dos Dados do Airbnb - New York City\n",
        "\n",
        "<center><img alt=\"New York\" width=\"80%\" src=\"https://github.com/edu-vasconcelos/Analizing-data-airbnb/blob/main/AdobeStock_310422728_Preview_Editorial_Use_Only.jpeg?raw=true\"></center>\n",
        "\n",
        "\n",
        "O [Airbnb](https://www.airbnb.com.br/) é considerado como sendo a **maior empresa hoteleira da atualidade**. Ah, o detalhe é que ele **não possui nenhum hotel**!\n",
        "\n",
        "Conectando pessoas que querem viajar (e se hospedar) com anfitriões que querem alugar seus imóveis de maneira prática, o Airbnb fornece uma plataforma inovadora para tornar essa hospedagem alternativa.\n",
        "\n",
        "O [Airbnb](https://www.airbnb.com.br/) já **hospedou mais de 1 bilhão** de pessoas ao redor de todo o mundo, desafiando as redes hoteleiras tradicionais.\n",
        "\n",
        "Uma das iniciativas do Airbnb é disponibilizar dados do site, para algumas das principais cidades do mundo. Por meio do portal [Inside Airbnb](http://insideairbnb.com/get-the-data.html), é possível baixar uma grande quantidade de dados para desenvolver projetos e soluções de *Data Science*.\n",
        "\n",
        "<center><img alt=\"Analisando Airbnb\" width=\"10%\" src=\"https://www.area360.com.au/wp-content/uploads/2017/09/airbnb-logo.jpg\"></center>\n",
        "\n",
        "**Neste *notebook*, iremos analisar os dados dos meses de setembro, outubro e novembro de 2022, referentes à cidade de Nova York e veremos quais insights podemos extrair a partir dos dados brutos.**"
      ]
    },
    {
      "cell_type": "markdown",
      "source": [
        "#**Introduçao**"
      ],
      "metadata": {
        "id": "2EMl7MnnhcJ6"
      }
    },
    {
      "cell_type": "markdown",
      "source": [
        "Nova York é uma das cidades mais icônicas do mundo e é conhecida por sua cultura vibrante, arranha-céus icônicos e vida noturna agitada. A cidade é um dos principais destinos turísticos do mundo, atraindo milhões de visitantes todos os anos. O turismo é um dos principais setores da economia de Nova York, gerando milhões de empregos e bilhões de dólares em receitas.\n",
        "\n",
        "No entanto, nos últimos anos, a cidade tem enfrentado desafios relacionados ao setor hoteleiro devido à popularidade do Airbnb. Isso tem sido visto como uma ameaça para o setor hoteleiro tradicional, uma vez que os preços do Airbnb são geralmente mais acessíveis do que os preços dos hotéis.\n",
        "\n",
        "Para lidar com o crescimento do Airbnb, a cidade de Nova York implementou regulamentações específicas para os aluguéis de curto prazo. Desde 2010, é ilegal alugar uma propriedade em Nova York por menos de 30 dias, a menos que o proprietário esteja presente durante toda a estadia. Além disso, o Airbnb é obrigado a fornecer à cidade informações sobre todos os seus anfitriões e suas propriedades.\n",
        "\n",
        "Em suma, Nova York é uma cidade icônica que atrai milhões de visitantes todos os anos e o turismo é um importante setor econômico. No entanto, a popularidade do Airbnb tem gerado tensão com o setor hoteleiro tradicional e levado a implementação de regulamentações específicas para os aluguéis de curto prazo na cidade. Veremos um pouco mais sobre essa regulamentação no decorrer das nossas análises."
      ],
      "metadata": {
        "id": "hbad1ranhoxe"
      }
    },
    {
      "cell_type": "markdown",
      "metadata": {
        "id": "0zxQHhIUDF_2"
      },
      "source": [
        "# Obtenção dos Dados e Pacotes Utilizados\n"
      ]
    },
    {
      "cell_type": "code",
      "metadata": {
        "id": "Vhp2wMPgJ6zX",
        "colab": {
          "base_uri": "https://localhost:8080/"
        },
        "outputId": "c8619dbb-3f88-40e7-ba55-c9883e78d39d"
      },
      "source": [
        "# Pacotes Utilizados\n",
        "\n",
        "!pip install cartopy\n",
        "!pip install folium\n",
        "!pip install folium --upgrade"
      ],
      "execution_count": 1,
      "outputs": [
        {
          "output_type": "stream",
          "name": "stdout",
          "text": [
            "Looking in indexes: https://pypi.org/simple, https://us-python.pkg.dev/colab-wheels/public/simple/\n",
            "Collecting cartopy\n",
            "  Downloading Cartopy-0.21.1.tar.gz (10.9 MB)\n",
            "\u001b[2K     \u001b[90m━━━━━━━━━━━━━━━━━━━━━━━━━━━━━━━━━━━━━━━━\u001b[0m \u001b[32m10.9/10.9 MB\u001b[0m \u001b[31m51.1 MB/s\u001b[0m eta \u001b[36m0:00:00\u001b[0m\n",
            "\u001b[?25h  Installing build dependencies ... \u001b[?25l\u001b[?25hdone\n",
            "  Getting requirements to build wheel ... \u001b[?25l\u001b[?25hdone\n",
            "  Preparing metadata (pyproject.toml) ... \u001b[?25l\u001b[?25hdone\n",
            "Collecting pyproj>=3.0.0\n",
            "  Downloading pyproj-3.5.0-cp39-cp39-manylinux_2_17_x86_64.manylinux2014_x86_64.whl (7.8 MB)\n",
            "\u001b[2K     \u001b[90m━━━━━━━━━━━━━━━━━━━━━━━━━━━━━━━━━━━━━━━━\u001b[0m \u001b[32m7.8/7.8 MB\u001b[0m \u001b[31m92.1 MB/s\u001b[0m eta \u001b[36m0:00:00\u001b[0m\n",
            "\u001b[?25hRequirement already satisfied: matplotlib>=3.1 in /usr/local/lib/python3.9/dist-packages (from cartopy) (3.7.1)\n",
            "Collecting pyshp>=2.1\n",
            "  Downloading pyshp-2.3.1-py2.py3-none-any.whl (46 kB)\n",
            "\u001b[2K     \u001b[90m━━━━━━━━━━━━━━━━━━━━━━━━━━━━━━━━━━━━━━━━\u001b[0m \u001b[32m46.5/46.5 kB\u001b[0m \u001b[31m5.2 MB/s\u001b[0m eta \u001b[36m0:00:00\u001b[0m\n",
            "\u001b[?25hRequirement already satisfied: numpy>=1.18 in /usr/local/lib/python3.9/dist-packages (from cartopy) (1.22.4)\n",
            "Requirement already satisfied: shapely>=1.6.4 in /usr/local/lib/python3.9/dist-packages (from cartopy) (2.0.1)\n",
            "Requirement already satisfied: kiwisolver>=1.0.1 in /usr/local/lib/python3.9/dist-packages (from matplotlib>=3.1->cartopy) (1.4.4)\n",
            "Requirement already satisfied: importlib-resources>=3.2.0 in /usr/local/lib/python3.9/dist-packages (from matplotlib>=3.1->cartopy) (5.12.0)\n",
            "Requirement already satisfied: pyparsing>=2.3.1 in /usr/local/lib/python3.9/dist-packages (from matplotlib>=3.1->cartopy) (3.0.9)\n",
            "Requirement already satisfied: pillow>=6.2.0 in /usr/local/lib/python3.9/dist-packages (from matplotlib>=3.1->cartopy) (8.4.0)\n",
            "Requirement already satisfied: fonttools>=4.22.0 in /usr/local/lib/python3.9/dist-packages (from matplotlib>=3.1->cartopy) (4.39.3)\n",
            "Requirement already satisfied: packaging>=20.0 in /usr/local/lib/python3.9/dist-packages (from matplotlib>=3.1->cartopy) (23.1)\n",
            "Requirement already satisfied: python-dateutil>=2.7 in /usr/local/lib/python3.9/dist-packages (from matplotlib>=3.1->cartopy) (2.8.2)\n",
            "Requirement already satisfied: cycler>=0.10 in /usr/local/lib/python3.9/dist-packages (from matplotlib>=3.1->cartopy) (0.11.0)\n",
            "Requirement already satisfied: contourpy>=1.0.1 in /usr/local/lib/python3.9/dist-packages (from matplotlib>=3.1->cartopy) (1.0.7)\n",
            "Requirement already satisfied: certifi in /usr/local/lib/python3.9/dist-packages (from pyproj>=3.0.0->cartopy) (2022.12.7)\n",
            "Requirement already satisfied: zipp>=3.1.0 in /usr/local/lib/python3.9/dist-packages (from importlib-resources>=3.2.0->matplotlib>=3.1->cartopy) (3.15.0)\n",
            "Requirement already satisfied: six>=1.5 in /usr/local/lib/python3.9/dist-packages (from python-dateutil>=2.7->matplotlib>=3.1->cartopy) (1.16.0)\n",
            "Building wheels for collected packages: cartopy\n",
            "  Building wheel for cartopy (pyproject.toml) ... \u001b[?25l\u001b[?25hdone\n",
            "  Created wheel for cartopy: filename=Cartopy-0.21.1-cp39-cp39-linux_x86_64.whl size=11113648 sha256=c7be0dd431308733e70b54f9ff9067d94a447b062db2c0cb680048b3c0649178\n",
            "  Stored in directory: /root/.cache/pip/wheels/74/b9/f5/2c94acd7cd21480e6cf63169144d7aac3e8d9cf638225ed578\n",
            "Successfully built cartopy\n",
            "Installing collected packages: pyshp, pyproj, cartopy\n",
            "Successfully installed cartopy-0.21.1 pyproj-3.5.0 pyshp-2.3.1\n",
            "Looking in indexes: https://pypi.org/simple, https://us-python.pkg.dev/colab-wheels/public/simple/\n",
            "Requirement already satisfied: folium in /usr/local/lib/python3.9/dist-packages (0.14.0)\n",
            "Requirement already satisfied: branca>=0.6.0 in /usr/local/lib/python3.9/dist-packages (from folium) (0.6.0)\n",
            "Requirement already satisfied: requests in /usr/local/lib/python3.9/dist-packages (from folium) (2.27.1)\n",
            "Requirement already satisfied: jinja2>=2.9 in /usr/local/lib/python3.9/dist-packages (from folium) (3.1.2)\n",
            "Requirement already satisfied: numpy in /usr/local/lib/python3.9/dist-packages (from folium) (1.22.4)\n",
            "Requirement already satisfied: MarkupSafe>=2.0 in /usr/local/lib/python3.9/dist-packages (from jinja2>=2.9->folium) (2.1.2)\n",
            "Requirement already satisfied: certifi>=2017.4.17 in /usr/local/lib/python3.9/dist-packages (from requests->folium) (2022.12.7)\n",
            "Requirement already satisfied: idna<4,>=2.5 in /usr/local/lib/python3.9/dist-packages (from requests->folium) (3.4)\n",
            "Requirement already satisfied: charset-normalizer~=2.0.0 in /usr/local/lib/python3.9/dist-packages (from requests->folium) (2.0.12)\n",
            "Requirement already satisfied: urllib3<1.27,>=1.21.1 in /usr/local/lib/python3.9/dist-packages (from requests->folium) (1.26.15)\n",
            "Looking in indexes: https://pypi.org/simple, https://us-python.pkg.dev/colab-wheels/public/simple/\n",
            "Requirement already satisfied: folium in /usr/local/lib/python3.9/dist-packages (0.14.0)\n",
            "Requirement already satisfied: requests in /usr/local/lib/python3.9/dist-packages (from folium) (2.27.1)\n",
            "Requirement already satisfied: jinja2>=2.9 in /usr/local/lib/python3.9/dist-packages (from folium) (3.1.2)\n",
            "Requirement already satisfied: numpy in /usr/local/lib/python3.9/dist-packages (from folium) (1.22.4)\n",
            "Requirement already satisfied: branca>=0.6.0 in /usr/local/lib/python3.9/dist-packages (from folium) (0.6.0)\n",
            "Requirement already satisfied: MarkupSafe>=2.0 in /usr/local/lib/python3.9/dist-packages (from jinja2>=2.9->folium) (2.1.2)\n",
            "Requirement already satisfied: idna<4,>=2.5 in /usr/local/lib/python3.9/dist-packages (from requests->folium) (3.4)\n",
            "Requirement already satisfied: certifi>=2017.4.17 in /usr/local/lib/python3.9/dist-packages (from requests->folium) (2022.12.7)\n",
            "Requirement already satisfied: charset-normalizer~=2.0.0 in /usr/local/lib/python3.9/dist-packages (from requests->folium) (2.0.12)\n",
            "Requirement already satisfied: urllib3<1.27,>=1.21.1 in /usr/local/lib/python3.9/dist-packages (from requests->folium) (1.26.15)\n"
          ]
        }
      ]
    },
    {
      "cell_type": "code",
      "source": [
        "import pandas as pd\n",
        "import matplotlib.pyplot as plt\n",
        "import folium as folium\n",
        "from folium.plugins import HeatMap\n",
        "import seaborn as sns\n",
        "import numpy as np\n",
        "import ipywidgets as widgets\n",
        "from IPython.display import display\n",
        "from folium.plugins import FastMarkerCluster\n",
        "import matplotlib.ticker as mtick\n"
      ],
      "metadata": {
        "id": "xiAps16VHgkq"
      },
      "execution_count": 2,
      "outputs": []
    },
    {
      "cell_type": "code",
      "metadata": {
        "id": "tUmoAT8DLQ5T",
        "colab": {
          "base_uri": "https://localhost:8080/"
        },
        "outputId": "fd211061-898b-4ce4-c4ab-35800d8e2079"
      },
      "source": [
        "# Data Base Utilizado para o DataFrame - Arquivo listings.csv - New York City\n",
        "\n",
        "df = pd.read_csv(\"http://data.insideairbnb.com/united-states/ny/new-york-city/2022-12-04/visualisations/listings.csv\")\n"
      ],
      "execution_count": 3,
      "outputs": [
        {
          "output_type": "stream",
          "name": "stderr",
          "text": [
            "<ipython-input-3-44dd9dd7c6f7>:3: DtypeWarning: Columns (17) have mixed types. Specify dtype option on import or set low_memory=False.\n",
            "  df = pd.read_csv(\"http://data.insideairbnb.com/united-states/ny/new-york-city/2022-12-04/visualisations/listings.csv\")\n"
          ]
        }
      ]
    },
    {
      "cell_type": "markdown",
      "source": [
        "##As 5 primeiras e as 5 últimas entradas do dataset"
      ],
      "metadata": {
        "id": "sPg1181sGu5w"
      }
    },
    {
      "cell_type": "code",
      "metadata": {
        "id": "2iS_dae7YQtO",
        "colab": {
          "base_uri": "https://localhost:8080/",
          "height": 444
        },
        "outputId": "092cfae1-5de9-42d7-d249-c0b098c234a5"
      },
      "source": [
        "df.head()"
      ],
      "execution_count": 4,
      "outputs": [
        {
          "output_type": "execute_result",
          "data": {
            "text/plain": [
              "     id                                      name  host_id  host_name  \\\n",
              "0  5136  Spacious Brooklyn Duplex, Patio + Garden     7378    Rebecca   \n",
              "1  5203        Cozy Clean Guest Room - Family Apt     7490  MaryEllen   \n",
              "2  5121                           BlissArtsSpace!     7356      Garon   \n",
              "3  5178          Large Furnished Room Near B'way　     8967   Shunichi   \n",
              "4  2595                     Skylit Midtown Castle     2845   Jennifer   \n",
              "\n",
              "  neighbourhood_group       neighbourhood  latitude  longitude  \\\n",
              "0            Brooklyn         Sunset Park  40.66265  -73.99454   \n",
              "1           Manhattan     Upper West Side  40.80380  -73.96751   \n",
              "2            Brooklyn  Bedford-Stuyvesant  40.68535  -73.95512   \n",
              "3           Manhattan             Midtown  40.76457  -73.98317   \n",
              "4           Manhattan             Midtown  40.75356  -73.98559   \n",
              "\n",
              "         room_type  price  minimum_nights  number_of_reviews last_review  \\\n",
              "0  Entire home/apt    275              21                  3  2022-08-10   \n",
              "1     Private room     75               2                118  2017-07-21   \n",
              "2     Private room     60              30                 50  2019-12-02   \n",
              "3     Private room     68               2                559  2022-11-20   \n",
              "4  Entire home/apt    175              30                 49  2022-06-21   \n",
              "\n",
              "   reviews_per_month  calculated_host_listings_count  availability_365  \\\n",
              "0               0.03                               1               267   \n",
              "1               0.73                               1                 0   \n",
              "2               0.30                               2               322   \n",
              "3               3.38                               1                79   \n",
              "4               0.31                               3               365   \n",
              "\n",
              "   number_of_reviews_ltm license  \n",
              "0                      1     NaN  \n",
              "1                      0     NaN  \n",
              "2                      0     NaN  \n",
              "3                     50     NaN  \n",
              "4                      1     NaN  "
            ],
            "text/html": [
              "\n",
              "  <div id=\"df-b07d30c8-d78a-4079-8d29-3eca2367799c\">\n",
              "    <div class=\"colab-df-container\">\n",
              "      <div>\n",
              "<style scoped>\n",
              "    .dataframe tbody tr th:only-of-type {\n",
              "        vertical-align: middle;\n",
              "    }\n",
              "\n",
              "    .dataframe tbody tr th {\n",
              "        vertical-align: top;\n",
              "    }\n",
              "\n",
              "    .dataframe thead th {\n",
              "        text-align: right;\n",
              "    }\n",
              "</style>\n",
              "<table border=\"1\" class=\"dataframe\">\n",
              "  <thead>\n",
              "    <tr style=\"text-align: right;\">\n",
              "      <th></th>\n",
              "      <th>id</th>\n",
              "      <th>name</th>\n",
              "      <th>host_id</th>\n",
              "      <th>host_name</th>\n",
              "      <th>neighbourhood_group</th>\n",
              "      <th>neighbourhood</th>\n",
              "      <th>latitude</th>\n",
              "      <th>longitude</th>\n",
              "      <th>room_type</th>\n",
              "      <th>price</th>\n",
              "      <th>minimum_nights</th>\n",
              "      <th>number_of_reviews</th>\n",
              "      <th>last_review</th>\n",
              "      <th>reviews_per_month</th>\n",
              "      <th>calculated_host_listings_count</th>\n",
              "      <th>availability_365</th>\n",
              "      <th>number_of_reviews_ltm</th>\n",
              "      <th>license</th>\n",
              "    </tr>\n",
              "  </thead>\n",
              "  <tbody>\n",
              "    <tr>\n",
              "      <th>0</th>\n",
              "      <td>5136</td>\n",
              "      <td>Spacious Brooklyn Duplex, Patio + Garden</td>\n",
              "      <td>7378</td>\n",
              "      <td>Rebecca</td>\n",
              "      <td>Brooklyn</td>\n",
              "      <td>Sunset Park</td>\n",
              "      <td>40.66265</td>\n",
              "      <td>-73.99454</td>\n",
              "      <td>Entire home/apt</td>\n",
              "      <td>275</td>\n",
              "      <td>21</td>\n",
              "      <td>3</td>\n",
              "      <td>2022-08-10</td>\n",
              "      <td>0.03</td>\n",
              "      <td>1</td>\n",
              "      <td>267</td>\n",
              "      <td>1</td>\n",
              "      <td>NaN</td>\n",
              "    </tr>\n",
              "    <tr>\n",
              "      <th>1</th>\n",
              "      <td>5203</td>\n",
              "      <td>Cozy Clean Guest Room - Family Apt</td>\n",
              "      <td>7490</td>\n",
              "      <td>MaryEllen</td>\n",
              "      <td>Manhattan</td>\n",
              "      <td>Upper West Side</td>\n",
              "      <td>40.80380</td>\n",
              "      <td>-73.96751</td>\n",
              "      <td>Private room</td>\n",
              "      <td>75</td>\n",
              "      <td>2</td>\n",
              "      <td>118</td>\n",
              "      <td>2017-07-21</td>\n",
              "      <td>0.73</td>\n",
              "      <td>1</td>\n",
              "      <td>0</td>\n",
              "      <td>0</td>\n",
              "      <td>NaN</td>\n",
              "    </tr>\n",
              "    <tr>\n",
              "      <th>2</th>\n",
              "      <td>5121</td>\n",
              "      <td>BlissArtsSpace!</td>\n",
              "      <td>7356</td>\n",
              "      <td>Garon</td>\n",
              "      <td>Brooklyn</td>\n",
              "      <td>Bedford-Stuyvesant</td>\n",
              "      <td>40.68535</td>\n",
              "      <td>-73.95512</td>\n",
              "      <td>Private room</td>\n",
              "      <td>60</td>\n",
              "      <td>30</td>\n",
              "      <td>50</td>\n",
              "      <td>2019-12-02</td>\n",
              "      <td>0.30</td>\n",
              "      <td>2</td>\n",
              "      <td>322</td>\n",
              "      <td>0</td>\n",
              "      <td>NaN</td>\n",
              "    </tr>\n",
              "    <tr>\n",
              "      <th>3</th>\n",
              "      <td>5178</td>\n",
              "      <td>Large Furnished Room Near B'way</td>\n",
              "      <td>8967</td>\n",
              "      <td>Shunichi</td>\n",
              "      <td>Manhattan</td>\n",
              "      <td>Midtown</td>\n",
              "      <td>40.76457</td>\n",
              "      <td>-73.98317</td>\n",
              "      <td>Private room</td>\n",
              "      <td>68</td>\n",
              "      <td>2</td>\n",
              "      <td>559</td>\n",
              "      <td>2022-11-20</td>\n",
              "      <td>3.38</td>\n",
              "      <td>1</td>\n",
              "      <td>79</td>\n",
              "      <td>50</td>\n",
              "      <td>NaN</td>\n",
              "    </tr>\n",
              "    <tr>\n",
              "      <th>4</th>\n",
              "      <td>2595</td>\n",
              "      <td>Skylit Midtown Castle</td>\n",
              "      <td>2845</td>\n",
              "      <td>Jennifer</td>\n",
              "      <td>Manhattan</td>\n",
              "      <td>Midtown</td>\n",
              "      <td>40.75356</td>\n",
              "      <td>-73.98559</td>\n",
              "      <td>Entire home/apt</td>\n",
              "      <td>175</td>\n",
              "      <td>30</td>\n",
              "      <td>49</td>\n",
              "      <td>2022-06-21</td>\n",
              "      <td>0.31</td>\n",
              "      <td>3</td>\n",
              "      <td>365</td>\n",
              "      <td>1</td>\n",
              "      <td>NaN</td>\n",
              "    </tr>\n",
              "  </tbody>\n",
              "</table>\n",
              "</div>\n",
              "      <button class=\"colab-df-convert\" onclick=\"convertToInteractive('df-b07d30c8-d78a-4079-8d29-3eca2367799c')\"\n",
              "              title=\"Convert this dataframe to an interactive table.\"\n",
              "              style=\"display:none;\">\n",
              "        \n",
              "  <svg xmlns=\"http://www.w3.org/2000/svg\" height=\"24px\"viewBox=\"0 0 24 24\"\n",
              "       width=\"24px\">\n",
              "    <path d=\"M0 0h24v24H0V0z\" fill=\"none\"/>\n",
              "    <path d=\"M18.56 5.44l.94 2.06.94-2.06 2.06-.94-2.06-.94-.94-2.06-.94 2.06-2.06.94zm-11 1L8.5 8.5l.94-2.06 2.06-.94-2.06-.94L8.5 2.5l-.94 2.06-2.06.94zm10 10l.94 2.06.94-2.06 2.06-.94-2.06-.94-.94-2.06-.94 2.06-2.06.94z\"/><path d=\"M17.41 7.96l-1.37-1.37c-.4-.4-.92-.59-1.43-.59-.52 0-1.04.2-1.43.59L10.3 9.45l-7.72 7.72c-.78.78-.78 2.05 0 2.83L4 21.41c.39.39.9.59 1.41.59.51 0 1.02-.2 1.41-.59l7.78-7.78 2.81-2.81c.8-.78.8-2.07 0-2.86zM5.41 20L4 18.59l7.72-7.72 1.47 1.35L5.41 20z\"/>\n",
              "  </svg>\n",
              "      </button>\n",
              "      \n",
              "  <style>\n",
              "    .colab-df-container {\n",
              "      display:flex;\n",
              "      flex-wrap:wrap;\n",
              "      gap: 12px;\n",
              "    }\n",
              "\n",
              "    .colab-df-convert {\n",
              "      background-color: #E8F0FE;\n",
              "      border: none;\n",
              "      border-radius: 50%;\n",
              "      cursor: pointer;\n",
              "      display: none;\n",
              "      fill: #1967D2;\n",
              "      height: 32px;\n",
              "      padding: 0 0 0 0;\n",
              "      width: 32px;\n",
              "    }\n",
              "\n",
              "    .colab-df-convert:hover {\n",
              "      background-color: #E2EBFA;\n",
              "      box-shadow: 0px 1px 2px rgba(60, 64, 67, 0.3), 0px 1px 3px 1px rgba(60, 64, 67, 0.15);\n",
              "      fill: #174EA6;\n",
              "    }\n",
              "\n",
              "    [theme=dark] .colab-df-convert {\n",
              "      background-color: #3B4455;\n",
              "      fill: #D2E3FC;\n",
              "    }\n",
              "\n",
              "    [theme=dark] .colab-df-convert:hover {\n",
              "      background-color: #434B5C;\n",
              "      box-shadow: 0px 1px 3px 1px rgba(0, 0, 0, 0.15);\n",
              "      filter: drop-shadow(0px 1px 2px rgba(0, 0, 0, 0.3));\n",
              "      fill: #FFFFFF;\n",
              "    }\n",
              "  </style>\n",
              "\n",
              "      <script>\n",
              "        const buttonEl =\n",
              "          document.querySelector('#df-b07d30c8-d78a-4079-8d29-3eca2367799c button.colab-df-convert');\n",
              "        buttonEl.style.display =\n",
              "          google.colab.kernel.accessAllowed ? 'block' : 'none';\n",
              "\n",
              "        async function convertToInteractive(key) {\n",
              "          const element = document.querySelector('#df-b07d30c8-d78a-4079-8d29-3eca2367799c');\n",
              "          const dataTable =\n",
              "            await google.colab.kernel.invokeFunction('convertToInteractive',\n",
              "                                                     [key], {});\n",
              "          if (!dataTable) return;\n",
              "\n",
              "          const docLinkHtml = 'Like what you see? Visit the ' +\n",
              "            '<a target=\"_blank\" href=https://colab.research.google.com/notebooks/data_table.ipynb>data table notebook</a>'\n",
              "            + ' to learn more about interactive tables.';\n",
              "          element.innerHTML = '';\n",
              "          dataTable['output_type'] = 'display_data';\n",
              "          await google.colab.output.renderOutput(dataTable, element);\n",
              "          const docLink = document.createElement('div');\n",
              "          docLink.innerHTML = docLinkHtml;\n",
              "          element.appendChild(docLink);\n",
              "        }\n",
              "      </script>\n",
              "    </div>\n",
              "  </div>\n",
              "  "
            ]
          },
          "metadata": {},
          "execution_count": 4
        }
      ]
    },
    {
      "cell_type": "code",
      "source": [
        "df.tail()"
      ],
      "metadata": {
        "colab": {
          "base_uri": "https://localhost:8080/",
          "height": 548
        },
        "id": "A3haQxvpfZsn",
        "outputId": "0688d5fc-d010-4196-a197-be04f9d51913"
      },
      "execution_count": 5,
      "outputs": [
        {
          "output_type": "execute_result",
          "data": {
            "text/plain": [
              "                       id                                               name  \\\n",
              "41528  771962449581256963                                Romántico y natural   \n",
              "41529  771967712456918474                          Sunset Park Studio Sublet   \n",
              "41530  771971759808918693     9B5B Townhouse w/ Elevator &  Private Entrance   \n",
              "41531  771971822371481471  Huge 9B5B Townhouse w Elevator &  Private Entr...   \n",
              "41532  771975190766692224           Lovely  Big Studio for Rental Bronx City   \n",
              "\n",
              "         host_id      host_name neighbourhood_group       neighbourhood  \\\n",
              "41528  421601513    Juan Carlos           Manhattan  Washington Heights   \n",
              "41529     326495  Laura Adriana            Brooklyn         Sunset Park   \n",
              "41530  316920152        Allison           Manhattan         Murray Hill   \n",
              "41531  484979380        Natasha           Manhattan         Murray Hill   \n",
              "41532  426540801           Abul               Bronx           Unionport   \n",
              "\n",
              "        latitude  longitude        room_type  price  minimum_nights  \\\n",
              "41528  40.847271 -73.943419     Private room     80               5   \n",
              "41529  40.638329 -74.016710  Entire home/apt     42              30   \n",
              "41530  40.746902 -73.978260  Entire home/apt   3888               2   \n",
              "41531  40.749596 -73.980798  Entire home/apt   3888               2   \n",
              "41532  40.832824 -73.852371  Entire home/apt     80               3   \n",
              "\n",
              "       number_of_reviews last_review  reviews_per_month  \\\n",
              "41528                  0         NaN                NaN   \n",
              "41529                  0         NaN                NaN   \n",
              "41530                  0         NaN                NaN   \n",
              "41531                  0         NaN                NaN   \n",
              "41532                  0         NaN                NaN   \n",
              "\n",
              "       calculated_host_listings_count  availability_365  \\\n",
              "41528                               3               358   \n",
              "41529                               3                89   \n",
              "41530                               8               365   \n",
              "41531                               2               364   \n",
              "41532                               2               365   \n",
              "\n",
              "       number_of_reviews_ltm license  \n",
              "41528                      0     NaN  \n",
              "41529                      0     NaN  \n",
              "41530                      0     NaN  \n",
              "41531                      0     NaN  \n",
              "41532                      0     NaN  "
            ],
            "text/html": [
              "\n",
              "  <div id=\"df-5a95f058-a6aa-4a99-9ae1-c5aa500ba11f\">\n",
              "    <div class=\"colab-df-container\">\n",
              "      <div>\n",
              "<style scoped>\n",
              "    .dataframe tbody tr th:only-of-type {\n",
              "        vertical-align: middle;\n",
              "    }\n",
              "\n",
              "    .dataframe tbody tr th {\n",
              "        vertical-align: top;\n",
              "    }\n",
              "\n",
              "    .dataframe thead th {\n",
              "        text-align: right;\n",
              "    }\n",
              "</style>\n",
              "<table border=\"1\" class=\"dataframe\">\n",
              "  <thead>\n",
              "    <tr style=\"text-align: right;\">\n",
              "      <th></th>\n",
              "      <th>id</th>\n",
              "      <th>name</th>\n",
              "      <th>host_id</th>\n",
              "      <th>host_name</th>\n",
              "      <th>neighbourhood_group</th>\n",
              "      <th>neighbourhood</th>\n",
              "      <th>latitude</th>\n",
              "      <th>longitude</th>\n",
              "      <th>room_type</th>\n",
              "      <th>price</th>\n",
              "      <th>minimum_nights</th>\n",
              "      <th>number_of_reviews</th>\n",
              "      <th>last_review</th>\n",
              "      <th>reviews_per_month</th>\n",
              "      <th>calculated_host_listings_count</th>\n",
              "      <th>availability_365</th>\n",
              "      <th>number_of_reviews_ltm</th>\n",
              "      <th>license</th>\n",
              "    </tr>\n",
              "  </thead>\n",
              "  <tbody>\n",
              "    <tr>\n",
              "      <th>41528</th>\n",
              "      <td>771962449581256963</td>\n",
              "      <td>Romántico y natural</td>\n",
              "      <td>421601513</td>\n",
              "      <td>Juan Carlos</td>\n",
              "      <td>Manhattan</td>\n",
              "      <td>Washington Heights</td>\n",
              "      <td>40.847271</td>\n",
              "      <td>-73.943419</td>\n",
              "      <td>Private room</td>\n",
              "      <td>80</td>\n",
              "      <td>5</td>\n",
              "      <td>0</td>\n",
              "      <td>NaN</td>\n",
              "      <td>NaN</td>\n",
              "      <td>3</td>\n",
              "      <td>358</td>\n",
              "      <td>0</td>\n",
              "      <td>NaN</td>\n",
              "    </tr>\n",
              "    <tr>\n",
              "      <th>41529</th>\n",
              "      <td>771967712456918474</td>\n",
              "      <td>Sunset Park Studio Sublet</td>\n",
              "      <td>326495</td>\n",
              "      <td>Laura Adriana</td>\n",
              "      <td>Brooklyn</td>\n",
              "      <td>Sunset Park</td>\n",
              "      <td>40.638329</td>\n",
              "      <td>-74.016710</td>\n",
              "      <td>Entire home/apt</td>\n",
              "      <td>42</td>\n",
              "      <td>30</td>\n",
              "      <td>0</td>\n",
              "      <td>NaN</td>\n",
              "      <td>NaN</td>\n",
              "      <td>3</td>\n",
              "      <td>89</td>\n",
              "      <td>0</td>\n",
              "      <td>NaN</td>\n",
              "    </tr>\n",
              "    <tr>\n",
              "      <th>41530</th>\n",
              "      <td>771971759808918693</td>\n",
              "      <td>9B5B Townhouse w/ Elevator &amp;  Private Entrance</td>\n",
              "      <td>316920152</td>\n",
              "      <td>Allison</td>\n",
              "      <td>Manhattan</td>\n",
              "      <td>Murray Hill</td>\n",
              "      <td>40.746902</td>\n",
              "      <td>-73.978260</td>\n",
              "      <td>Entire home/apt</td>\n",
              "      <td>3888</td>\n",
              "      <td>2</td>\n",
              "      <td>0</td>\n",
              "      <td>NaN</td>\n",
              "      <td>NaN</td>\n",
              "      <td>8</td>\n",
              "      <td>365</td>\n",
              "      <td>0</td>\n",
              "      <td>NaN</td>\n",
              "    </tr>\n",
              "    <tr>\n",
              "      <th>41531</th>\n",
              "      <td>771971822371481471</td>\n",
              "      <td>Huge 9B5B Townhouse w Elevator &amp;  Private Entr...</td>\n",
              "      <td>484979380</td>\n",
              "      <td>Natasha</td>\n",
              "      <td>Manhattan</td>\n",
              "      <td>Murray Hill</td>\n",
              "      <td>40.749596</td>\n",
              "      <td>-73.980798</td>\n",
              "      <td>Entire home/apt</td>\n",
              "      <td>3888</td>\n",
              "      <td>2</td>\n",
              "      <td>0</td>\n",
              "      <td>NaN</td>\n",
              "      <td>NaN</td>\n",
              "      <td>2</td>\n",
              "      <td>364</td>\n",
              "      <td>0</td>\n",
              "      <td>NaN</td>\n",
              "    </tr>\n",
              "    <tr>\n",
              "      <th>41532</th>\n",
              "      <td>771975190766692224</td>\n",
              "      <td>Lovely  Big Studio for Rental Bronx City</td>\n",
              "      <td>426540801</td>\n",
              "      <td>Abul</td>\n",
              "      <td>Bronx</td>\n",
              "      <td>Unionport</td>\n",
              "      <td>40.832824</td>\n",
              "      <td>-73.852371</td>\n",
              "      <td>Entire home/apt</td>\n",
              "      <td>80</td>\n",
              "      <td>3</td>\n",
              "      <td>0</td>\n",
              "      <td>NaN</td>\n",
              "      <td>NaN</td>\n",
              "      <td>2</td>\n",
              "      <td>365</td>\n",
              "      <td>0</td>\n",
              "      <td>NaN</td>\n",
              "    </tr>\n",
              "  </tbody>\n",
              "</table>\n",
              "</div>\n",
              "      <button class=\"colab-df-convert\" onclick=\"convertToInteractive('df-5a95f058-a6aa-4a99-9ae1-c5aa500ba11f')\"\n",
              "              title=\"Convert this dataframe to an interactive table.\"\n",
              "              style=\"display:none;\">\n",
              "        \n",
              "  <svg xmlns=\"http://www.w3.org/2000/svg\" height=\"24px\"viewBox=\"0 0 24 24\"\n",
              "       width=\"24px\">\n",
              "    <path d=\"M0 0h24v24H0V0z\" fill=\"none\"/>\n",
              "    <path d=\"M18.56 5.44l.94 2.06.94-2.06 2.06-.94-2.06-.94-.94-2.06-.94 2.06-2.06.94zm-11 1L8.5 8.5l.94-2.06 2.06-.94-2.06-.94L8.5 2.5l-.94 2.06-2.06.94zm10 10l.94 2.06.94-2.06 2.06-.94-2.06-.94-.94-2.06-.94 2.06-2.06.94z\"/><path d=\"M17.41 7.96l-1.37-1.37c-.4-.4-.92-.59-1.43-.59-.52 0-1.04.2-1.43.59L10.3 9.45l-7.72 7.72c-.78.78-.78 2.05 0 2.83L4 21.41c.39.39.9.59 1.41.59.51 0 1.02-.2 1.41-.59l7.78-7.78 2.81-2.81c.8-.78.8-2.07 0-2.86zM5.41 20L4 18.59l7.72-7.72 1.47 1.35L5.41 20z\"/>\n",
              "  </svg>\n",
              "      </button>\n",
              "      \n",
              "  <style>\n",
              "    .colab-df-container {\n",
              "      display:flex;\n",
              "      flex-wrap:wrap;\n",
              "      gap: 12px;\n",
              "    }\n",
              "\n",
              "    .colab-df-convert {\n",
              "      background-color: #E8F0FE;\n",
              "      border: none;\n",
              "      border-radius: 50%;\n",
              "      cursor: pointer;\n",
              "      display: none;\n",
              "      fill: #1967D2;\n",
              "      height: 32px;\n",
              "      padding: 0 0 0 0;\n",
              "      width: 32px;\n",
              "    }\n",
              "\n",
              "    .colab-df-convert:hover {\n",
              "      background-color: #E2EBFA;\n",
              "      box-shadow: 0px 1px 2px rgba(60, 64, 67, 0.3), 0px 1px 3px 1px rgba(60, 64, 67, 0.15);\n",
              "      fill: #174EA6;\n",
              "    }\n",
              "\n",
              "    [theme=dark] .colab-df-convert {\n",
              "      background-color: #3B4455;\n",
              "      fill: #D2E3FC;\n",
              "    }\n",
              "\n",
              "    [theme=dark] .colab-df-convert:hover {\n",
              "      background-color: #434B5C;\n",
              "      box-shadow: 0px 1px 3px 1px rgba(0, 0, 0, 0.15);\n",
              "      filter: drop-shadow(0px 1px 2px rgba(0, 0, 0, 0.3));\n",
              "      fill: #FFFFFF;\n",
              "    }\n",
              "  </style>\n",
              "\n",
              "      <script>\n",
              "        const buttonEl =\n",
              "          document.querySelector('#df-5a95f058-a6aa-4a99-9ae1-c5aa500ba11f button.colab-df-convert');\n",
              "        buttonEl.style.display =\n",
              "          google.colab.kernel.accessAllowed ? 'block' : 'none';\n",
              "\n",
              "        async function convertToInteractive(key) {\n",
              "          const element = document.querySelector('#df-5a95f058-a6aa-4a99-9ae1-c5aa500ba11f');\n",
              "          const dataTable =\n",
              "            await google.colab.kernel.invokeFunction('convertToInteractive',\n",
              "                                                     [key], {});\n",
              "          if (!dataTable) return;\n",
              "\n",
              "          const docLinkHtml = 'Like what you see? Visit the ' +\n",
              "            '<a target=\"_blank\" href=https://colab.research.google.com/notebooks/data_table.ipynb>data table notebook</a>'\n",
              "            + ' to learn more about interactive tables.';\n",
              "          element.innerHTML = '';\n",
              "          dataTable['output_type'] = 'display_data';\n",
              "          await google.colab.output.renderOutput(dataTable, element);\n",
              "          const docLink = document.createElement('div');\n",
              "          docLink.innerHTML = docLinkHtml;\n",
              "          element.appendChild(docLink);\n",
              "        }\n",
              "      </script>\n",
              "    </div>\n",
              "  </div>\n",
              "  "
            ]
          },
          "metadata": {},
          "execution_count": 5
        }
      ]
    },
    {
      "cell_type": "code",
      "source": [
        "df.columns"
      ],
      "metadata": {
        "colab": {
          "base_uri": "https://localhost:8080/"
        },
        "id": "2jZ0FtuGhDH7",
        "outputId": "df52bac4-369f-4fb6-c9ac-1e53309fe55d"
      },
      "execution_count": 6,
      "outputs": [
        {
          "output_type": "execute_result",
          "data": {
            "text/plain": [
              "Index(['id', 'name', 'host_id', 'host_name', 'neighbourhood_group',\n",
              "       'neighbourhood', 'latitude', 'longitude', 'room_type', 'price',\n",
              "       'minimum_nights', 'number_of_reviews', 'last_review',\n",
              "       'reviews_per_month', 'calculated_host_listings_count',\n",
              "       'availability_365', 'number_of_reviews_ltm', 'license'],\n",
              "      dtype='object')"
            ]
          },
          "metadata": {},
          "execution_count": 6
        }
      ]
    },
    {
      "cell_type": "markdown",
      "metadata": {
        "id": "RYgvuebKNg8-"
      },
      "source": [
        "##**Dicionário das variáveis**\n",
        "\n",
        "* id - Identificador exclusivo do Airbnb para o anúncio\n",
        "* name - Descrição da propriedade\n",
        "* host_id - Identificador exclusivo do Airbnb para o anfitrião/usuário\n",
        "* host_name - Nome do anfitrião. Apenas o primeiro nome\n",
        "* neighbourhood_group - Grupo de bairros\n",
        "      ** Os bairros de Nova York são divididos em cinco grandes regiões geográficas chamadas de boroughs (ou distritos). \n",
        "       Ex: Os bairros de Midtown e Hudson Yards integram o boroughs Manhattan\n",
        "* neighbourhood - Nome do Bairro\n",
        "* latitude - Latitude do Imóvel\n",
        "* longitude - Longitude do Imóvel\n",
        "* room_type - Tipo de quarto\n",
        "* price - Preço US$\n",
        "* minimum_nights - Noites minímas exigidas para reserva\n",
        "* number_of_reviews - Número de avaliações que a propriedade possui\n",
        "* last_review - Data da última avaliação\n",
        "* reviews_per_month - Avaliações por mês\n",
        "* calculated_host_listings_count - Quantidade de imóveis do mesmo anfitrião na mesma região geográfica\n",
        "* availability_365 - número de dias de disponibilidade dentro dos próximos 365 dias\n",
        "* number_of_reviews_ltm - Número de Avalições nos últimos 12 meses\n",
        "* license - Esta coluna não contém nenhum valor válido\n"
      ]
    },
    {
      "cell_type": "markdown",
      "metadata": {
        "id": "6-B_qtEaYEd-"
      },
      "source": [
        "# **1. Atributos (variáveis) e quantidade de entradas o conjunto de dados possui**"
      ]
    },
    {
      "cell_type": "markdown",
      "source": [
        "#### Identificando o volume de dados do DataFrame"
      ],
      "metadata": {
        "id": "6f8lBfAw8gAo"
      }
    },
    {
      "cell_type": "code",
      "metadata": {
        "id": "TFRK0tniLV-G",
        "colab": {
          "base_uri": "https://localhost:8080/"
        },
        "outputId": "5fc7450c-55be-402f-8088-8d61344c0c9a"
      },
      "source": [
        "print(\"Entradas:\\t {}\".format(df.shape[0]))\n",
        "print(\"Variáveis:\\t {}\\n\".format(df.shape[1]))"
      ],
      "execution_count": 7,
      "outputs": [
        {
          "output_type": "stream",
          "name": "stdout",
          "text": [
            "Entradas:\t 41533\n",
            "Variáveis:\t 18\n",
            "\n"
          ]
        }
      ]
    },
    {
      "cell_type": "markdown",
      "source": [
        "#### Identificando o tipo do conteúdo das variáveis"
      ],
      "metadata": {
        "id": "OjXtpBas8_D7"
      }
    },
    {
      "cell_type": "code",
      "source": [
        "display(df.dtypes)"
      ],
      "metadata": {
        "colab": {
          "base_uri": "https://localhost:8080/",
          "height": 0
        },
        "id": "Oq6vkO3s9ZVJ",
        "outputId": "3d440bfc-b0e1-4da7-a4ae-b405229a70aa"
      },
      "execution_count": 8,
      "outputs": [
        {
          "output_type": "display_data",
          "data": {
            "text/plain": [
              "id                                  int64\n",
              "name                               object\n",
              "host_id                             int64\n",
              "host_name                          object\n",
              "neighbourhood_group                object\n",
              "neighbourhood                      object\n",
              "latitude                          float64\n",
              "longitude                         float64\n",
              "room_type                          object\n",
              "price                               int64\n",
              "minimum_nights                      int64\n",
              "number_of_reviews                   int64\n",
              "last_review                        object\n",
              "reviews_per_month                 float64\n",
              "calculated_host_listings_count      int64\n",
              "availability_365                    int64\n",
              "number_of_reviews_ltm               int64\n",
              "license                            object\n",
              "dtype: object"
            ]
          },
          "metadata": {}
        }
      ]
    },
    {
      "cell_type": "markdown",
      "metadata": {
        "id": "yz1urSUGW9iE"
      },
      "source": [
        "# **2. Valores ausentes no dataset**\n"
      ]
    },
    {
      "cell_type": "markdown",
      "source": [
        "Feitas as primeiras análises de estrutura do dataset já sabemos com quantas variáveis temos, qual tipo de dado tem em cada uma delas e que se refere cada uma delas. Agora iremos verificar a quantidade de valores ausentes e como trataremos esses valores caso a caso.\n"
      ],
      "metadata": {
        "id": "1TV8Fy2wuS_Z"
      }
    },
    {
      "cell_type": "code",
      "source": [
        "print(\"Total de Entradas:\\t {}\".format(df.shape[0]))\n",
        "print()\n",
        "print(df.isnull().sum().sort_values(ascending=False).head(10))\n",
        "print()\n",
        "print(((df.isnull().sum() / df.shape[0]).sort_values(ascending=False)*100).head(10))\n"
      ],
      "metadata": {
        "colab": {
          "base_uri": "https://localhost:8080/"
        },
        "id": "fidSmNnKgYps",
        "outputId": "43d10a9b-390a-4070-89e7-c22018fa8006"
      },
      "execution_count": 9,
      "outputs": [
        {
          "output_type": "stream",
          "name": "stdout",
          "text": [
            "Total de Entradas:\t 41533\n",
            "\n",
            "license                           41532\n",
            "reviews_per_month                  9393\n",
            "last_review                        9393\n",
            "name                                 13\n",
            "host_name                             5\n",
            "minimum_nights                        0\n",
            "number_of_reviews_ltm                 0\n",
            "availability_365                      0\n",
            "calculated_host_listings_count        0\n",
            "number_of_reviews                     0\n",
            "dtype: int64\n",
            "\n",
            "license                           99.997592\n",
            "reviews_per_month                 22.615751\n",
            "last_review                       22.615751\n",
            "name                               0.031300\n",
            "host_name                          0.012039\n",
            "minimum_nights                     0.000000\n",
            "number_of_reviews_ltm              0.000000\n",
            "availability_365                   0.000000\n",
            "calculated_host_listings_count     0.000000\n",
            "number_of_reviews                  0.000000\n",
            "dtype: float64\n"
          ]
        }
      ]
    },
    {
      "cell_type": "markdown",
      "source": [
        "A qualidade de um dataset está diretamente relacionada à quantidade de valores ausentes. É importante entender logo no início se esses valores nulos são significativos comparados ao total de entradas.\n",
        "\n",
        "Podemos veriricar que:\n",
        "\n",
        " * A variável \"name\" tem 13 entradas ausentes e a \"host_name\" tem 5 entradas entradas ausentes, o que corresponde a 0.03% e 0.01% respectivamente.\n",
        " * a variável \"license\" esta com 99.99% dos seus dados nulos.\n",
        " * As variável \"reviews_per_month\" e \"last_review\", ambas tem 9,993 entradas ausentes, o que correnponde a 23%.\n",
        "\n",
        "\n",
        "O primeiro passo será realizar a exclusão das variáveis 'lincense', 'last_review' e 'reviews_per_month', pois a primeira está com 99,99% e as duas últimas com 23% de dados ausentes e também nenhuma delas afetará ou será objeto de nossa análise.\n",
        "Faremos isso utilizando o m'wtodo `drop` e assim excluindo a variável inteira.\n"
      ],
      "metadata": {
        "id": "FDHxpL_sD7uE"
      }
    },
    {
      "cell_type": "code",
      "source": [
        "df_clean = df.copy()"
      ],
      "metadata": {
        "id": "UkllzU8oR3qw"
      },
      "execution_count": 10,
      "outputs": []
    },
    {
      "cell_type": "code",
      "source": [
        "df_clean.drop('license', axis=1, inplace=True)\n",
        "df_clean.drop('last_review', axis=1, inplace=True)\n",
        "df_clean.drop('reviews_per_month', axis=1, inplace=True)"
      ],
      "metadata": {
        "id": "ZboAnNVNUsXl"
      },
      "execution_count": 11,
      "outputs": []
    },
    {
      "cell_type": "markdown",
      "source": [
        "Agora vamos analisar os dados ausente das variáveis 'name' e 'host_name'.\n",
        ">\n",
        "Essas variáveis estão com poucas entradas com dados nulos, a primeira tem 13 e a segunda 5 entradas com dados nulos. Dessa forma, faremos a exlusão dessas entradas pois não trará impacto em nossas análises.\n",
        "Vamos utilizar o método `dropna` para exlcuir apenas as entradas que estiverem com valor nulo nestas variáveis.\n"
      ],
      "metadata": {
        "id": "2bnxSSWbLj0A"
      }
    },
    {
      "cell_type": "code",
      "source": [
        "#Excluindo apneas as entradas nulas\n",
        "df_clean.dropna(subset=['name'], axis=0, inplace=True)\n",
        "df_clean.dropna(subset=['host_name'], axis=0, inplace=True)"
      ],
      "metadata": {
        "id": "ej5wpt_cmBMg"
      },
      "execution_count": 12,
      "outputs": []
    },
    {
      "cell_type": "markdown",
      "source": [
        "Após essas correções o dataset ficou da seguinte forma:"
      ],
      "metadata": {
        "id": "Pyo0VpBFlwcH"
      }
    },
    {
      "cell_type": "code",
      "source": [
        "print(\"Total de Entradas:\\t {}\".format(df_clean.shape[0]))\n",
        "print()\n",
        "print(df_clean.isnull().sum().sort_values(ascending=False).head(10))\n",
        "print()\n",
        "print(((df_clean.isnull().sum() / df.shape[0]).sort_values(ascending=False)*100).head(10))"
      ],
      "metadata": {
        "colab": {
          "base_uri": "https://localhost:8080/"
        },
        "id": "qVu9V1aBLrGs",
        "outputId": "3cfbb45f-3d0f-4155-dad0-702ca16be3c8"
      },
      "execution_count": 13,
      "outputs": [
        {
          "output_type": "stream",
          "name": "stdout",
          "text": [
            "Total de Entradas:\t 41515\n",
            "\n",
            "id                     0\n",
            "name                   0\n",
            "host_id                0\n",
            "host_name              0\n",
            "neighbourhood_group    0\n",
            "neighbourhood          0\n",
            "latitude               0\n",
            "longitude              0\n",
            "room_type              0\n",
            "price                  0\n",
            "dtype: int64\n",
            "\n",
            "id                     0.0\n",
            "name                   0.0\n",
            "host_id                0.0\n",
            "host_name              0.0\n",
            "neighbourhood_group    0.0\n",
            "neighbourhood          0.0\n",
            "latitude               0.0\n",
            "longitude              0.0\n",
            "room_type              0.0\n",
            "price                  0.0\n",
            "dtype: float64\n"
          ]
        }
      ]
    },
    {
      "cell_type": "code",
      "source": [
        "#Verificando o Antes e Depois\n",
        "print(\"Tinhamos {} entradas e agora temos {} entradas\".format(df.shape[0], df_clean.shape[0]))\n",
        "print(\"Tinhamos {} variáveis e agora temos {} variáveis\".format(df.shape[1], df_clean.shape[1]))"
      ],
      "metadata": {
        "colab": {
          "base_uri": "https://localhost:8080/"
        },
        "id": "fdWc4liRWJGW",
        "outputId": "64b97151-aee7-487b-868f-d8a7b75d574e"
      },
      "execution_count": 14,
      "outputs": [
        {
          "output_type": "stream",
          "name": "stdout",
          "text": [
            "Tinhamos 41533 entradas e agora temos 41515 entradas\n",
            "Tinhamos 18 variáveis e agora temos 15 variáveis\n"
          ]
        }
      ]
    },
    {
      "cell_type": "markdown",
      "source": [
        "Com esse tratamento realizado nos dados nulos conseguimos manter todas as entradas do dataset sem perder a consistencia desses dados."
      ],
      "metadata": {
        "id": "JH_sVmYn_bem"
      }
    },
    {
      "cell_type": "markdown",
      "metadata": {
        "id": "iHXvvHIxaoNc"
      },
      "source": [
        "# **3. Distribuição das variáveis e Identificando *OUTLIERS*** "
      ]
    },
    {
      "cell_type": "markdown",
      "source": [
        "Agora faremos um exame de como está a distribuição das variáveis. \n",
        "Para isso iremos plotar um histograma geral e analisar quadro a quadro."
      ],
      "metadata": {
        "id": "V_j488Dpt2Ab"
      }
    },
    {
      "cell_type": "code",
      "metadata": {
        "id": "q2wWSfeRbmBo",
        "colab": {
          "base_uri": "https://localhost:8080/",
          "height": 0
        },
        "outputId": "b77ea142-b01d-4324-be94-5030cb1f1476"
      },
      "source": [
        "# plotando um histograma das variáveis numéricas\n",
        "df_clean.hist(['price','minimum_nights', 'number_of_reviews',\n",
        "       'calculated_host_listings_count', 'availability_365',\n",
        "       'number_of_reviews_ltm'], bins=10, figsize=(15,10))"
      ],
      "execution_count": 15,
      "outputs": [
        {
          "output_type": "execute_result",
          "data": {
            "text/plain": [
              "array([[<Axes: title={'center': 'price'}>,\n",
              "        <Axes: title={'center': 'minimum_nights'}>],\n",
              "       [<Axes: title={'center': 'number_of_reviews'}>,\n",
              "        <Axes: title={'center': 'calculated_host_listings_count'}>],\n",
              "       [<Axes: title={'center': 'availability_365'}>,\n",
              "        <Axes: title={'center': 'number_of_reviews_ltm'}>]], dtype=object)"
            ]
          },
          "metadata": {},
          "execution_count": 15
        },
        {
          "output_type": "display_data",
          "data": {
            "text/plain": [
              "<Figure size 1500x1000 with 6 Axes>"
            ],
            "image/png": "[encoded data removed]"
          },
          "metadata": {}
        }
      ]
    },
    {
      "cell_type": "markdown",
      "source": [
        "Com base nos histogramas plotados podemos ver que existe uma grande disperção nos dados, isso demonstra a possivel presença de ***outliers***. Tendo isso em vista, iremos analisar caso a caso para identificar e tratar esses possiveis ***outliers***"
      ],
      "metadata": {
        "id": "MXCxJ0Hw01An"
      }
    },
    {
      "cell_type": "markdown",
      "source": [
        "#**4.Identificando e Tratando os OUTLIERS**\n"
      ],
      "metadata": {
        "id": "BNHmqkDBL4g8"
      }
    },
    {
      "cell_type": "markdown",
      "source": [
        "\n",
        "Para iniciarmos a nossa investigação de ***outliers*** utilizamos a distribuição em histograma, o que torna possível a visualização da disposição dos dados. Podemos ver nas variáveis 'price','minimum_nights', 'number_of_reviews', 'calculated_host_listings_count' 'availability_365', 'number_of_reviews_ltm', que elas não tem uma distribuição dos dados dentro do histograma que seja possivel fazer uma análise e distorcem a representação gráfica, o que indica a presença de ***OUTLIERS***.\n",
        "\n",
        "Para confirmar ***outliers***, iremos utilizar duas maneiras rápidas que auxiliam a detecção de outliers. São elas:\n",
        "\n",
        "* Resumo estatístico  das variáveis numéricas por meio do método `describe()`\n",
        "* Plotar um `boxplot` para cada variável."
      ],
      "metadata": {
        "id": "34Gdi1stmoui"
      }
    },
    {
      "cell_type": "code",
      "source": [
        "df_clean[['price','minimum_nights', 'number_of_reviews',\n",
        "       'calculated_host_listings_count', 'availability_365',\n",
        "       'number_of_reviews_ltm']].describe()"
      ],
      "metadata": {
        "colab": {
          "base_uri": "https://localhost:8080/",
          "height": 364
        },
        "id": "Va_i34bfanxW",
        "outputId": "2435f2f2-fe1f-4d19-df75-cbadceede224"
      },
      "execution_count": 16,
      "outputs": [
        {
          "output_type": "execute_result",
          "data": {
            "text/plain": [
              "              price  minimum_nights  number_of_reviews  \\\n",
              "count  41515.000000    41515.000000       41515.000000   \n",
              "mean     222.006118       18.587185          26.214790   \n",
              "std      919.694979       30.704991          56.188805   \n",
              "min        0.000000        1.000000           0.000000   \n",
              "25%       80.000000        2.000000           1.000000   \n",
              "50%      131.000000       10.000000           5.000000   \n",
              "75%      220.000000       30.000000          25.000000   \n",
              "max    98159.000000     1250.000000        1666.000000   \n",
              "\n",
              "       calculated_host_listings_count  availability_365  number_of_reviews_ltm  \n",
              "count                    41515.000000      41515.000000           41515.000000  \n",
              "mean                        20.635192        143.341250               7.987161  \n",
              "std                         68.888141        144.277758              18.567174  \n",
              "min                          1.000000          0.000000               0.000000  \n",
              "25%                          1.000000          0.000000               0.000000  \n",
              "50%                          1.000000         87.000000               1.000000  \n",
              "75%                          4.000000        312.000000               8.000000  \n",
              "max                        487.000000        365.000000             992.000000  "
            ],
            "text/html": [
              "\n",
              "  <div id=\"df-ce3f4a9e-0cf2-4741-af85-e90a8087a2a7\">\n",
              "    <div class=\"colab-df-container\">\n",
              "      <div>\n",
              "<style scoped>\n",
              "    .dataframe tbody tr th:only-of-type {\n",
              "        vertical-align: middle;\n",
              "    }\n",
              "\n",
              "    .dataframe tbody tr th {\n",
              "        vertical-align: top;\n",
              "    }\n",
              "\n",
              "    .dataframe thead th {\n",
              "        text-align: right;\n",
              "    }\n",
              "</style>\n",
              "<table border=\"1\" class=\"dataframe\">\n",
              "  <thead>\n",
              "    <tr style=\"text-align: right;\">\n",
              "      <th></th>\n",
              "      <th>price</th>\n",
              "      <th>minimum_nights</th>\n",
              "      <th>number_of_reviews</th>\n",
              "      <th>calculated_host_listings_count</th>\n",
              "      <th>availability_365</th>\n",
              "      <th>number_of_reviews_ltm</th>\n",
              "    </tr>\n",
              "  </thead>\n",
              "  <tbody>\n",
              "    <tr>\n",
              "      <th>count</th>\n",
              "      <td>41515.000000</td>\n",
              "      <td>41515.000000</td>\n",
              "      <td>41515.000000</td>\n",
              "      <td>41515.000000</td>\n",
              "      <td>41515.000000</td>\n",
              "      <td>41515.000000</td>\n",
              "    </tr>\n",
              "    <tr>\n",
              "      <th>mean</th>\n",
              "      <td>222.006118</td>\n",
              "      <td>18.587185</td>\n",
              "      <td>26.214790</td>\n",
              "      <td>20.635192</td>\n",
              "      <td>143.341250</td>\n",
              "      <td>7.987161</td>\n",
              "    </tr>\n",
              "    <tr>\n",
              "      <th>std</th>\n",
              "      <td>919.694979</td>\n",
              "      <td>30.704991</td>\n",
              "      <td>56.188805</td>\n",
              "      <td>68.888141</td>\n",
              "      <td>144.277758</td>\n",
              "      <td>18.567174</td>\n",
              "    </tr>\n",
              "    <tr>\n",
              "      <th>min</th>\n",
              "      <td>0.000000</td>\n",
              "      <td>1.000000</td>\n",
              "      <td>0.000000</td>\n",
              "      <td>1.000000</td>\n",
              "      <td>0.000000</td>\n",
              "      <td>0.000000</td>\n",
              "    </tr>\n",
              "    <tr>\n",
              "      <th>25%</th>\n",
              "      <td>80.000000</td>\n",
              "      <td>2.000000</td>\n",
              "      <td>1.000000</td>\n",
              "      <td>1.000000</td>\n",
              "      <td>0.000000</td>\n",
              "      <td>0.000000</td>\n",
              "    </tr>\n",
              "    <tr>\n",
              "      <th>50%</th>\n",
              "      <td>131.000000</td>\n",
              "      <td>10.000000</td>\n",
              "      <td>5.000000</td>\n",
              "      <td>1.000000</td>\n",
              "      <td>87.000000</td>\n",
              "      <td>1.000000</td>\n",
              "    </tr>\n",
              "    <tr>\n",
              "      <th>75%</th>\n",
              "      <td>220.000000</td>\n",
              "      <td>30.000000</td>\n",
              "      <td>25.000000</td>\n",
              "      <td>4.000000</td>\n",
              "      <td>312.000000</td>\n",
              "      <td>8.000000</td>\n",
              "    </tr>\n",
              "    <tr>\n",
              "      <th>max</th>\n",
              "      <td>98159.000000</td>\n",
              "      <td>1250.000000</td>\n",
              "      <td>1666.000000</td>\n",
              "      <td>487.000000</td>\n",
              "      <td>365.000000</td>\n",
              "      <td>992.000000</td>\n",
              "    </tr>\n",
              "  </tbody>\n",
              "</table>\n",
              "</div>\n",
              "      <button class=\"colab-df-convert\" onclick=\"convertToInteractive('df-ce3f4a9e-0cf2-4741-af85-e90a8087a2a7')\"\n",
              "              title=\"Convert this dataframe to an interactive table.\"\n",
              "              style=\"display:none;\">\n",
              "        \n",
              "  <svg xmlns=\"http://www.w3.org/2000/svg\" height=\"24px\"viewBox=\"0 0 24 24\"\n",
              "       width=\"24px\">\n",
              "    <path d=\"M0 0h24v24H0V0z\" fill=\"none\"/>\n",
              "    <path d=\"M18.56 5.44l.94 2.06.94-2.06 2.06-.94-2.06-.94-.94-2.06-.94 2.06-2.06.94zm-11 1L8.5 8.5l.94-2.06 2.06-.94-2.06-.94L8.5 2.5l-.94 2.06-2.06.94zm10 10l.94 2.06.94-2.06 2.06-.94-2.06-.94-.94-2.06-.94 2.06-2.06.94z\"/><path d=\"M17.41 7.96l-1.37-1.37c-.4-.4-.92-.59-1.43-.59-.52 0-1.04.2-1.43.59L10.3 9.45l-7.72 7.72c-.78.78-.78 2.05 0 2.83L4 21.41c.39.39.9.59 1.41.59.51 0 1.02-.2 1.41-.59l7.78-7.78 2.81-2.81c.8-.78.8-2.07 0-2.86zM5.41 20L4 18.59l7.72-7.72 1.47 1.35L5.41 20z\"/>\n",
              "  </svg>\n",
              "      </button>\n",
              "      \n",
              "  <style>\n",
              "    .colab-df-container {\n",
              "      display:flex;\n",
              "      flex-wrap:wrap;\n",
              "      gap: 12px;\n",
              "    }\n",
              "\n",
              "    .colab-df-convert {\n",
              "      background-color: #E8F0FE;\n",
              "      border: none;\n",
              "      border-radius: 50%;\n",
              "      cursor: pointer;\n",
              "      display: none;\n",
              "      fill: #1967D2;\n",
              "      height: 32px;\n",
              "      padding: 0 0 0 0;\n",
              "      width: 32px;\n",
              "    }\n",
              "\n",
              "    .colab-df-convert:hover {\n",
              "      background-color: #E2EBFA;\n",
              "      box-shadow: 0px 1px 2px rgba(60, 64, 67, 0.3), 0px 1px 3px 1px rgba(60, 64, 67, 0.15);\n",
              "      fill: #174EA6;\n",
              "    }\n",
              "\n",
              "    [theme=dark] .colab-df-convert {\n",
              "      background-color: #3B4455;\n",
              "      fill: #D2E3FC;\n",
              "    }\n",
              "\n",
              "    [theme=dark] .colab-df-convert:hover {\n",
              "      background-color: #434B5C;\n",
              "      box-shadow: 0px 1px 3px 1px rgba(0, 0, 0, 0.15);\n",
              "      filter: drop-shadow(0px 1px 2px rgba(0, 0, 0, 0.3));\n",
              "      fill: #FFFFFF;\n",
              "    }\n",
              "  </style>\n",
              "\n",
              "      <script>\n",
              "        const buttonEl =\n",
              "          document.querySelector('#df-ce3f4a9e-0cf2-4741-af85-e90a8087a2a7 button.colab-df-convert');\n",
              "        buttonEl.style.display =\n",
              "          google.colab.kernel.accessAllowed ? 'block' : 'none';\n",
              "\n",
              "        async function convertToInteractive(key) {\n",
              "          const element = document.querySelector('#df-ce3f4a9e-0cf2-4741-af85-e90a8087a2a7');\n",
              "          const dataTable =\n",
              "            await google.colab.kernel.invokeFunction('convertToInteractive',\n",
              "                                                     [key], {});\n",
              "          if (!dataTable) return;\n",
              "\n",
              "          const docLinkHtml = 'Like what you see? Visit the ' +\n",
              "            '<a target=\"_blank\" href=https://colab.research.google.com/notebooks/data_table.ipynb>data table notebook</a>'\n",
              "            + ' to learn more about interactive tables.';\n",
              "          element.innerHTML = '';\n",
              "          dataTable['output_type'] = 'display_data';\n",
              "          await google.colab.output.renderOutput(dataTable, element);\n",
              "          const docLink = document.createElement('div');\n",
              "          docLink.innerHTML = docLinkHtml;\n",
              "          element.appendChild(docLink);\n",
              "        }\n",
              "      </script>\n",
              "    </div>\n",
              "  </div>\n",
              "  "
            ]
          },
          "metadata": {},
          "execution_count": 16
        }
      ]
    },
    {
      "cell_type": "markdown",
      "source": [
        "De acordo com o resumo estatístico acima verificamos as seguintes situações:\n",
        "\n",
        "* Na variável 'price' temos o valor mínimo igual a 0 (zero) o que pode ser um erro de preenchimento no dataset ou anúncios que foram cancelados na platoforma, de qualquer forma, esses dados estão claramente errados e alterando as demais estátisticas da variável. Como também temos o valor máximo de 98,159.00 o que provevelmente é um erro pois nenhum imóvel no mundo custaria 98mil doláres a noite, corroborando com esse entendimento, nós temos 75% dos valores menores que 220.00 dolares por noite.\n",
        "* Na variável 'minimum_nigths' temos 75% dos valores abaixo de 30 dias e o maior está como 1,250.00, o que é bem acima de 365 dias no ano.\n",
        "* Na variável 'number_of_reviews' temos 75% dos valores abaixo de 25 e seu valor máximo é de 1,666.00.\n",
        "* Na variável 'calculated_host_listings_count' 75% é menor do que 4 e seu valor máximo é 487, isso indica que poucas pessoas são proprietárias de mais de 4 unidade anunciadas.\n",
        "* Na variável 'availability_365' temos dados coerentes pois o máximo está em 365, o que siginifica que algum imóvel ficou disponivel para hospedagem durante o ano todo e o mínimo está em zero, ou seja, algum imovél passou o ano todo locado.\n",
        "* Na variável 'number_of_reviews_ltm' tem 75% dos valores abaixo de 8 e seu valor máximo está em 992.00, o numero máximo muito elevado está distorcendo os números dessa variável.\n",
        ">\n",
        "Esses dados desmonstram há a presença de ***OUTLIERS***, pois temos valores máximos muito acima do que 75% das entradas. \n",
        ">\n",
        "Para tratarmos esses ***outliers*** identificados acima, iremos utilizar o médoto de IQR para definirmos, com base estátistica, qual será o valor máximo e mímino para cada uma das variáveis e assim teremos uma visão melhor no histograma sem prejudicar a qualidade dos dados.\n",
        ">\n",
        "Faremos da seguinte forma:\n",
        " \n",
        "\n",
        "1. Definir o Q1 e Q3 para as variáveis que serão limpas\n",
        "2. Calcular o IQR para as variáveis.*\n",
        "3. Definir o limite superior e inferior para cortar os outliers.\n",
        "4. Remover os outliers.\n",
        "\n",
        ">>*O IQR é uma medida estatística que ajuda a entender a dispersão dos dados em um conjunto de observações. Ele é calculado a partir dos valores que dividem os dados em quatro partes iguais, chamados quartis.\n",
        ">Para calcular o IQR, você precisa encontrar o valor do primeiro quartil (Q1) e do terceiro quartil (Q3). O IQR é a diferença entre o valor do terceiro quartil e o valor do primeiro quartil.\n",
        ">O IQR é útil para identificar valores extremos (outliers) e comparar a variabilidade entre diferentes grupos ou amostras.\n"
      ],
      "metadata": {
        "id": "Gr7q5E9ziYn_"
      }
    },
    {
      "cell_type": "markdown",
      "source": [
        "###4.1 Variável 'price'"
      ],
      "metadata": {
        "id": "gxJkJx_beEiS"
      }
    },
    {
      "cell_type": "code",
      "source": [
        "#Boxplot antes de retirarmos os outliers\n",
        "plt.figure(figsize=(15, 3))\n",
        "plt.boxplot(df_clean.price, vert=False)\n",
        "plt.xlabel('Preço', fontsize=12)\n",
        "plt.tick_params(axis='both', labelsize=10)\n",
        "plt.title('Distribuição dos preços dos imóveis', fontsize=14)\n",
        "plt.show()"
      ],
      "metadata": {
        "colab": {
          "base_uri": "https://localhost:8080/",
          "height": 0
        },
        "id": "YKHfb72KDX_s",
        "outputId": "7c552c4e-6394-4251-d0fa-240e987621dc"
      },
      "execution_count": 17,
      "outputs": [
        {
          "output_type": "display_data",
          "data": {
            "text/plain": [
              "<Figure size 1500x300 with 1 Axes>"
            ],
            "image/png": "[encoded data removed]"
          },
          "metadata": {}
        }
      ]
    },
    {
      "cell_type": "code",
      "source": [
        "#Calculo do IQR para a variável 'price'\n",
        "q1_price = df_clean.price.quantile(.25)\n",
        "q3_price = df_clean.price.quantile(.75)\n",
        "IQR_price = q3_price - q1_price\n",
        "print('IQR da variável price: ', IQR_price)\n",
        "\n",
        "# definindo os limites                                       \n",
        "sup_price = q3_price + 1.5 * IQR_price\n",
        "inf_price = q1_price - 1.5 * IQR_price\n",
        "# operador condicional para substituir valor negativo por zero\n",
        "inf_price2 = 0 if inf_price <= 0 else inf_price\n",
        "\n",
        "\n",
        "print('Limite superior de price: ', sup_price)\n",
        "print('Limite inferior de price: ', inf_price)\n",
        "print()\n",
        "print(f\"Valores acima de:\", sup_price)\n",
        "print(\"{} entradas\".format(len(df_clean[df_clean.price > sup_price])))\n",
        "print(\"{:.4f}%\".format((len(df_clean[df_clean.price > sup_price]) / df.shape[0])*100))\n",
        "print()\n",
        "print(f\"Valores abaixo de:\", inf_price2)\n",
        "print(\"{} entradas\".format(len(df_clean[df_clean.price <= inf_price2])))\n",
        "print(\"{:.4f}%\".format((len(df_clean[df_clean.price <= inf_price2]) / df.shape[0])*100))\n"
      ],
      "metadata": {
        "colab": {
          "base_uri": "https://localhost:8080/"
        },
        "id": "G9vDN0HVKU7R",
        "outputId": "f9957949-8a29-4b27-d939-fc813af82959"
      },
      "execution_count": 18,
      "outputs": [
        {
          "output_type": "stream",
          "name": "stdout",
          "text": [
            "IQR da variável price:  140.0\n",
            "Limite superior de price:  430.0\n",
            "Limite inferior de price:  -130.0\n",
            "\n",
            "Valores acima de: 430.0\n",
            "3216 entradas\n",
            "7.7432%\n",
            "\n",
            "Valores abaixo de: 0\n",
            "30 entradas\n",
            "0.0722%\n"
          ]
        }
      ]
    },
    {
      "cell_type": "markdown",
      "source": [
        "Conforme o resultado do IQR o valor que será considerado como máximo para a variável 'price' será de 430.00 e o minímo como não temos entradas com valores negativos nesta variável, vamos retirar todos os valor que forem igual a zero.\n",
        "Podemos ver que a quantidade de entradas com valores acima do limite maximo dado pelo calculo do IQR corresponde a 7.75% (3,216 entrads) e as entradas igual ou abaixo do limite minimo correspondem a 0.07% (30 entradas) do total do nosso dataset. Com essa informação, podemos ver que são pequenas alterações e assim seguirmos com as exclusões desses outliers pois não afetará a qualidade dos dados.\n",
        "\n",
        "Para a exclusão dessas entradas usaremos o método de `drop` e iremos plotar novamente um boxplot para verificação.\n"
      ],
      "metadata": {
        "id": "R9uKv_NxKreG"
      }
    },
    {
      "cell_type": "code",
      "source": [
        "#Exluindo as entradas acima ou abaixo dos limites estipulados\n",
        "df_clean.drop(df_clean[df_clean.price == 0]. index, axis=0, inplace=True)\n",
        "df_clean.drop(df_clean[df_clean.price > 430]. index, axis=0, inplace=True)"
      ],
      "metadata": {
        "id": "m7_dvuBJKqac"
      },
      "execution_count": 19,
      "outputs": []
    },
    {
      "cell_type": "code",
      "source": [
        "# Criando um box plot para o dataset com outliers\n",
        "plt.figure(figsize=(15, 3))\n",
        "plt.boxplot(df.price, vert=False)\n",
        "plt.xlabel('Preço', fontsize=12)\n",
        "plt.tick_params(axis='both', labelsize=10)\n",
        "plt.xticks(np.arange(0, 100000, 5000))\n",
        "plt.title('Distribuição dos preços dos imóveis com OUTLIERS', fontsize=14)\n",
        "plt.setp(plt.gca().get_xticklabels(), fontsize=10) # altera tamanho da fonte do rótulo do eixo X\n",
        "plt.gca().xaxis.grid(True) # Exibe grid vertical\n",
        "plt.gca().yaxis.grid(True) # Exibe grid horizontal\n",
        "plt.gca().spines['right'].set_visible(True) # Exibe borda direita\n",
        "plt.gca().spines['top'].set_visible(True) # Exibr borda superior\n",
        "plt.show()\n",
        "\n",
        "# Criando um box plot para o dataset sem outliers\n",
        "plt.figure(figsize=(15, 3))\n",
        "plt.boxplot(df_clean.price, vert=False)\n",
        "plt.xlabel('Preço', fontsize=12)\n",
        "plt.tick_params(axis='both', labelsize=10)\n",
        "plt.xticks(np.arange(0, 500, 40))\n",
        "plt.title('Distribuição dos preços dos imóveis sem OUTLIERS', fontsize=14)\n",
        "plt.setp(plt.gca().get_xticklabels(), fontsize=10) # altera tamanho da fonte do rótulo do eixo X\n",
        "plt.gca().xaxis.grid(True) # Exibe grid vertical\n",
        "plt.gca().yaxis.grid(True) # Exibe grid horizontal\n",
        "plt.gca().spines['right'].set_visible(True) # Exibe borda direita\n",
        "plt.gca().spines['top'].set_visible(True) # Exibr borda superior\n",
        "plt.show()\n",
        "\n",
        "print()\n",
        "print(\"Comparativo da quantidade de entradas\")\n",
        "print(\"Tamanho original: {} Entradas\".format(df.shape[0]))\n",
        "print(\"Tamanho atual: {} Entradas\".format(df_clean.shape[0]))\n"
      ],
      "metadata": {
        "colab": {
          "base_uri": "https://localhost:8080/",
          "height": 0
        },
        "id": "wYn8Xra5f9Ew",
        "outputId": "4554db9b-7683-45e8-9f85-110aada59ec5"
      },
      "execution_count": 20,
      "outputs": [
        {
          "output_type": "display_data",
          "data": {
            "text/plain": [
              "<Figure size 1500x300 with 1 Axes>"
            ],
            "image/png": "[encoded data removed]"
          },
          "metadata": {}
        },
        {
          "output_type": "display_data",
          "data": {
            "text/plain": [
              "<Figure size 1500x300 with 1 Axes>"
            ],
            "image/png": "[encoded data removed]"
          },
          "metadata": {}
        },
        {
          "output_type": "stream",
          "name": "stdout",
          "text": [
            "\n",
            "Comparativo da quantidade de entradas\n",
            "Tamanho original: 41533 Entradas\n",
            "Tamanho atual: 38269 Entradas\n"
          ]
        }
      ]
    },
    {
      "cell_type": "markdown",
      "source": [
        "O boxplot exibe certos valores que são considerados com outliers, mas é crucial destacar que esses valores foram determinados usando o conjunto de dados atualizado, enquanto a limpeza dos dados foi realizada com base nos quartis do conjunto de dados original.\n",
        ">\n",
        "Agora vamos realizar os mesmos procedimentos para a variável 'minimum_nights'.\n",
        "\n"
      ],
      "metadata": {
        "id": "db2eVOhFfGQC"
      }
    },
    {
      "cell_type": "markdown",
      "source": [
        "##4.2 Variável 'minimum_nights'"
      ],
      "metadata": {
        "id": "4iUMxUCkeQpU"
      }
    },
    {
      "cell_type": "code",
      "source": [
        "df_clean.minimum_nights.plot(kind='box', vert=False, figsize=(15, 3))\n",
        "plt.show()"
      ],
      "metadata": {
        "colab": {
          "base_uri": "https://localhost:8080/",
          "height": 0
        },
        "id": "QMBsfc_Zla2c",
        "outputId": "02c23656-e9a8-4643-93b4-1948b481ff3c"
      },
      "execution_count": 21,
      "outputs": [
        {
          "output_type": "display_data",
          "data": {
            "text/plain": [
              "<Figure size 1500x300 with 1 Axes>"
            ],
            "image/png": "[encoded data removed]"
          },
          "metadata": {}
        }
      ]
    },
    {
      "cell_type": "code",
      "source": [
        "#Calculo do IQR para a variável 'minimum_night'\n",
        "q1_night = df_clean.minimum_nights.quantile(.25)\n",
        "q3_night = df_clean.minimum_nights.quantile(.75)\n",
        "IQR_night = q3_night - q1_night\n",
        "print('IQR da variável minimum_nights: ', IQR_night)\n",
        "\n",
        "# definindo os limites                                       \n",
        "sup_night = q3_night + 1.5 * IQR_night\n",
        "inf_night = q1_night - 1.5 * IQR_night\n",
        "# operador condicional para substituir valor negativo por zero\n",
        "inf_night2 = 0 if inf_night <= 0 else inf_night\n",
        "\n",
        "print('Limite superior de minimum_nights: ', sup_night)\n",
        "print('Limite inferior de minimum_nights: ', inf_night)\n",
        "print()\n",
        "print(f\"Valores acima de:\", sup_night)\n",
        "print(\"{} entradas\".format(len(df_clean[df_clean.minimum_nights > sup_night])))\n",
        "print(\"{:.4f}%\".format((len(df_clean[df_clean.minimum_nights > sup_night]) / df.shape[0])*100))\n",
        "print()\n",
        "print(f\"Valores abaixo de:\", inf_night2)\n",
        "print(\"{} entradas\".format(len(df_clean[df_clean.minimum_nights <= inf_night2])))\n",
        "print(\"{:.4f}%\".format((len(df_clean[df_clean.minimum_nights <= inf_night2]) / df.shape[0])*100))"
      ],
      "metadata": {
        "colab": {
          "base_uri": "https://localhost:8080/"
        },
        "id": "YNo_x2uh8jL4",
        "outputId": "bf943a97-1a7b-40b6-d791-2702a04653d7"
      },
      "execution_count": 22,
      "outputs": [
        {
          "output_type": "stream",
          "name": "stdout",
          "text": [
            "IQR da variável minimum_nights:  28.0\n",
            "Limite superior de minimum_nights:  72.0\n",
            "Limite inferior de minimum_nights:  -40.0\n",
            "\n",
            "Valores acima de: 72.0\n",
            "839 entradas\n",
            "2.0201%\n",
            "\n",
            "Valores abaixo de: 0\n",
            "0 entradas\n",
            "0.0000%\n"
          ]
        }
      ]
    },
    {
      "cell_type": "markdown",
      "source": [
        "Conforme o resultado do IQR o valor que será considerado como máximo para a variável 'minimum_nights' será de 72 e o minímo, como não temos entradas com valores negativos nesta variável, vamos considerar zero.\n",
        "Podemos ver que a quantidade de entradas com valores acima do limite maximo dado pelo calculo do IQR corresponde a 2.02% (839 entrads). Com base nisso podemos ver que são pequenas alterações e assim seguirmos com as exclusões desses outliers pois não afetará a qualidade dos dados.\n",
        "\n",
        "Para a exclusão dessas entradas usaremos o código de `drop` e iremos plotar novamente um boxplot para verificação."
      ],
      "metadata": {
        "id": "6b9N9IM2BxXP"
      }
    },
    {
      "cell_type": "code",
      "source": [
        "#Exluindo as entradas acima ou abaixo dos limites estipulados\n",
        "df_clean.drop(df_clean[df_clean.minimum_nights > sup_night]. index, axis=0, inplace=True)"
      ],
      "metadata": {
        "id": "6VXgaLXrC1j1"
      },
      "execution_count": 23,
      "outputs": []
    },
    {
      "cell_type": "code",
      "source": [
        "# Criando um box plot para o dataset com outliers\n",
        "plt.figure(figsize=(15, 3))\n",
        "plt.boxplot(df.minimum_nights, vert=False)\n",
        "plt.xlabel('Número de Noites Mínimas', fontsize=12)\n",
        "plt.tick_params(axis='both', labelsize=10)\n",
        "plt.xticks(np.arange(0, 1300, 50))\n",
        "plt.title('Distribuição de Noites Mínimas com OUTLIERS', fontsize=14)\n",
        "plt.setp(plt.gca().get_xticklabels(), fontsize=10) # altera tamanho da fonte do rótulo do eixo X\n",
        "plt.gca().xaxis.grid(True) # Exibe grid vertical\n",
        "plt.gca().yaxis.grid(True) # Exibe grid horizontal\n",
        "plt.gca().spines['right'].set_visible(True) # Exibe borda direita\n",
        "plt.gca().spines['top'].set_visible(True) # Exibr borda superior\n",
        "plt.show()\n",
        "\n",
        "# Criando um box plot para o dataset sem outliers\n",
        "plt.figure(figsize=(15, 3))\n",
        "plt.boxplot(df_clean.minimum_nights, vert=False)\n",
        "plt.xlabel('Número de Noites Mínimas', fontsize=12)\n",
        "plt.tick_params(axis='both', labelsize=10)\n",
        "plt.xticks(np.arange(0, 80, 5))\n",
        "plt.title('Distribuição de Noites Mínimas sem OUTLIERS', fontsize=14)\n",
        "plt.setp(plt.gca().get_xticklabels(), fontsize=10) # altera tamanho da fonte do rótulo do eixo X\n",
        "plt.gca().xaxis.grid(True) # Exibe grid vertical\n",
        "plt.gca().yaxis.grid(True) # Exibe grid horizontal\n",
        "plt.gca().spines['right'].set_visible(True) # Exibe borda direita\n",
        "plt.gca().spines['top'].set_visible(True) # Exibr borda superior\n",
        "plt.show()\n",
        "\n",
        "print()\n",
        "print(\"Comparativo da quantidade de entradas\")\n",
        "print(\"Tamanho original: {} Entradas\".format(df.shape[0]))\n",
        "print(\"Tamanho atual: {} Entradas\".format(df_clean.shape[0]))"
      ],
      "metadata": {
        "colab": {
          "base_uri": "https://localhost:8080/",
          "height": 0
        },
        "id": "IyS2I1vdDHwp",
        "outputId": "4ee2849d-a696-454f-bd28-7e64792bf870"
      },
      "execution_count": 24,
      "outputs": [
        {
          "output_type": "display_data",
          "data": {
            "text/plain": [
              "<Figure size 1500x300 with 1 Axes>"
            ],
            "image/png": "[encoded data removed]"
          },
          "metadata": {}
        },
        {
          "output_type": "display_data",
          "data": {
            "text/plain": [
              "<Figure size 1500x300 with 1 Axes>"
            ],
            "image/png": "[encoded data removed]"
          },
          "metadata": {}
        },
        {
          "output_type": "stream",
          "name": "stdout",
          "text": [
            "\n",
            "Comparativo da quantidade de entradas\n",
            "Tamanho original: 41533 Entradas\n",
            "Tamanho atual: 37430 Entradas\n"
          ]
        }
      ]
    },
    {
      "cell_type": "markdown",
      "source": [
        "Podemos ver uma mudança significativa na leitura dos dados após a remoção dos outliers.\n",
        "Sempre lembrando que os valore tidos como \"outliers\" no segundo boxplot decorre do fato de que a leitura está sendo feita em cima da base de dados atualizada e a retirada foi feita na base de dados anterior.\n",
        ">\n",
        "\n",
        "Seguiremos os mesmos passos para as variáveis 'number_of_reviews', 'calculated_host_listings_count', 'availability_365' e 'number_of_reviews_ltm'."
      ],
      "metadata": {
        "id": "fpIe39tTEWBo"
      }
    },
    {
      "cell_type": "markdown",
      "source": [
        "##4.3 Variável 'number_of_reviews'"
      ],
      "metadata": {
        "id": "5FlhtZ0NGQnC"
      }
    },
    {
      "cell_type": "code",
      "source": [
        "df_clean.number_of_reviews.plot(kind='box', vert=False, figsize=(15, 3))\n",
        "plt.show()"
      ],
      "metadata": {
        "colab": {
          "base_uri": "https://localhost:8080/",
          "height": 0
        },
        "id": "oyfr41REmN9h",
        "outputId": "9f479e3f-54ac-4166-d792-6a65015cd42e"
      },
      "execution_count": 25,
      "outputs": [
        {
          "output_type": "display_data",
          "data": {
            "text/plain": [
              "<Figure size 1500x300 with 1 Axes>"
            ],
            "image/png": "[encoded data removed]"
          },
          "metadata": {}
        }
      ]
    },
    {
      "cell_type": "code",
      "source": [
        "#Calculo do IQR para a variável 'number_of_reviews'\n",
        "q1_numb = df_clean.number_of_reviews.quantile(.25)\n",
        "q3_numb = df_clean.number_of_reviews.quantile(.75)\n",
        "IQR_numb = q3_numb - q1_numb\n",
        "print('IQR da variável number_of_reviews: ', IQR_numb)\n",
        "\n",
        "# definindo os limites                                       \n",
        "sup_numb = q3_numb + 1.5 * IQR_numb\n",
        "inf_numb = q1_numb - 1.5 * IQR_numb\n",
        "# operador condicional para substituir valor negativo por zero\n",
        "inf_numb2 = 0 if inf_numb <= 0 else inf_numb\n",
        "\n",
        "print('Limite superior de number_of_reviews: ', sup_numb)\n",
        "print('Limite inferior de number_of_reviews: ', inf_numb)\n",
        "print()\n",
        "print(f\"Valores acima de:\", sup_numb)\n",
        "print(\"{} entradas\".format(len(df_clean[df_clean.number_of_reviews > sup_numb])))\n",
        "print(\"{:.4f}%\".format((len(df_clean[df_clean.number_of_reviews > sup_numb]) / df.shape[0])*100))\n",
        "print()\n",
        "print(f\"Valores abaixo de:\", inf_night2)\n",
        "print(\"{} entradas\".format(len(df_clean[df_clean.number_of_reviews <= inf_numb2])))\n",
        "print(\"{:.4f}%\".format((len(df_clean[df_clean.number_of_reviews <= inf_numb2]) / df.shape[0])*100))\n"
      ],
      "metadata": {
        "colab": {
          "base_uri": "https://localhost:8080/"
        },
        "id": "A09oN1l8GWaV",
        "outputId": "146e619f-481c-474f-dee1-3f76d3da36c3"
      },
      "execution_count": 26,
      "outputs": [
        {
          "output_type": "stream",
          "name": "stdout",
          "text": [
            "IQR da variável number_of_reviews:  26.0\n",
            "Limite superior de number_of_reviews:  66.0\n",
            "Limite inferior de number_of_reviews:  -38.0\n",
            "\n",
            "Valores acima de: 66.0\n",
            "4489 entradas\n",
            "10.8083%\n",
            "\n",
            "Valores abaixo de: 0\n",
            "7558 entradas\n",
            "18.1976%\n"
          ]
        }
      ]
    },
    {
      "cell_type": "markdown",
      "source": [
        "Conforme o resultado do IQR o valor máximo para a variável 'number_of_reviews' é de 66 e o minímo, como não temos entradas com valores negativos nesta variável, vamos considerar zero.\n",
        "Podemos ver que a quantidade de entradas com valores acima do limite maximo dado pelo calculo do IQR corresponde a 10.80% (4,489 entrads). Com base nisso podemos ver que essas alterações teriam grande impacto em nosso conjunto de dados. Por tratar de uma informação que não afetará a análise proposta não realizaremos a exclusão das mesma a fim de preservar a qualidade dos dados."
      ],
      "metadata": {
        "id": "eTW2lvohlXC2"
      }
    },
    {
      "cell_type": "markdown",
      "source": [
        "##4.4 Variável 'calculated_host_listings_count'"
      ],
      "metadata": {
        "id": "Ht39D69nbGZX"
      }
    },
    {
      "cell_type": "code",
      "source": [
        "df_clean.calculated_host_listings_count.plot(kind='box', vert=False, figsize=(15, 3))\n",
        "plt.show()"
      ],
      "metadata": {
        "colab": {
          "base_uri": "https://localhost:8080/",
          "height": 0
        },
        "id": "WYxFB5SasPy_",
        "outputId": "52246b44-ff23-4247-bfb1-e27d7e57bb41"
      },
      "execution_count": 27,
      "outputs": [
        {
          "output_type": "display_data",
          "data": {
            "text/plain": [
              "<Figure size 1500x300 with 1 Axes>"
            ],
            "image/png": "[encoded data removed]"
          },
          "metadata": {}
        }
      ]
    },
    {
      "cell_type": "code",
      "source": [
        "#Calculo do IQR para a variável 'calculated_host_listings_count'\n",
        "q1_host = df_clean.calculated_host_listings_count.quantile(.25)\n",
        "q3_host = df_clean.calculated_host_listings_count.quantile(.75)\n",
        "IQR_host = q3_host - q1_host\n",
        "print('IQR da variável calculated_host_listings_count:', IQR_night)\n",
        "\n",
        "# definindo os limites                                       \n",
        "sup_host = q3_host + 1.5 * IQR_host\n",
        "inf_host = q1_host - 1.5 * IQR_host\n",
        "# operador condicional para substituir valor negativo por zero\n",
        "inf_host2 = 0 if inf_host <= 0 else inf_host\n",
        "\n",
        "print('Limite superior de calculated_host_listings_count:', sup_host)\n",
        "print('Limite inferior de calculated_host_listings_count:', inf_host)\n",
        "print()\n",
        "print(f\"Valores acima de:\", sup_host)\n",
        "print(\"{} entradas\".format(len(df_clean[df_clean.calculated_host_listings_count > sup_host])))\n",
        "print(\"{:.4f}%\".format((len(df_clean[df_clean.calculated_host_listings_count > sup_host]) / df.shape[0])*100))\n",
        "print()\n",
        "print(f\"Valores abaixo de:\", inf_night2)\n",
        "print(\"{} entradas\".format(len(df_clean[df_clean.calculated_host_listings_count <= inf_host2])))\n",
        "print(\"{:.4f}%\".format((len(df_clean[df_clean.calculated_host_listings_count <= inf_host2]) / df.shape[0])*100))"
      ],
      "metadata": {
        "colab": {
          "base_uri": "https://localhost:8080/"
        },
        "id": "JxpHhdTvb_jc",
        "outputId": "ae58a9e2-17c9-4ef1-8273-dd2722a704a6"
      },
      "execution_count": 28,
      "outputs": [
        {
          "output_type": "stream",
          "name": "stdout",
          "text": [
            "IQR da variável calculated_host_listings_count: 28.0\n",
            "Limite superior de calculated_host_listings_count: 8.5\n",
            "Limite inferior de calculated_host_listings_count: -3.5\n",
            "\n",
            "Valores acima de: 8.5\n",
            "5384 entradas\n",
            "12.9632%\n",
            "\n",
            "Valores abaixo de: 0\n",
            "0 entradas\n",
            "0.0000%\n"
          ]
        }
      ]
    },
    {
      "cell_type": "markdown",
      "source": [
        "Conforme o resultado do IQR o valor máximo para a variável 'calculated_host_listings_count' é de 8.5 e o minímo, como não temos entradas com valores negativos nesta variável, vamos considerar zero.\n",
        "Podemos ver que a quantidade de entradas com valores acima do limite maximo dado pelo calculo do IQR corresponde a 12.96% (5,384 entrads). Com base nisso podemos ver que essas alterações teriam grande impacto em nosso conjunto de dados. Ademais, por se tratar de uma informação que não afetará a análise proposta não realizaremos a exclusão das mesma a fim de preservar a qualidade dos dados."
      ],
      "metadata": {
        "id": "xKHFfSZ7cse6"
      }
    },
    {
      "cell_type": "markdown",
      "source": [
        "##4.5 Variável 'number_of_reviews_ltm'"
      ],
      "metadata": {
        "id": "a4BVmlDOd5Fa"
      }
    },
    {
      "cell_type": "code",
      "source": [
        "#Plotando um Bloxpot\n",
        "df_clean.number_of_reviews_ltm.plot(kind='box', vert=False, figsize=(15, 3))\n",
        "plt.show()"
      ],
      "metadata": {
        "colab": {
          "base_uri": "https://localhost:8080/",
          "height": 206
        },
        "id": "ri_jtuVMoyr7",
        "outputId": "27a73fa1-2759-4af6-f210-e5d0aa8e1068"
      },
      "execution_count": 29,
      "outputs": [
        {
          "output_type": "display_data",
          "data": {
            "text/plain": [
              "<Figure size 1500x300 with 1 Axes>"
            ],
            "image/png": "[encoded data removed]"
          },
          "metadata": {}
        }
      ]
    },
    {
      "cell_type": "code",
      "source": [
        "#Calculo do IQR para a variável 'number_of_reviews_ltm'\n",
        "q1_nor = df_clean.number_of_reviews_ltm.quantile(.25)\n",
        "q3_nor = df_clean.number_of_reviews_ltm.quantile(.75)\n",
        "IQR_nor = q3_nor - q1_nor\n",
        "print('IQR da variável number_of_reviews_ltm: ', IQR_nor)\n",
        "\n",
        "# definindo os limites                                       \n",
        "sup_nor = q3_nor + 1.5 * IQR_nor\n",
        "inf_nor = q1_nor - 1.5 * IQR_nor\n",
        "# operador condicional para substituir valor negativo por zero\n",
        "inf_nor2 = 0 if inf_nor <= 0 else inf_nor\n",
        "\n",
        "print('Limite superior de number_of_reviews_ltm: ', sup_nor)\n",
        "print('Limite inferior de number_of_reviews_ltm: ', inf_nor)\n",
        "print()\n",
        "print(f\"Valores acima de:\", sup_nor)\n",
        "print(\"{} entradas\".format(len(df_clean[df_clean.number_of_reviews_ltm > sup_nor])))\n",
        "print(\"{:.4f}%\".format((len(df_clean[df_clean.number_of_reviews_ltm > sup_nor]) / df.shape[0])*100))\n",
        "print()\n",
        "print(f\"Valores abaixo de:\", inf_nor2)\n",
        "print(\"{} entradas\".format(len(df_clean[df_clean.number_of_reviews_ltm <= inf_nor2])))\n",
        "print(\"{:.4f}%\".format((len(df_clean[df_clean.number_of_reviews_ltm <= inf_nor2]) / df.shape[0])*100))"
      ],
      "metadata": {
        "colab": {
          "base_uri": "https://localhost:8080/"
        },
        "id": "3QwMQIA8e3Id",
        "outputId": "b810c632-f516-4c58-80ff-8ba2983a5cd1"
      },
      "execution_count": 30,
      "outputs": [
        {
          "output_type": "stream",
          "name": "stdout",
          "text": [
            "IQR da variável number_of_reviews_ltm:  9.0\n",
            "Limite superior de number_of_reviews_ltm:  22.5\n",
            "Limite inferior de number_of_reviews_ltm:  -13.5\n",
            "\n",
            "Valores acima de: 22.5\n",
            "5002 entradas\n",
            "12.0434%\n",
            "\n",
            "Valores abaixo de: 0\n",
            "17943 entradas\n",
            "43.2018%\n"
          ]
        }
      ]
    },
    {
      "cell_type": "markdown",
      "source": [
        "Conforme o resultado do IQR o valor máximo para a variável 'number_of_reviews_ltm' é de 22.5 e o minímo, como não temos entradas com valores negativos nesta variável, vamos considerar zero.\n",
        "Podemos ver que a quantidade de entradas com valores acima do limite maximo dado pelo calculo do IQR corresponde a 12.04% (5,002 entrads). Com base nisso podemos ver que essas alterações teriam grande impacto em nosso conjunto de dados. Por tanto não realizaremos a exclusão das entradas a fim de preservar a qualidade dos dados."
      ],
      "metadata": {
        "id": "4H_enXtvkIh5"
      }
    },
    {
      "cell_type": "markdown",
      "source": [
        "##4.6 Novo Histograma"
      ],
      "metadata": {
        "id": "1smP_3HpnIk8"
      }
    },
    {
      "cell_type": "markdown",
      "source": [
        "Após todas as alterações feita, vamos plotar novamente um histograma apenas das duas variáveis que sofreram alterações."
      ],
      "metadata": {
        "id": "KTys6WbamELt"
      }
    },
    {
      "cell_type": "code",
      "source": [
        "#Plotando histograma após as alterações\n",
        "df_clean.hist(['price','minimum_nights'], bins=10, figsize=(10, 3))"
      ],
      "metadata": {
        "colab": {
          "base_uri": "https://localhost:8080/",
          "height": 349
        },
        "id": "zGab8is4lQBP",
        "outputId": "bd0e2c0a-b7ac-48ca-bff3-7de47b9d35c6"
      },
      "execution_count": 31,
      "outputs": [
        {
          "output_type": "execute_result",
          "data": {
            "text/plain": [
              "array([[<Axes: title={'center': 'price'}>,\n",
              "        <Axes: title={'center': 'minimum_nights'}>]], dtype=object)"
            ]
          },
          "metadata": {},
          "execution_count": 31
        },
        {
          "output_type": "display_data",
          "data": {
            "text/plain": [
              "<Figure size 1000x300 with 2 Axes>"
            ],
            "image/png": "[encoded data removed]"
          },
          "metadata": {}
        }
      ]
    },
    {
      "cell_type": "markdown",
      "source": [
        "Podemos percerber que houve uma grande mudança no histrograma dessas variáveis, com isso iremos seguir agora para análise mais profunda dos dados e ver quais insights podemos extrair deles."
      ],
      "metadata": {
        "id": "nt0Ql3WPoaG3"
      }
    },
    {
      "cell_type": "markdown",
      "metadata": {
        "id": "IXn2oIo5qx-w"
      },
      "source": [
        "#**5. Verificação se  há alguma correlação existente entre as variáveis**"
      ]
    },
    {
      "cell_type": "markdown",
      "source": [
        "Faremos agora uma veirificação para identificar correlações entre duas ou mais variáveis.\n",
        "\n",
        "Esta relação pode ser medida, e é a função do coeficiente de correlação estabelecer qual a intensidade dela. Quanto mais o coeficiente de correlação se aproximar de 1.0, maior é a correlação entre elas.\n",
        "\n",
        "Para identificar se há correlações existentes entre as variáveis iremos utilizar a função `corr` para cirar uma matriz de correlação e em seguida plotaremos um `heatmap` para ficar mais facil a vizualização."
      ],
      "metadata": {
        "id": "roj5fZbvKE_4"
      }
    },
    {
      "cell_type": "code",
      "metadata": {
        "id": "x2ayzBajqxyd",
        "colab": {
          "base_uri": "https://localhost:8080/",
          "height": 368
        },
        "outputId": "58658c00-0610-491d-aef2-132702c4a2de"
      },
      "source": [
        "# criando uma matriz de correlação\n",
        "corr = df_clean[['neighbourhood_group','neighbourhood', 'latitude', 'longitude', 'room_type', 'price', 'minimum_nights', 'calculated_host_listings_count', 'availability_365', 'number_of_reviews_ltm']].corr()\n",
        "\n",
        "# mostrando a matriz de correlação\n",
        "display(corr)"
      ],
      "execution_count": 32,
      "outputs": [
        {
          "output_type": "stream",
          "name": "stderr",
          "text": [
            "<ipython-input-32-bcc5d19b3c6a>:2: FutureWarning: The default value of numeric_only in DataFrame.corr is deprecated. In a future version, it will default to False. Select only valid columns or specify the value of numeric_only to silence this warning.\n",
            "  corr = df_clean[['neighbourhood_group','neighbourhood', 'latitude', 'longitude', 'room_type', 'price', 'minimum_nights', 'calculated_host_listings_count', 'availability_365', 'number_of_reviews_ltm']].corr()\n"
          ]
        },
        {
          "output_type": "display_data",
          "data": {
            "text/plain": [
              "                                latitude  longitude     price  minimum_nights  \\\n",
              "latitude                        1.000000   0.059548  0.012930        0.080266   \n",
              "longitude                       0.059548   1.000000 -0.242156       -0.194642   \n",
              "price                           0.012930  -0.242156  1.000000       -0.166304   \n",
              "minimum_nights                  0.080266  -0.194642 -0.166304        1.000000   \n",
              "calculated_host_listings_count  0.076229  -0.084612  0.149316        0.169404   \n",
              "availability_365               -0.015045   0.155321  0.117128       -0.222725   \n",
              "number_of_reviews_ltm          -0.054654   0.094342  0.072438       -0.453455   \n",
              "\n",
              "                                calculated_host_listings_count  \\\n",
              "latitude                                              0.076229   \n",
              "longitude                                            -0.084612   \n",
              "price                                                 0.149316   \n",
              "minimum_nights                                        0.169404   \n",
              "calculated_host_listings_count                        1.000000   \n",
              "availability_365                                      0.150153   \n",
              "number_of_reviews_ltm                                -0.065478   \n",
              "\n",
              "                                availability_365  number_of_reviews_ltm  \n",
              "latitude                               -0.015045              -0.054654  \n",
              "longitude                               0.155321               0.094342  \n",
              "price                                   0.117128               0.072438  \n",
              "minimum_nights                         -0.222725              -0.453455  \n",
              "calculated_host_listings_count          0.150153              -0.065478  \n",
              "availability_365                        1.000000               0.190336  \n",
              "number_of_reviews_ltm                   0.190336               1.000000  "
            ],
            "text/html": [
              "\n",
              "  <div id=\"df-1e5523f3-04ca-46f8-a27a-e307640d8344\">\n",
              "    <div class=\"colab-df-container\">\n",
              "      <div>\n",
              "<style scoped>\n",
              "    .dataframe tbody tr th:only-of-type {\n",
              "        vertical-align: middle;\n",
              "    }\n",
              "\n",
              "    .dataframe tbody tr th {\n",
              "        vertical-align: top;\n",
              "    }\n",
              "\n",
              "    .dataframe thead th {\n",
              "        text-align: right;\n",
              "    }\n",
              "</style>\n",
              "<table border=\"1\" class=\"dataframe\">\n",
              "  <thead>\n",
              "    <tr style=\"text-align: right;\">\n",
              "      <th></th>\n",
              "      <th>latitude</th>\n",
              "      <th>longitude</th>\n",
              "      <th>price</th>\n",
              "      <th>minimum_nights</th>\n",
              "      <th>calculated_host_listings_count</th>\n",
              "      <th>availability_365</th>\n",
              "      <th>number_of_reviews_ltm</th>\n",
              "    </tr>\n",
              "  </thead>\n",
              "  <tbody>\n",
              "    <tr>\n",
              "      <th>latitude</th>\n",
              "      <td>1.000000</td>\n",
              "      <td>0.059548</td>\n",
              "      <td>0.012930</td>\n",
              "      <td>0.080266</td>\n",
              "      <td>0.076229</td>\n",
              "      <td>-0.015045</td>\n",
              "      <td>-0.054654</td>\n",
              "    </tr>\n",
              "    <tr>\n",
              "      <th>longitude</th>\n",
              "      <td>0.059548</td>\n",
              "      <td>1.000000</td>\n",
              "      <td>-0.242156</td>\n",
              "      <td>-0.194642</td>\n",
              "      <td>-0.084612</td>\n",
              "      <td>0.155321</td>\n",
              "      <td>0.094342</td>\n",
              "    </tr>\n",
              "    <tr>\n",
              "      <th>price</th>\n",
              "      <td>0.012930</td>\n",
              "      <td>-0.242156</td>\n",
              "      <td>1.000000</td>\n",
              "      <td>-0.166304</td>\n",
              "      <td>0.149316</td>\n",
              "      <td>0.117128</td>\n",
              "      <td>0.072438</td>\n",
              "    </tr>\n",
              "    <tr>\n",
              "      <th>minimum_nights</th>\n",
              "      <td>0.080266</td>\n",
              "      <td>-0.194642</td>\n",
              "      <td>-0.166304</td>\n",
              "      <td>1.000000</td>\n",
              "      <td>0.169404</td>\n",
              "      <td>-0.222725</td>\n",
              "      <td>-0.453455</td>\n",
              "    </tr>\n",
              "    <tr>\n",
              "      <th>calculated_host_listings_count</th>\n",
              "      <td>0.076229</td>\n",
              "      <td>-0.084612</td>\n",
              "      <td>0.149316</td>\n",
              "      <td>0.169404</td>\n",
              "      <td>1.000000</td>\n",
              "      <td>0.150153</td>\n",
              "      <td>-0.065478</td>\n",
              "    </tr>\n",
              "    <tr>\n",
              "      <th>availability_365</th>\n",
              "      <td>-0.015045</td>\n",
              "      <td>0.155321</td>\n",
              "      <td>0.117128</td>\n",
              "      <td>-0.222725</td>\n",
              "      <td>0.150153</td>\n",
              "      <td>1.000000</td>\n",
              "      <td>0.190336</td>\n",
              "    </tr>\n",
              "    <tr>\n",
              "      <th>number_of_reviews_ltm</th>\n",
              "      <td>-0.054654</td>\n",
              "      <td>0.094342</td>\n",
              "      <td>0.072438</td>\n",
              "      <td>-0.453455</td>\n",
              "      <td>-0.065478</td>\n",
              "      <td>0.190336</td>\n",
              "      <td>1.000000</td>\n",
              "    </tr>\n",
              "  </tbody>\n",
              "</table>\n",
              "</div>\n",
              "      <button class=\"colab-df-convert\" onclick=\"convertToInteractive('df-1e5523f3-04ca-46f8-a27a-e307640d8344')\"\n",
              "              title=\"Convert this dataframe to an interactive table.\"\n",
              "              style=\"display:none;\">\n",
              "        \n",
              "  <svg xmlns=\"http://www.w3.org/2000/svg\" height=\"24px\"viewBox=\"0 0 24 24\"\n",
              "       width=\"24px\">\n",
              "    <path d=\"M0 0h24v24H0V0z\" fill=\"none\"/>\n",
              "    <path d=\"M18.56 5.44l.94 2.06.94-2.06 2.06-.94-2.06-.94-.94-2.06-.94 2.06-2.06.94zm-11 1L8.5 8.5l.94-2.06 2.06-.94-2.06-.94L8.5 2.5l-.94 2.06-2.06.94zm10 10l.94 2.06.94-2.06 2.06-.94-2.06-.94-.94-2.06-.94 2.06-2.06.94z\"/><path d=\"M17.41 7.96l-1.37-1.37c-.4-.4-.92-.59-1.43-.59-.52 0-1.04.2-1.43.59L10.3 9.45l-7.72 7.72c-.78.78-.78 2.05 0 2.83L4 21.41c.39.39.9.59 1.41.59.51 0 1.02-.2 1.41-.59l7.78-7.78 2.81-2.81c.8-.78.8-2.07 0-2.86zM5.41 20L4 18.59l7.72-7.72 1.47 1.35L5.41 20z\"/>\n",
              "  </svg>\n",
              "      </button>\n",
              "      \n",
              "  <style>\n",
              "    .colab-df-container {\n",
              "      display:flex;\n",
              "      flex-wrap:wrap;\n",
              "      gap: 12px;\n",
              "    }\n",
              "\n",
              "    .colab-df-convert {\n",
              "      background-color: #E8F0FE;\n",
              "      border: none;\n",
              "      border-radius: 50%;\n",
              "      cursor: pointer;\n",
              "      display: none;\n",
              "      fill: #1967D2;\n",
              "      height: 32px;\n",
              "      padding: 0 0 0 0;\n",
              "      width: 32px;\n",
              "    }\n",
              "\n",
              "    .colab-df-convert:hover {\n",
              "      background-color: #E2EBFA;\n",
              "      box-shadow: 0px 1px 2px rgba(60, 64, 67, 0.3), 0px 1px 3px 1px rgba(60, 64, 67, 0.15);\n",
              "      fill: #174EA6;\n",
              "    }\n",
              "\n",
              "    [theme=dark] .colab-df-convert {\n",
              "      background-color: #3B4455;\n",
              "      fill: #D2E3FC;\n",
              "    }\n",
              "\n",
              "    [theme=dark] .colab-df-convert:hover {\n",
              "      background-color: #434B5C;\n",
              "      box-shadow: 0px 1px 3px 1px rgba(0, 0, 0, 0.15);\n",
              "      filter: drop-shadow(0px 1px 2px rgba(0, 0, 0, 0.3));\n",
              "      fill: #FFFFFF;\n",
              "    }\n",
              "  </style>\n",
              "\n",
              "      <script>\n",
              "        const buttonEl =\n",
              "          document.querySelector('#df-1e5523f3-04ca-46f8-a27a-e307640d8344 button.colab-df-convert');\n",
              "        buttonEl.style.display =\n",
              "          google.colab.kernel.accessAllowed ? 'block' : 'none';\n",
              "\n",
              "        async function convertToInteractive(key) {\n",
              "          const element = document.querySelector('#df-1e5523f3-04ca-46f8-a27a-e307640d8344');\n",
              "          const dataTable =\n",
              "            await google.colab.kernel.invokeFunction('convertToInteractive',\n",
              "                                                     [key], {});\n",
              "          if (!dataTable) return;\n",
              "\n",
              "          const docLinkHtml = 'Like what you see? Visit the ' +\n",
              "            '<a target=\"_blank\" href=https://colab.research.google.com/notebooks/data_table.ipynb>data table notebook</a>'\n",
              "            + ' to learn more about interactive tables.';\n",
              "          element.innerHTML = '';\n",
              "          dataTable['output_type'] = 'display_data';\n",
              "          await google.colab.output.renderOutput(dataTable, element);\n",
              "          const docLink = document.createElement('div');\n",
              "          docLink.innerHTML = docLinkHtml;\n",
              "          element.appendChild(docLink);\n",
              "        }\n",
              "      </script>\n",
              "    </div>\n",
              "  </div>\n",
              "  "
            ]
          },
          "metadata": {}
        }
      ]
    },
    {
      "cell_type": "code",
      "source": [
        "import plotly.express as px\n",
        "\n",
        "# Plotar mapa de correlações\n",
        "fig = px.imshow(corr,\n",
        "                labels=dict(x=\"Variáveis\", y=\"Variáveis\", color=\"Coeficiente de correlação\"),\n",
        "                x=corr.columns,\n",
        "                y=corr.columns,\n",
        "                color_continuous_scale='RdBu',\n",
        "                zmin=-1,\n",
        "                zmax=1)\n",
        "\n",
        "# Personalizar o gráfico\n",
        "fig.update_layout(title='Correlação entre variáveis',\n",
        "                  width=800,\n",
        "                  height=800,\n",
        "                  xaxis_showgrid=False,\n",
        "                  yaxis_showgrid=False,\n",
        "                  xaxis_tickangle=-45)\n",
        "\n",
        "# Mostrar o gráfico\n",
        "fig.show()\n"
      ],
      "metadata": {
        "colab": {
          "base_uri": "https://localhost:8080/",
          "height": 817
        },
        "id": "RpSRryi5-MU0",
        "outputId": "54a7f671-3802-47f5-94d3-2b89bb27e256"
      },
      "execution_count": 36,
      "outputs": [
        {
          "output_type": "display_data",
          "data": {
            "text/html": [
              "<html>\n",
              "<head><meta charset=\"utf-8\" /></head>\n",
              "<body>\n",
              "    <div>            <script src=\"https://cdnjs.cloudflare.com/ajax/libs/mathjax/2.7.5/MathJax.js?config=TeX-AMS-MML_SVG\"></script><script type=\"text/javascript\">if (window.MathJax && window.MathJax.Hub && window.MathJax.Hub.Config) {window.MathJax.Hub.Config({SVG: {font: \"STIX-Web\"}});}</script>                <script type=\"text/javascript\">window.PlotlyConfig = {MathJaxConfig: 'local'};</script>\n",
              "        <script src=\"https://cdn.plot.ly/plotly-2.18.2.min.js\"></script>                <div id=\"1f7bc7b3-4ac7-43bc-80f7-617c68e62828\" class=\"plotly-graph-div\" style=\"height:800px; width:800px;\"></div>            <script type=\"text/javascript\">                                    window.PLOTLYENV=window.PLOTLYENV || {};                                    if (document.getElementById(\"1f7bc7b3-4ac7-43bc-80f7-617c68e62828\")) {                    Plotly.newPlot(                        \"1f7bc7b3-4ac7-43bc-80f7-617c68e62828\",                        [{\"coloraxis\":\"coloraxis\",\"name\":\"0\",\"x\":[\"latitude\",\"longitude\",\"price\",\"minimum_nights\",\"calculated_host_listings_count\",\"availability_365\",\"number_of_reviews_ltm\"],\"y\":[\"latitude\",\"longitude\",\"price\",\"minimum_nights\",\"calculated_host_listings_count\",\"availability_365\",\"number_of_reviews_ltm\"],\"z\":[[1.0,0.05954786590165327,0.012930038068855633,0.08026631692401645,0.07622935187071722,-0.015044606711390802,-0.05465364497887309],[0.05954786590165327,1.0,-0.24215641044265626,-0.19464227388974592,-0.08461206094782184,0.15532129192053112,0.09434161765607592],[0.012930038068855633,-0.24215641044265626,1.0,-0.1663044013934702,0.14931602945436792,0.11712819223869392,0.07243793631202243],[0.08026631692401645,-0.19464227388974592,-0.1663044013934702,1.0,0.16940417787937964,-0.22272487484050024,-0.4534551546181747],[0.07622935187071722,-0.08461206094782184,0.14931602945436792,0.16940417787937964,1.0,0.15015330115457312,-0.06547755097735378],[-0.015044606711390802,0.15532129192053112,0.11712819223869392,-0.22272487484050024,0.15015330115457312,1.0,0.19033601337190736],[-0.05465364497887309,0.09434161765607592,0.07243793631202243,-0.4534551546181747,-0.06547755097735378,0.19033601337190736,1.0]],\"type\":\"heatmap\",\"xaxis\":\"x\",\"yaxis\":\"y\",\"hovertemplate\":\"Vari\\u00e1veis: %{x}<br>Vari\\u00e1veis: %{y}<br>Coeficiente de correla\\u00e7\\u00e3o: %{z}<extra></extra>\"}],                        {\"template\":{\"data\":{\"histogram2dcontour\":[{\"type\":\"histogram2dcontour\",\"colorbar\":{\"outlinewidth\":0,\"ticks\":\"\"},\"colorscale\":[[0.0,\"#0d0887\"],[0.1111111111111111,\"#46039f\"],[0.2222222222222222,\"#7201a8\"],[0.3333333333333333,\"#9c179e\"],[0.4444444444444444,\"#bd3786\"],[0.5555555555555556,\"#d8576b\"],[0.6666666666666666,\"#ed7953\"],[0.7777777777777778,\"#fb9f3a\"],[0.8888888888888888,\"#fdca26\"],[1.0,\"#f0f921\"]]}],\"choropleth\":[{\"type\":\"choropleth\",\"colorbar\":{\"outlinewidth\":0,\"ticks\":\"\"}}],\"histogram2d\":[{\"type\":\"histogram2d\",\"colorbar\":{\"outlinewidth\":0,\"ticks\":\"\"},\"colorscale\":[[0.0,\"#0d0887\"],[0.1111111111111111,\"#46039f\"],[0.2222222222222222,\"#7201a8\"],[0.3333333333333333,\"#9c179e\"],[0.4444444444444444,\"#bd3786\"],[0.5555555555555556,\"#d8576b\"],[0.6666666666666666,\"#ed7953\"],[0.7777777777777778,\"#fb9f3a\"],[0.8888888888888888,\"#fdca26\"],[1.0,\"#f0f921\"]]}],\"heatmap\":[{\"type\":\"heatmap\",\"colorbar\":{\"outlinewidth\":0,\"ticks\":\"\"},\"colorscale\":[[0.0,\"#0d0887\"],[0.1111111111111111,\"#46039f\"],[0.2222222222222222,\"#7201a8\"],[0.3333333333333333,\"#9c179e\"],[0.4444444444444444,\"#bd3786\"],[0.5555555555555556,\"#d8576b\"],[0.6666666666666666,\"#ed7953\"],[0.7777777777777778,\"#fb9f3a\"],[0.8888888888888888,\"#fdca26\"],[1.0,\"#f0f921\"]]}],\"heatmapgl\":[{\"type\":\"heatmapgl\",\"colorbar\":{\"outlinewidth\":0,\"ticks\":\"\"},\"colorscale\":[[0.0,\"#0d0887\"],[0.1111111111111111,\"#46039f\"],[0.2222222222222222,\"#7201a8\"],[0.3333333333333333,\"#9c179e\"],[0.4444444444444444,\"#bd3786\"],[0.5555555555555556,\"#d8576b\"],[0.6666666666666666,\"#ed7953\"],[0.7777777777777778,\"#fb9f3a\"],[0.8888888888888888,\"#fdca26\"],[1.0,\"#f0f921\"]]}],\"contourcarpet\":[{\"type\":\"contourcarpet\",\"colorbar\":{\"outlinewidth\":0,\"ticks\":\"\"}}],\"contour\":[{\"type\":\"contour\",\"colorbar\":{\"outlinewidth\":0,\"ticks\":\"\"},\"colorscale\":[[0.0,\"#0d0887\"],[0.1111111111111111,\"#46039f\"],[0.2222222222222222,\"#7201a8\"],[0.3333333333333333,\"#9c179e\"],[0.4444444444444444,\"#bd3786\"],[0.5555555555555556,\"#d8576b\"],[0.6666666666666666,\"#ed7953\"],[0.7777777777777778,\"#fb9f3a\"],[0.8888888888888888,\"#fdca26\"],[1.0,\"#f0f921\"]]}],\"surface\":[{\"type\":\"surface\",\"colorbar\":{\"outlinewidth\":0,\"ticks\":\"\"},\"colorscale\":[[0.0,\"#0d0887\"],[0.1111111111111111,\"#46039f\"],[0.2222222222222222,\"#7201a8\"],[0.3333333333333333,\"#9c179e\"],[0.4444444444444444,\"#bd3786\"],[0.5555555555555556,\"#d8576b\"],[0.6666666666666666,\"#ed7953\"],[0.7777777777777778,\"#fb9f3a\"],[0.8888888888888888,\"#fdca26\"],[1.0,\"#f0f921\"]]}],\"mesh3d\":[{\"type\":\"mesh3d\",\"colorbar\":{\"outlinewidth\":0,\"ticks\":\"\"}}],\"scatter\":[{\"fillpattern\":{\"fillmode\":\"overlay\",\"size\":10,\"solidity\":0.2},\"type\":\"scatter\"}],\"parcoords\":[{\"type\":\"parcoords\",\"line\":{\"colorbar\":{\"outlinewidth\":0,\"ticks\":\"\"}}}],\"scatterpolargl\":[{\"type\":\"scatterpolargl\",\"marker\":{\"colorbar\":{\"outlinewidth\":0,\"ticks\":\"\"}}}],\"bar\":[{\"error_x\":{\"color\":\"#2a3f5f\"},\"error_y\":{\"color\":\"#2a3f5f\"},\"marker\":{\"line\":{\"color\":\"#E5ECF6\",\"width\":0.5},\"pattern\":{\"fillmode\":\"overlay\",\"size\":10,\"solidity\":0.2}},\"type\":\"bar\"}],\"scattergeo\":[{\"type\":\"scattergeo\",\"marker\":{\"colorbar\":{\"outlinewidth\":0,\"ticks\":\"\"}}}],\"scatterpolar\":[{\"type\":\"scatterpolar\",\"marker\":{\"colorbar\":{\"outlinewidth\":0,\"ticks\":\"\"}}}],\"histogram\":[{\"marker\":{\"pattern\":{\"fillmode\":\"overlay\",\"size\":10,\"solidity\":0.2}},\"type\":\"histogram\"}],\"scattergl\":[{\"type\":\"scattergl\",\"marker\":{\"colorbar\":{\"outlinewidth\":0,\"ticks\":\"\"}}}],\"scatter3d\":[{\"type\":\"scatter3d\",\"line\":{\"colorbar\":{\"outlinewidth\":0,\"ticks\":\"\"}},\"marker\":{\"colorbar\":{\"outlinewidth\":0,\"ticks\":\"\"}}}],\"scattermapbox\":[{\"type\":\"scattermapbox\",\"marker\":{\"colorbar\":{\"outlinewidth\":0,\"ticks\":\"\"}}}],\"scatterternary\":[{\"type\":\"scatterternary\",\"marker\":{\"colorbar\":{\"outlinewidth\":0,\"ticks\":\"\"}}}],\"scattercarpet\":[{\"type\":\"scattercarpet\",\"marker\":{\"colorbar\":{\"outlinewidth\":0,\"ticks\":\"\"}}}],\"carpet\":[{\"aaxis\":{\"endlinecolor\":\"#2a3f5f\",\"gridcolor\":\"white\",\"linecolor\":\"white\",\"minorgridcolor\":\"white\",\"startlinecolor\":\"#2a3f5f\"},\"baxis\":{\"endlinecolor\":\"#2a3f5f\",\"gridcolor\":\"white\",\"linecolor\":\"white\",\"minorgridcolor\":\"white\",\"startlinecolor\":\"#2a3f5f\"},\"type\":\"carpet\"}],\"table\":[{\"cells\":{\"fill\":{\"color\":\"#EBF0F8\"},\"line\":{\"color\":\"white\"}},\"header\":{\"fill\":{\"color\":\"#C8D4E3\"},\"line\":{\"color\":\"white\"}},\"type\":\"table\"}],\"barpolar\":[{\"marker\":{\"line\":{\"color\":\"#E5ECF6\",\"width\":0.5},\"pattern\":{\"fillmode\":\"overlay\",\"size\":10,\"solidity\":0.2}},\"type\":\"barpolar\"}],\"pie\":[{\"automargin\":true,\"type\":\"pie\"}]},\"layout\":{\"autotypenumbers\":\"strict\",\"colorway\":[\"#636efa\",\"#EF553B\",\"#00cc96\",\"#ab63fa\",\"#FFA15A\",\"#19d3f3\",\"#FF6692\",\"#B6E880\",\"#FF97FF\",\"#FECB52\"],\"font\":{\"color\":\"#2a3f5f\"},\"hovermode\":\"closest\",\"hoverlabel\":{\"align\":\"left\"},\"paper_bgcolor\":\"white\",\"plot_bgcolor\":\"#E5ECF6\",\"polar\":{\"bgcolor\":\"#E5ECF6\",\"angularaxis\":{\"gridcolor\":\"white\",\"linecolor\":\"white\",\"ticks\":\"\"},\"radialaxis\":{\"gridcolor\":\"white\",\"linecolor\":\"white\",\"ticks\":\"\"}},\"ternary\":{\"bgcolor\":\"#E5ECF6\",\"aaxis\":{\"gridcolor\":\"white\",\"linecolor\":\"white\",\"ticks\":\"\"},\"baxis\":{\"gridcolor\":\"white\",\"linecolor\":\"white\",\"ticks\":\"\"},\"caxis\":{\"gridcolor\":\"white\",\"linecolor\":\"white\",\"ticks\":\"\"}},\"coloraxis\":{\"colorbar\":{\"outlinewidth\":0,\"ticks\":\"\"}},\"colorscale\":{\"sequential\":[[0.0,\"#0d0887\"],[0.1111111111111111,\"#46039f\"],[0.2222222222222222,\"#7201a8\"],[0.3333333333333333,\"#9c179e\"],[0.4444444444444444,\"#bd3786\"],[0.5555555555555556,\"#d8576b\"],[0.6666666666666666,\"#ed7953\"],[0.7777777777777778,\"#fb9f3a\"],[0.8888888888888888,\"#fdca26\"],[1.0,\"#f0f921\"]],\"sequentialminus\":[[0.0,\"#0d0887\"],[0.1111111111111111,\"#46039f\"],[0.2222222222222222,\"#7201a8\"],[0.3333333333333333,\"#9c179e\"],[0.4444444444444444,\"#bd3786\"],[0.5555555555555556,\"#d8576b\"],[0.6666666666666666,\"#ed7953\"],[0.7777777777777778,\"#fb9f3a\"],[0.8888888888888888,\"#fdca26\"],[1.0,\"#f0f921\"]],\"diverging\":[[0,\"#8e0152\"],[0.1,\"#c51b7d\"],[0.2,\"#de77ae\"],[0.3,\"#f1b6da\"],[0.4,\"#fde0ef\"],[0.5,\"#f7f7f7\"],[0.6,\"#e6f5d0\"],[0.7,\"#b8e186\"],[0.8,\"#7fbc41\"],[0.9,\"#4d9221\"],[1,\"#276419\"]]},\"xaxis\":{\"gridcolor\":\"white\",\"linecolor\":\"white\",\"ticks\":\"\",\"title\":{\"standoff\":15},\"zerolinecolor\":\"white\",\"automargin\":true,\"zerolinewidth\":2},\"yaxis\":{\"gridcolor\":\"white\",\"linecolor\":\"white\",\"ticks\":\"\",\"title\":{\"standoff\":15},\"zerolinecolor\":\"white\",\"automargin\":true,\"zerolinewidth\":2},\"scene\":{\"xaxis\":{\"backgroundcolor\":\"#E5ECF6\",\"gridcolor\":\"white\",\"linecolor\":\"white\",\"showbackground\":true,\"ticks\":\"\",\"zerolinecolor\":\"white\",\"gridwidth\":2},\"yaxis\":{\"backgroundcolor\":\"#E5ECF6\",\"gridcolor\":\"white\",\"linecolor\":\"white\",\"showbackground\":true,\"ticks\":\"\",\"zerolinecolor\":\"white\",\"gridwidth\":2},\"zaxis\":{\"backgroundcolor\":\"#E5ECF6\",\"gridcolor\":\"white\",\"linecolor\":\"white\",\"showbackground\":true,\"ticks\":\"\",\"zerolinecolor\":\"white\",\"gridwidth\":2}},\"shapedefaults\":{\"line\":{\"color\":\"#2a3f5f\"}},\"annotationdefaults\":{\"arrowcolor\":\"#2a3f5f\",\"arrowhead\":0,\"arrowwidth\":1},\"geo\":{\"bgcolor\":\"white\",\"landcolor\":\"#E5ECF6\",\"subunitcolor\":\"white\",\"showland\":true,\"showlakes\":true,\"lakecolor\":\"white\"},\"title\":{\"x\":0.05},\"mapbox\":{\"style\":\"light\"}}},\"xaxis\":{\"anchor\":\"y\",\"domain\":[0.0,1.0],\"scaleanchor\":\"y\",\"constrain\":\"domain\",\"title\":{\"text\":\"Vari\\u00e1veis\"},\"showgrid\":false,\"tickangle\":-45},\"yaxis\":{\"anchor\":\"x\",\"domain\":[0.0,1.0],\"autorange\":\"reversed\",\"constrain\":\"domain\",\"title\":{\"text\":\"Vari\\u00e1veis\"},\"showgrid\":false},\"coloraxis\":{\"colorbar\":{\"title\":{\"text\":\"Coeficiente de correla\\u00e7\\u00e3o\"}},\"colorscale\":[[0.0,\"rgb(103,0,31)\"],[0.1,\"rgb(178,24,43)\"],[0.2,\"rgb(214,96,77)\"],[0.3,\"rgb(244,165,130)\"],[0.4,\"rgb(253,219,199)\"],[0.5,\"rgb(247,247,247)\"],[0.6,\"rgb(209,229,240)\"],[0.7,\"rgb(146,197,222)\"],[0.8,\"rgb(67,147,195)\"],[0.9,\"rgb(33,102,172)\"],[1.0,\"rgb(5,48,97)\"]],\"cmin\":-1,\"cmax\":1},\"margin\":{\"t\":60},\"title\":{\"text\":\"Correla\\u00e7\\u00e3o entre vari\\u00e1veis\"},\"width\":800,\"height\":800},                        {\"responsive\": true}                    ).then(function(){\n",
              "                            \n",
              "var gd = document.getElementById('1f7bc7b3-4ac7-43bc-80f7-617c68e62828');\n",
              "var x = new MutationObserver(function (mutations, observer) {{\n",
              "        var display = window.getComputedStyle(gd).display;\n",
              "        if (!display || display === 'none') {{\n",
              "            console.log([gd, 'removed!']);\n",
              "            Plotly.purge(gd);\n",
              "            observer.disconnect();\n",
              "        }}\n",
              "}});\n",
              "\n",
              "// Listen for the removal of the full notebook cells\n",
              "var notebookContainer = gd.closest('#notebook-container');\n",
              "if (notebookContainer) {{\n",
              "    x.observe(notebookContainer, {childList: true});\n",
              "}}\n",
              "\n",
              "// Listen for the clearing of the current output cell\n",
              "var outputEl = gd.closest('.output');\n",
              "if (outputEl) {{\n",
              "    x.observe(outputEl, {childList: true});\n",
              "}}\n",
              "\n",
              "                        })                };                            </script>        </div>\n",
              "</body>\n",
              "</html>"
            ]
          },
          "metadata": {}
        }
      ]
    },
    {
      "cell_type": "markdown",
      "source": [
        "Com base no gráfico acima podemos observar que:\n",
        "\n",
        "A longitude tem uma correlação negativa moderada com o preço, o que sugere que imóveis localizados em regiões com longitudes maiores tendem a ter preços menores.\n",
        "\n",
        "O preço tem uma correlação positiva fraca com a contagem de anúncios de hosts calculada, indicando que os anfitriões com mais anúncios tendem a cobrar mais caro.\n",
        "\n",
        "O mínimo de noites tem uma correlação positiva fraca com a contagem de anúncios de hosts calculada, o que sugere que anfitriões com mais anúncios tendem a exigir mais noites mínimas de estadia, muito provavelmente devio a legislação da cidade para os alugueis de curto prazo.\n",
        "\n",
        "A disponibilidade tem uma correlação positiva fraca com a contagem de anúncios de hosts calculada, o que sugere que anfitriões com mais anúncios tendem a ter mais dias disponíveis ao longo do ano.\n",
        "\n",
        "O número de avaliações nos últimos 12 meses tem uma correlação negativa moderada com o mínimo de noites e uma correlação negativa fraca com o preço, o que sugere que imóveis com preços mais baixos e requisitos de estadia mínima menores tendem a ter mais avaliações nos últimos 12 meses."
      ],
      "metadata": {
        "id": "N9jHi1gjJvLg"
      }
    },
    {
      "cell_type": "markdown",
      "source": [
        "#**<center>CONTINUA NA PARTE 2**"
      ],
      "metadata": {
        "id": "2QjvNLTnWl3h"
      }
    },
    {
      "cell_type": "markdown",
      "source": [
        "**Faremos uma quebra em nosso notebook para que ele fique visivel no Github.**"
      ],
      "metadata": {
        "id": "kQYs2WndUg70"
      }
    },
    {
      "cell_type": "code",
      "source": [
        "#Salvando o dataset em .CSV para deixar disponivel na parte 2 deste notebook.\n",
        "df_clean.to_csv('df_clean.csv', index=False)\n"
      ],
      "metadata": {
        "id": "RO0M0u0gTMEM"
      },
      "execution_count": 37,
      "outputs": []
    }
  ]
}